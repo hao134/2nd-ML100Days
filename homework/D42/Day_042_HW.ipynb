{
 "cells": [
  {
   "cell_type": "markdown",
   "metadata": {},
   "source": [
    "## [作業重點]\n",
    "目前你應該已經要很清楚資料集中，資料的型態是什麼樣子囉！包含特徵 (features) 與標籤 (labels)。因此要記得未來不管什麼專案，必須要把資料清理成相同的格式，才能送進模型訓練。\n",
    "今天的作業開始踏入決策樹這個非常重要的模型，請務必確保你理解模型中每個超參數的意思，並試著調整看看，對最終預測結果的影響為何"
   ]
  },
  {
   "cell_type": "markdown",
   "metadata": {},
   "source": [
    "## 作業\n",
    "\n",
    "1. 試著調整 DecisionTreeClassifier(...) 中的參數，並觀察是否會改變結果？\n",
    "2. 改用其他資料集 (boston, wine)，並與回歸模型的結果進行比較"
   ]
  },
  {
   "cell_type": "code",
   "execution_count": 1,
   "metadata": {},
   "outputs": [],
   "source": [
    "from sklearn import datasets, metrics\n",
    "\n",
    "# 如果是分類問題，請使用 DecisionTreeClassifier，若為回歸問題，請使用 DecisionTreeRegressor\n",
    "from sklearn.tree import DecisionTreeClassifier, DecisionTreeRegressor\n",
    "from sklearn.model_selection import train_test_split"
   ]
  },
  {
   "cell_type": "code",
   "execution_count": 2,
   "metadata": {},
   "outputs": [
    {
     "name": "stdout",
     "output_type": "stream",
     "text": [
      "Accuracy:  0.9736842105263158\n"
     ]
    }
   ],
   "source": [
    "# read in the data\n",
    "iris = datasets.load_iris()\n",
    "\n",
    "# split datas into train and test sets\n",
    "x_train, x_test, y_train, y_test = train_test_split(iris.data, iris.target, test_size = 0.25, random_state = 4)\n",
    "\n",
    "# construct the model and train the model\n",
    "clf = DecisionTreeClassifier()\n",
    "clf.fit(x_train, y_train)\n",
    "\n",
    "# prediction and evaluate\n",
    "y_pred = clf.predict(x_test)\n",
    "acc = metrics.accuracy_score(y_test, y_pred)\n",
    "print('Accuracy: ',acc)\n"
   ]
  },
  {
   "cell_type": "code",
   "execution_count": 3,
   "metadata": {},
   "outputs": [
    {
     "name": "stdout",
     "output_type": "stream",
     "text": [
      "Accuracy:  0.9736842105263158\n"
     ]
    }
   ],
   "source": [
    "# read in the data\n",
    "iris = datasets.load_iris()\n",
    "\n",
    "# split datas into train and test sets\n",
    "x_train, x_test, y_train, y_test = train_test_split(iris.data, iris.target, test_size = 0.25, random_state = 4)\n",
    "\n",
    "# change the parameters\n",
    "clf1 = DecisionTreeClassifier(\n",
    "        criterion = 'entropy',\n",
    "        splitter = 'random',\n",
    "        max_depth = None,\n",
    "        min_samples_split = 2,\n",
    "        min_samples_leaf = 1,\n",
    ")\n",
    "clf1.fit(x_train, y_train)\n",
    "y_pred1 = clf1.predict(x_test)\n",
    "acc1 = metrics.accuracy_score(y_test, y_pred)\n",
    "print('Accuracy: ',acc1)"
   ]
  },
  {
   "cell_type": "markdown",
   "metadata": {},
   "source": [
    "### wine data:\n"
   ]
  },
  {
   "cell_type": "code",
   "execution_count": 4,
   "metadata": {},
   "outputs": [
    {
     "name": "stdout",
     "output_type": "stream",
     "text": [
      "Accuracy:  0.9111111111111111\n"
     ]
    }
   ],
   "source": [
    "# read in the data\n",
    "wine = datasets.load_wine()\n",
    "\n",
    "# split datas into train and test sets\n",
    "x_train, x_test, y_train, y_test = train_test_split(wine.data, wine.target, test_size = 0.25, random_state = 4)\n",
    "\n",
    "# construct the model and train the model\n",
    "clf = DecisionTreeClassifier()\n",
    "clf.fit(x_train, y_train)\n",
    "\n",
    "# prediction and evaluate\n",
    "y_pred = clf.predict(x_test)\n",
    "acc = metrics.accuracy_score(y_test, y_pred)\n",
    "print('Accuracy: ',acc)"
   ]
  },
  {
   "cell_type": "code",
   "execution_count": 5,
   "metadata": {},
   "outputs": [
    {
     "name": "stdout",
     "output_type": "stream",
     "text": [
      "Accuracy:  0.9111111111111111\n"
     ]
    }
   ],
   "source": [
    "wine = datasets.load_wine()\n",
    "\n",
    "# split datas into train and test sets\n",
    "x_train, x_test, y_train, y_test = train_test_split(wine.data, wine.target, test_size = 0.25, random_state = 4)\n",
    "# change the parameters\n",
    "clf1 = DecisionTreeClassifier(\n",
    "        criterion = 'entropy',\n",
    "        splitter = 'random',\n",
    "        max_depth = 10,\n",
    "        min_samples_split = 2,\n",
    "        min_samples_leaf = 1,\n",
    ")\n",
    "clf1.fit(x_train, y_train)\n",
    "y_pred1 = clf1.predict(x_test)\n",
    "acc1 = metrics.accuracy_score(y_test, y_pred)\n",
    "print('Accuracy: ',acc1)"
   ]
  },
  {
   "cell_type": "markdown",
   "metadata": {},
   "source": [
    "### boston datas"
   ]
  },
  {
   "cell_type": "code",
   "execution_count": 6,
   "metadata": {},
   "outputs": [],
   "source": [
    "# read in the data\n",
    "boston = datasets.load_boston()\n",
    "\n",
    "# split datas into train and test sets\n",
    "x_train, x_test, y_train, y_test = train_test_split(boston.data, boston.target, test_size = 0.25, random_state = 4)\n",
    "\n",
    "# construct the model and train the model\n",
    "reg = DecisionTreeRegressor()\n",
    "reg.fit(x_train, y_train)\n",
    "\n",
    "# prediction and evaluate\n",
    "y_pred = reg.predict(x_test)\n",
    "\n",
    "# acc = metrics.accuracy_score(y_test, y_pred)\n",
    "# print('Accuracy: ',acc)"
   ]
  },
  {
   "cell_type": "code",
   "execution_count": 7,
   "metadata": {},
   "outputs": [
    {
     "name": "stdout",
     "output_type": "stream",
     "text": [
      "Accuracy:  0.7055835264839493\n"
     ]
    }
   ],
   "source": [
    "acc = reg.score(x_test, y_test)\n",
    "print('Accuracy: ',acc)"
   ]
  },
  {
   "cell_type": "code",
   "execution_count": 11,
   "metadata": {},
   "outputs": [
    {
     "data": {
      "image/png": "[encoded data removed]",
      "text/plain": [
       "<Figure size 432x288 with 1 Axes>"
      ]
     },
     "metadata": {
      "needs_background": "light"
     },
     "output_type": "display_data"
    }
   ],
   "source": [
    "# try with different depth\n",
    "import numpy as np\n",
    "from sklearn.tree import DecisionTreeRegressor\n",
    "import  matplotlib.pyplot as plt\n",
    "\n",
    "def test_DecisionTreeRegressor_depth(*data,maxdepth):\n",
    "    X_train, X_test, y_train, y_test = data\n",
    "    depths = np.arange(1,maxdepth)\n",
    "    training_scores = []\n",
    "    testing_scores = []\n",
    "    for depth in depths:\n",
    "        regr = DecisionTreeRegressor(max_depth=depth)\n",
    "        regr.fit(X_train,y_train)\n",
    "        training_scores.append(regr.score(X_train,y_train))\n",
    "        testing_scores.append(regr.score(X_test,y_test))\n",
    "    #绘图\n",
    "    fig = plt.figure()\n",
    "    ax = fig.add_subplot(1,1,1)\n",
    "    ax.plot(depths,training_scores,label='traing score')\n",
    "    ax.plot(depths,testing_scores,label='testing_scores')\n",
    "    ax.set_xlabel(\"maxdepth\")\n",
    "    ax.set_ylabel(\"score\")\n",
    "    ax.set_title(\"Decision Tree Regression\")\n",
    "    ax.legend(framealpha=0.5)\n",
    "    plt.show()\n",
    "X_train, X_test, y_train, y_test = train_test_split(boston.data, boston.target, test_size = 0.25, random_state = 4)\n",
    "test_DecisionTreeRegressor_depth(X_train, X_test, y_train, y_test,maxdepth=15)\n",
    "# --------------------- \n",
    "# 作者：Jack_丁明 \n",
    "# 来源：CSDN \n",
    "# 原文：https://blog.csdn.net/dingming001/article/details/80686405 \n",
    "# 版权声明：本文为博主原创文章，转载请附上博文链接！\n"
   ]
  },
  {
   "cell_type": "code",
   "execution_count": null,
   "metadata": {},
   "outputs": [],
   "source": []
  }
 ],
 "metadata": {
  "kernelspec": {
   "display_name": "Python 3",
   "language": "python",
   "name": "python3"
  },
  "language_info": {
   "codemirror_mode": {
    "name": "ipython",
    "version": 3
   },
   "file_extension": ".py",
   "mimetype": "text/x-python",
   "name": "python",
   "nbconvert_exporter": "python",
   "pygments_lexer": "ipython3",
   "version": "3.7.1"
  }
 },
 "nbformat": 4,
 "nbformat_minor": 2
}
