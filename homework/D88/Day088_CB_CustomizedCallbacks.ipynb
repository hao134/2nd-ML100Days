{
 "cells": [
  {
   "cell_type": "markdown",
   "metadata": {},
   "source": [
    "## 範例重點\n",
    "* 學習如何在 keras 中加入自定義的 callbacks\n",
    "* 知道 callback function 可以動作的時機"
   ]
  },
  {
   "cell_type": "code",
   "execution_count": 1,
   "metadata": {},
   "outputs": [
    {
     "name": "stderr",
     "output_type": "stream",
     "text": [
      "Using TensorFlow backend.\n"
     ]
    }
   ],
   "source": [
    "import os\n",
    "import keras\n",
    "\n",
    "# 本範例不需使用 GPU, 將 GPU 設定為 \"無\"\n",
    "os.environ[\"CUDA_VISIBLE_DEVICES\"] = \"\""
   ]
  },
  {
   "cell_type": "code",
   "execution_count": 2,
   "metadata": {},
   "outputs": [],
   "source": [
    "train, test = keras.datasets.cifar10.load_data()"
   ]
  },
  {
   "cell_type": "code",
   "execution_count": 3,
   "metadata": {},
   "outputs": [],
   "source": [
    "## 資料前處理\n",
    "def preproc_x(x, flatten=True):\n",
    "    x = x / 255.\n",
    "    if flatten:\n",
    "        x = x.reshape((len(x), -1))\n",
    "    return x\n",
    "\n",
    "def preproc_y(y, num_classes=10):\n",
    "    if y.shape[-1] == 1:\n",
    "        y = keras.utils.to_categorical(y, num_classes)\n",
    "    return y    "
   ]
  },
  {
   "cell_type": "code",
   "execution_count": 4,
   "metadata": {},
   "outputs": [],
   "source": [
    "x_train, y_train = train\n",
    "x_test, y_test = test\n",
    "\n",
    "# 資料前處理 - X 標準化\n",
    "x_train = preproc_x(x_train)\n",
    "x_test = preproc_x(x_test)\n",
    "\n",
    "# 資料前處理 -Y 轉成 onehot\n",
    "y_train = preproc_y(y_train)\n",
    "y_test = preproc_y(y_test)"
   ]
  },
  {
   "cell_type": "code",
   "execution_count": 5,
   "metadata": {},
   "outputs": [],
   "source": [
    "from keras.layers import BatchNormalization\n",
    "\n",
    "\"\"\"\n",
    "建立神經網路，並加入 BN layer\n",
    "\"\"\"\n",
    "def build_mlp(input_shape, output_units=10, num_neurons=[512, 256, 128]):\n",
    "    input_layer = keras.layers.Input(input_shape)\n",
    "    \n",
    "    for i, n_units in enumerate(num_neurons):\n",
    "        if i == 0:\n",
    "            x = keras.layers.Dense(units=n_units, \n",
    "                                   activation=\"relu\", \n",
    "                                   name=\"hidden_layer\"+str(i+1))(input_layer)\n",
    "            x = BatchNormalization()(x)\n",
    "        else:\n",
    "            x = keras.layers.Dense(units=n_units, \n",
    "                                   activation=\"relu\", \n",
    "                                   name=\"hidden_layer\"+str(i+1))(x)\n",
    "            x = BatchNormalization()(x)\n",
    "    \n",
    "    out = keras.layers.Dense(units=output_units, activation=\"softmax\", name=\"output\")(x)\n",
    "    \n",
    "    model = keras.models.Model(inputs=[input_layer], outputs=[out])\n",
    "    return model"
   ]
  },
  {
   "cell_type": "code",
   "execution_count": 6,
   "metadata": {},
   "outputs": [],
   "source": [
    "## 超參數設定\n",
    "LEARNING_RATE = 1e-3\n",
    "EPOCHS = 50\n",
    "BATCH_SIZE = 1024\n",
    "MOMENTUM = 0.95"
   ]
  },
  {
   "cell_type": "code",
   "execution_count": 7,
   "metadata": {},
   "outputs": [],
   "source": [
    "\"\"\"\n",
    "# 載入 Callbacks，撰寫一個 f1 score 的 callback function\n",
    "\"\"\"\n",
    "\n",
    "from keras.callbacks import Callback\n",
    "from sklearn.metrics import f1_score\n",
    "\n",
    "class f1sc(Callback):\n",
    "    def on_train_begin(self, epoch, logs = {}):\n",
    "        logs = logs or {}\n",
    "        record_items = [\"val_auc\", \"val_f1sc\", \"val_fp\", \"val_fn\", \"val_tp\", \"val_tn\"]\n",
    "        for i in record_items:\n",
    "            if i not in self.params['metrics']:\n",
    "                self.params['metrics'].append(i)\n",
    "    \n",
    "    def on_epoch_end(self, epoch, logs = {}, thres=0.5):\n",
    "        logs = logs or {}\n",
    "        y_true = self.validation_data[1].argmax(axis = 1)\n",
    "        y_pred = self.model.predict(self.validation_data[0])\n",
    "        y_pred = (y_pred[:, 1] >= thres) * 1\n",
    "        \n",
    "        logs[\"val_f1sc\"] = f1_score(y_true = y_true, y_pred = y_pred, average=\"weighted\")\n",
    "        \n",
    "log_f1sc = f1sc()"
   ]
  },
  {
   "cell_type": "code",
   "execution_count": 8,
   "metadata": {
    "scrolled": true
   },
   "outputs": [
    {
     "name": "stdout",
     "output_type": "stream",
     "text": [
      "WARNING:tensorflow:From /Users/shihhaohuang/anaconda3/lib/python3.7/site-packages/tensorflow/python/framework/op_def_library.py:263: colocate_with (from tensorflow.python.framework.ops) is deprecated and will be removed in a future version.\n",
      "Instructions for updating:\n",
      "Colocations handled automatically by placer.\n",
      "_________________________________________________________________\n",
      "Layer (type)                 Output Shape              Param #   \n",
      "=================================================================\n",
      "input_1 (InputLayer)         (None, 3072)              0         \n",
      "_________________________________________________________________\n",
      "hidden_layer1 (Dense)        (None, 512)               1573376   \n",
      "_________________________________________________________________\n",
      "batch_normalization_1 (Batch (None, 512)               2048      \n",
      "_________________________________________________________________\n",
      "hidden_layer2 (Dense)        (None, 256)               131328    \n",
      "_________________________________________________________________\n",
      "batch_normalization_2 (Batch (None, 256)               1024      \n",
      "_________________________________________________________________\n",
      "hidden_layer3 (Dense)        (None, 128)               32896     \n",
      "_________________________________________________________________\n",
      "batch_normalization_3 (Batch (None, 128)               512       \n",
      "_________________________________________________________________\n",
      "output (Dense)               (None, 10)                1290      \n",
      "=================================================================\n",
      "Total params: 1,742,474\n",
      "Trainable params: 1,740,682\n",
      "Non-trainable params: 1,792\n",
      "_________________________________________________________________\n",
      "WARNING:tensorflow:From /Users/shihhaohuang/anaconda3/lib/python3.7/site-packages/tensorflow/python/ops/math_ops.py:3066: to_int32 (from tensorflow.python.ops.math_ops) is deprecated and will be removed in a future version.\n",
      "Instructions for updating:\n",
      "Use tf.cast instead.\n",
      "Train on 50000 samples, validate on 10000 samples\n",
      "Epoch 1/50\n",
      "50000/50000 [==============================] - 13s 252us/step - loss: 2.1996 - acc: 0.2686 - val_loss: 2.0956 - val_acc: 0.3179\n",
      "Epoch 2/50\n",
      " 1024/50000 [..............................] - ETA: 8s - loss: 1.7702 - acc: 0.3691"
     ]
    },
    {
     "name": "stderr",
     "output_type": "stream",
     "text": [
      "/Users/shihhaohuang/anaconda3/lib/python3.7/site-packages/sklearn/metrics/classification.py:1143: UndefinedMetricWarning: F-score is ill-defined and being set to 0.0 in labels with no predicted samples.\n",
      "  'precision', 'predicted', average, warn_for)\n"
     ]
    },
    {
     "name": "stdout",
     "output_type": "stream",
     "text": [
      "50000/50000 [==============================] - 9s 188us/step - loss: 1.7247 - acc: 0.3987 - val_loss: 1.8217 - val_acc: 0.3789\n",
      "Epoch 3/50\n",
      "50000/50000 [==============================] - 9s 186us/step - loss: 1.6062 - acc: 0.4379 - val_loss: 1.7180 - val_acc: 0.4079\n",
      "Epoch 4/50\n",
      "50000/50000 [==============================] - 9s 188us/step - loss: 1.5339 - acc: 0.4638 - val_loss: 1.6246 - val_acc: 0.4357\n",
      "Epoch 5/50\n",
      "50000/50000 [==============================] - 9s 187us/step - loss: 1.4821 - acc: 0.4823 - val_loss: 1.5997 - val_acc: 0.4358\n",
      "Epoch 6/50\n",
      "50000/50000 [==============================] - 10s 191us/step - loss: 1.4381 - acc: 0.4960 - val_loss: 1.5787 - val_acc: 0.4504\n",
      "Epoch 7/50\n",
      "50000/50000 [==============================] - 9s 188us/step - loss: 1.3978 - acc: 0.5135 - val_loss: 1.5499 - val_acc: 0.4544\n",
      "Epoch 8/50\n",
      "50000/50000 [==============================] - 9s 189us/step - loss: 1.3649 - acc: 0.5235 - val_loss: 1.5248 - val_acc: 0.4650\n",
      "Epoch 9/50\n",
      "50000/50000 [==============================] - 9s 189us/step - loss: 1.3321 - acc: 0.5344 - val_loss: 1.5262 - val_acc: 0.4643\n",
      "Epoch 10/50\n",
      "50000/50000 [==============================] - 9s 189us/step - loss: 1.3036 - acc: 0.5461 - val_loss: 1.4995 - val_acc: 0.4720\n",
      "Epoch 11/50\n",
      "50000/50000 [==============================] - 9s 187us/step - loss: 1.2749 - acc: 0.5575 - val_loss: 1.5021 - val_acc: 0.4775\n",
      "Epoch 12/50\n",
      "50000/50000 [==============================] - 9s 189us/step - loss: 1.2507 - acc: 0.5652 - val_loss: 1.4877 - val_acc: 0.4727\n",
      "Epoch 13/50\n",
      "50000/50000 [==============================] - 9s 188us/step - loss: 1.2241 - acc: 0.5771 - val_loss: 1.4851 - val_acc: 0.4809\n",
      "Epoch 14/50\n",
      "50000/50000 [==============================] - 9s 189us/step - loss: 1.2008 - acc: 0.5837 - val_loss: 1.4851 - val_acc: 0.4807\n",
      "Epoch 15/50\n",
      "50000/50000 [==============================] - 9s 187us/step - loss: 1.1766 - acc: 0.5915 - val_loss: 1.4884 - val_acc: 0.4780\n",
      "Epoch 16/50\n",
      "50000/50000 [==============================] - 9s 187us/step - loss: 1.1528 - acc: 0.6025 - val_loss: 1.4661 - val_acc: 0.4863\n",
      "Epoch 17/50\n",
      "50000/50000 [==============================] - 9s 189us/step - loss: 1.1294 - acc: 0.6118 - val_loss: 1.4555 - val_acc: 0.4897\n",
      "Epoch 18/50\n",
      "50000/50000 [==============================] - 9s 186us/step - loss: 1.1070 - acc: 0.6188 - val_loss: 1.4625 - val_acc: 0.4900\n",
      "Epoch 19/50\n",
      "50000/50000 [==============================] - 9s 187us/step - loss: 1.0861 - acc: 0.6273 - val_loss: 1.4692 - val_acc: 0.4902\n",
      "Epoch 20/50\n",
      "50000/50000 [==============================] - 9s 187us/step - loss: 1.0645 - acc: 0.6346 - val_loss: 1.4651 - val_acc: 0.4880\n",
      "Epoch 21/50\n",
      "50000/50000 [==============================] - 9s 187us/step - loss: 1.0416 - acc: 0.6446 - val_loss: 1.4570 - val_acc: 0.4887\n",
      "Epoch 22/50\n",
      "50000/50000 [==============================] - 9s 187us/step - loss: 1.0203 - acc: 0.6528 - val_loss: 1.4652 - val_acc: 0.4921\n",
      "Epoch 23/50\n",
      "50000/50000 [==============================] - 9s 187us/step - loss: 0.9997 - acc: 0.6610 - val_loss: 1.4767 - val_acc: 0.4893\n",
      "Epoch 24/50\n",
      "50000/50000 [==============================] - 9s 187us/step - loss: 0.9792 - acc: 0.6694 - val_loss: 1.4529 - val_acc: 0.4938\n",
      "Epoch 25/50\n",
      "50000/50000 [==============================] - 9s 187us/step - loss: 0.9575 - acc: 0.6790 - val_loss: 1.4604 - val_acc: 0.4976\n",
      "Epoch 26/50\n",
      "50000/50000 [==============================] - 9s 188us/step - loss: 0.9373 - acc: 0.6860 - val_loss: 1.4680 - val_acc: 0.4962\n",
      "Epoch 27/50\n",
      "50000/50000 [==============================] - 9s 188us/step - loss: 0.9181 - acc: 0.6948 - val_loss: 1.4663 - val_acc: 0.4987\n",
      "Epoch 28/50\n",
      "50000/50000 [==============================] - 11s 222us/step - loss: 0.8967 - acc: 0.7017 - val_loss: 1.4766 - val_acc: 0.4922\n",
      "Epoch 29/50\n",
      "50000/50000 [==============================] - 11s 210us/step - loss: 0.8776 - acc: 0.7100 - val_loss: 1.4798 - val_acc: 0.5001\n",
      "Epoch 30/50\n",
      "50000/50000 [==============================] - 9s 187us/step - loss: 0.8588 - acc: 0.7166 - val_loss: 1.4888 - val_acc: 0.4932\n",
      "Epoch 31/50\n",
      "50000/50000 [==============================] - 9s 187us/step - loss: 0.8370 - acc: 0.7250 - val_loss: 1.4875 - val_acc: 0.4949\n",
      "Epoch 32/50\n",
      "50000/50000 [==============================] - 9s 188us/step - loss: 0.8179 - acc: 0.7332 - val_loss: 1.5080 - val_acc: 0.4926\n",
      "Epoch 33/50\n",
      "50000/50000 [==============================] - 9s 188us/step - loss: 0.7984 - acc: 0.7401 - val_loss: 1.5051 - val_acc: 0.4988\n",
      "Epoch 34/50\n",
      "50000/50000 [==============================] - 9s 187us/step - loss: 0.7801 - acc: 0.7474 - val_loss: 1.5105 - val_acc: 0.4976\n",
      "Epoch 35/50\n",
      "50000/50000 [==============================] - 9s 189us/step - loss: 0.7599 - acc: 0.7585 - val_loss: 1.5190 - val_acc: 0.4932\n",
      "Epoch 36/50\n",
      "50000/50000 [==============================] - 9s 188us/step - loss: 0.7418 - acc: 0.7629 - val_loss: 1.5322 - val_acc: 0.4950\n",
      "Epoch 37/50\n",
      "50000/50000 [==============================] - 9s 188us/step - loss: 0.7231 - acc: 0.7706 - val_loss: 1.5219 - val_acc: 0.4972\n",
      "Epoch 38/50\n",
      "50000/50000 [==============================] - 9s 188us/step - loss: 0.7032 - acc: 0.7791 - val_loss: 1.5394 - val_acc: 0.4914\n",
      "Epoch 39/50\n",
      "50000/50000 [==============================] - 9s 188us/step - loss: 0.6858 - acc: 0.7865 - val_loss: 1.5461 - val_acc: 0.4933\n",
      "Epoch 40/50\n",
      "50000/50000 [==============================] - 10s 190us/step - loss: 0.6654 - acc: 0.7954 - val_loss: 1.5544 - val_acc: 0.4933\n",
      "Epoch 41/50\n",
      "50000/50000 [==============================] - 9s 188us/step - loss: 0.6498 - acc: 0.8000 - val_loss: 1.5902 - val_acc: 0.4906\n",
      "Epoch 42/50\n",
      "50000/50000 [==============================] - 9s 187us/step - loss: 0.6296 - acc: 0.8086 - val_loss: 1.5799 - val_acc: 0.4912\n",
      "Epoch 43/50\n",
      "50000/50000 [==============================] - 9s 188us/step - loss: 0.6109 - acc: 0.8165 - val_loss: 1.5854 - val_acc: 0.4935\n",
      "Epoch 44/50\n",
      "50000/50000 [==============================] - 9s 188us/step - loss: 0.5941 - acc: 0.8231 - val_loss: 1.6042 - val_acc: 0.4906\n",
      "Epoch 45/50\n",
      "50000/50000 [==============================] - 9s 187us/step - loss: 0.5778 - acc: 0.8296 - val_loss: 1.6215 - val_acc: 0.4902\n",
      "Epoch 46/50\n",
      "50000/50000 [==============================] - 9s 189us/step - loss: 0.5608 - acc: 0.8360 - val_loss: 1.6505 - val_acc: 0.4917\n",
      "Epoch 47/50\n",
      "50000/50000 [==============================] - 9s 188us/step - loss: 0.5436 - acc: 0.8432 - val_loss: 1.6490 - val_acc: 0.4852\n",
      "Epoch 48/50\n",
      "50000/50000 [==============================] - 9s 188us/step - loss: 0.5254 - acc: 0.8503 - val_loss: 1.6527 - val_acc: 0.4856\n",
      "Epoch 49/50\n",
      "50000/50000 [==============================] - 9s 189us/step - loss: 0.5092 - acc: 0.8566 - val_loss: 1.6818 - val_acc: 0.4863\n",
      "Epoch 50/50\n",
      "50000/50000 [==============================] - 9s 188us/step - loss: 0.4924 - acc: 0.8635 - val_loss: 1.6800 - val_acc: 0.4909\n"
     ]
    }
   ],
   "source": [
    "model = build_mlp(input_shape=x_train.shape[1:])\n",
    "model.summary()\n",
    "optimizer = keras.optimizers.SGD(lr=LEARNING_RATE, nesterov=True, momentum=MOMENTUM)\n",
    "model.compile(loss=\"categorical_crossentropy\", metrics=[\"accuracy\"], optimizer=optimizer)\n",
    "\n",
    "model.fit(x_train, y_train, \n",
    "          epochs=EPOCHS, \n",
    "          batch_size=BATCH_SIZE, \n",
    "          validation_data=(x_test, y_test), \n",
    "          shuffle=True,\n",
    "          callbacks=[log_f1sc]\n",
    "         )\n",
    "\n",
    "# Collect results\n",
    "train_loss = model.history.history[\"loss\"]\n",
    "valid_loss = model.history.history[\"val_loss\"]\n",
    "train_acc = model.history.history[\"acc\"]\n",
    "valid_acc = model.history.history[\"val_acc\"]\n",
    "\n",
    "# 在訓練後，將 f1sc 紀錄調出\n",
    "valid_f1sc = model.history.history['val_f1sc']"
   ]
  },
  {
   "cell_type": "code",
   "execution_count": 9,
   "metadata": {},
   "outputs": [
    {
     "data": {
      "image/png": "[encoded data removed]",
      "text/plain": [
       "<Figure size 432x288 with 1 Axes>"
      ]
     },
     "metadata": {
      "needs_background": "light"
     },
     "output_type": "display_data"
    },
    {
     "data": {
      "image/png": "[encoded data removed]",
      "text/plain": [
       "<Figure size 432x288 with 1 Axes>"
      ]
     },
     "metadata": {
      "needs_background": "light"
     },
     "output_type": "display_data"
    },
    {
     "data": {
      "image/png": "[encoded data removed]",
      "text/plain": [
       "<Figure size 432x288 with 1 Axes>"
      ]
     },
     "metadata": {
      "needs_background": "light"
     },
     "output_type": "display_data"
    }
   ],
   "source": [
    "import matplotlib.pyplot as plt\n",
    "%matplotlib inline\n",
    "\n",
    "plt.plot(range(len(train_loss)), train_loss, label=\"train loss\")\n",
    "plt.plot(range(len(valid_loss)), valid_loss, label=\"valid loss\")\n",
    "plt.legend()\n",
    "plt.title(\"Loss\")\n",
    "plt.show()\n",
    "\n",
    "plt.plot(range(len(train_acc)), train_acc, label=\"train accuracy\")\n",
    "plt.plot(range(len(valid_acc)), valid_acc, label=\"valid accuracy\")\n",
    "plt.legend()\n",
    "plt.title(\"Accuracy\")\n",
    "plt.show()\n",
    "\n",
    "plt.plot(range(len(valid_f1sc)), valid_f1sc, label=\"valid f1-score\")\n",
    "plt.legend()\n",
    "plt.title(\"F1-score\")\n",
    "plt.show()\n"
   ]
  },
  {
   "cell_type": "markdown",
   "metadata": {},
   "source": [
    "## Work\n",
    "1. 請嘗試寫一個 callback 用來記錄各類別在訓練過程中，對驗證集的 True Positive 與 True Negative"
   ]
  }
 ],
 "metadata": {
  "kernelspec": {
   "display_name": "Python 3",
   "language": "python",
   "name": "python3"
  },
  "language_info": {
   "codemirror_mode": {
    "name": "ipython",
    "version": 3
   },
   "file_extension": ".py",
   "mimetype": "text/x-python",
   "name": "python",
   "nbconvert_exporter": "python",
   "pygments_lexer": "ipython3",
   "version": "3.7.1"
  }
 },
 "nbformat": 4,
 "nbformat_minor": 2
}
