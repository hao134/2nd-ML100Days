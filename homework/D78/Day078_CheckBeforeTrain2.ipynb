{
  "nbformat": 4,
  "nbformat_minor": 0,
  "metadata": {
    "colab": {
      "name": "Day078_CheckBeforeTrain.ipynb",
      "version": "0.3.2",
      "provenance": []
    },
    "language_info": {
      "codemirror_mode": {
        "name": "ipython",
        "version": 3
      },
      "file_extension": ".py",
      "mimetype": "text/x-python",
      "name": "python",
      "nbconvert_exporter": "python",
      "pygments_lexer": "ipython3",
      "version": "3.6.5"
    },
    "kernelspec": {
      "name": "python3",
      "display_name": "Python 3"
    },
    "accelerator": "GPU"
  },
  "cells": [
    {
      "cell_type": "markdown",
      "metadata": {
        "id": "NVLzb-BOiMcb",
        "colab_type": "text"
      },
      "source": [
        "## 範例重點\n",
        "### 學習在模型開始前檢查各個環節\n",
        "1. 是否有 GPU 資源\n",
        "2. 將前處理轉為函式，統一處理訓練、驗證與測試集\n",
        "3. 將超參數變數化，易於重複使用函式、模型等"
      ]
    },
    {
      "cell_type": "code",
      "metadata": {
        "id": "IuHAYjhfiMcd",
        "colab_type": "code",
        "colab": {
          "base_uri": "https://localhost:8080/",
          "height": 289
        },
        "outputId": "4779675a-ba54-4870-a60f-92795806161e"
      },
      "source": [
        "## 確認硬體資源 (如果你是在 Linux, 若是在 Windows, 請參考 https://blog.csdn.net/idwtwt/article/details/78017565)\n",
        "!nvidia-smi"
      ],
      "execution_count": 1,
      "outputs": [
        {
          "output_type": "stream",
          "text": [
            "Sat Jul 13 08:53:48 2019       \n",
            "+-----------------------------------------------------------------------------+\n",
            "| NVIDIA-SMI 418.67       Driver Version: 410.79       CUDA Version: 10.0     |\n",
            "|-------------------------------+----------------------+----------------------+\n",
            "| GPU  Name        Persistence-M| Bus-Id        Disp.A | Volatile Uncorr. ECC |\n",
            "| Fan  Temp  Perf  Pwr:Usage/Cap|         Memory-Usage | GPU-Util  Compute M. |\n",
            "|===============================+======================+======================|\n",
            "|   0  Tesla K80           Off  | 00000000:00:04.0 Off |                    0 |\n",
            "| N/A   32C    P0    56W / 149W |    281MiB / 11441MiB |      0%      Default |\n",
            "+-------------------------------+----------------------+----------------------+\n",
            "                                                                               \n",
            "+-----------------------------------------------------------------------------+\n",
            "| Processes:                                                       GPU Memory |\n",
            "|  GPU       PID   Type   Process name                             Usage      |\n",
            "|=============================================================================|\n",
            "+-----------------------------------------------------------------------------+\n"
          ],
          "name": "stdout"
        }
      ]
    },
    {
      "cell_type": "code",
      "metadata": {
        "id": "s2FDzTRAiMch",
        "colab_type": "code",
        "colab": {
          "base_uri": "https://localhost:8080/",
          "height": 34
        },
        "outputId": "e2cae501-ce6f-43da-9c00-8e6d5297b320"
      },
      "source": [
        "import os\n",
        "import keras\n",
        "\n",
        "# 本範例不需使用 GPU, 將 GPU 設定為 \"無\"\n",
        "os.environ[\"CUDA_VISIBLE_DEVICES\"] = \"\""
      ],
      "execution_count": 2,
      "outputs": [
        {
          "output_type": "stream",
          "text": [
            "Using TensorFlow backend.\n"
          ],
          "name": "stderr"
        }
      ]
    },
    {
      "cell_type": "code",
      "metadata": {
        "id": "hDe9zDZ9iMcj",
        "colab_type": "code",
        "colab": {}
      },
      "source": [
        "# 從 Keras 的內建功能中，取得 train 與 test 資料集\n",
        "train, test = keras.datasets.cifar10.load_data()"
      ],
      "execution_count": 0,
      "outputs": []
    },
    {
      "cell_type": "code",
      "metadata": {
        "id": "OVFv4opAiMcl",
        "colab_type": "code",
        "colab": {}
      },
      "source": [
        "## 資料前處理\n",
        "def preproc_x(x, flatten=True):\n",
        "    x = x / 255.\n",
        "    if flatten:\n",
        "        x = x.reshape((len(x), -1))\n",
        "    return x\n",
        "\n",
        "def preproc_y(y, num_classes=10):\n",
        "    if y.shape[-1] == 1:\n",
        "        y = keras.utils.to_categorical(y, num_classes)\n",
        "    return y    "
      ],
      "execution_count": 0,
      "outputs": []
    },
    {
      "cell_type": "code",
      "metadata": {
        "id": "zGxCUMbiiMco",
        "colab_type": "code",
        "colab": {}
      },
      "source": [
        "x_train, y_train = train\n",
        "x_test, y_test = test\n",
        "\n",
        "# 資料前處理 - X 標準化\n",
        "x_train = preproc_x(x_train)\n",
        "x_test = preproc_x(x_test)\n",
        "\n",
        "# 資料前處理 -Y 轉成 onehot\n",
        "y_train = preproc_y(y_train)\n",
        "y_test = preproc_y(y_test)"
      ],
      "execution_count": 0,
      "outputs": []
    },
    {
      "cell_type": "code",
      "metadata": {
        "id": "LGuyyDmBiMcq",
        "colab_type": "code",
        "colab": {}
      },
      "source": [
        "def build_mlp(input_shape, output_units=10, num_neurons=[512, 256, 128]):\n",
        "    input_layer = keras.layers.Input(input_shape)\n",
        "    \n",
        "    for i, n_units in enumerate(num_neurons):\n",
        "        if i == 0:\n",
        "            x = keras.layers.Dense(units=n_units, activation=\"relu\", name=\"hidden_layer\"+str(i+1))(input_layer)\n",
        "        else:\n",
        "            x = keras.layers.Dense(units=n_units, activation=\"relu\", name=\"hidden_layer\"+str(i+1))(x)\n",
        "    \n",
        "    out = keras.layers.Dense(units=output_units, activation=\"softmax\", name=\"output\")(x)\n",
        "    \n",
        "    model = keras.models.Model(inputs=[input_layer], outputs=[out])\n",
        "    return model"
      ],
      "execution_count": 0,
      "outputs": []
    },
    {
      "cell_type": "code",
      "metadata": {
        "id": "xrBqgq2yiMct",
        "colab_type": "code",
        "colab": {
          "base_uri": "https://localhost:8080/",
          "height": 445
        },
        "outputId": "46b3f185-2654-4502-9803-d31209e3a9b4"
      },
      "source": [
        "model = build_mlp(input_shape=x_train.shape[1:])\n",
        "model.summary()"
      ],
      "execution_count": 7,
      "outputs": [
        {
          "output_type": "stream",
          "text": [
            "WARNING: Logging before flag parsing goes to stderr.\n",
            "W0713 08:55:43.258531 140410203924352 deprecation_wrapper.py:119] From /usr/local/lib/python3.6/dist-packages/keras/backend/tensorflow_backend.py:74: The name tf.get_default_graph is deprecated. Please use tf.compat.v1.get_default_graph instead.\n",
            "\n",
            "W0713 08:55:43.279288 140410203924352 deprecation_wrapper.py:119] From /usr/local/lib/python3.6/dist-packages/keras/backend/tensorflow_backend.py:517: The name tf.placeholder is deprecated. Please use tf.compat.v1.placeholder instead.\n",
            "\n",
            "W0713 08:55:43.284205 140410203924352 deprecation_wrapper.py:119] From /usr/local/lib/python3.6/dist-packages/keras/backend/tensorflow_backend.py:4138: The name tf.random_uniform is deprecated. Please use tf.random.uniform instead.\n",
            "\n"
          ],
          "name": "stderr"
        },
        {
          "output_type": "stream",
          "text": [
            "_________________________________________________________________\n",
            "Layer (type)                 Output Shape              Param #   \n",
            "=================================================================\n",
            "input_1 (InputLayer)         (None, 3072)              0         \n",
            "_________________________________________________________________\n",
            "hidden_layer1 (Dense)        (None, 512)               1573376   \n",
            "_________________________________________________________________\n",
            "hidden_layer2 (Dense)        (None, 256)               131328    \n",
            "_________________________________________________________________\n",
            "hidden_layer3 (Dense)        (None, 128)               32896     \n",
            "_________________________________________________________________\n",
            "output (Dense)               (None, 10)                1290      \n",
            "=================================================================\n",
            "Total params: 1,738,890\n",
            "Trainable params: 1,738,890\n",
            "Non-trainable params: 0\n",
            "_________________________________________________________________\n"
          ],
          "name": "stdout"
        }
      ]
    },
    {
      "cell_type": "code",
      "metadata": {
        "id": "4YbFy1p1iMcv",
        "colab_type": "code",
        "colab": {}
      },
      "source": [
        "## 超參數設定\n",
        "LEARNING_RATE = 0.001\n",
        "EPOCHS = 100\n",
        "BATCH_SIZE = 256"
      ],
      "execution_count": 0,
      "outputs": []
    },
    {
      "cell_type": "code",
      "metadata": {
        "id": "PZ1zAGK7iMcx",
        "colab_type": "code",
        "colab": {
          "base_uri": "https://localhost:8080/",
          "height": 105
        },
        "outputId": "13a2956c-003b-43e3-db9e-44b9b948f475"
      },
      "source": [
        "optimizer = keras.optimizers.Adam(lr=LEARNING_RATE)\n",
        "model.compile(loss=\"categorical_crossentropy\", metrics=[\"accuracy\"], optimizer=optimizer)"
      ],
      "execution_count": 9,
      "outputs": [
        {
          "output_type": "stream",
          "text": [
            "W0713 08:55:48.135536 140410203924352 deprecation_wrapper.py:119] From /usr/local/lib/python3.6/dist-packages/keras/optimizers.py:790: The name tf.train.Optimizer is deprecated. Please use tf.compat.v1.train.Optimizer instead.\n",
            "\n",
            "W0713 08:55:48.146314 140410203924352 deprecation_wrapper.py:119] From /usr/local/lib/python3.6/dist-packages/keras/backend/tensorflow_backend.py:3295: The name tf.log is deprecated. Please use tf.math.log instead.\n",
            "\n"
          ],
          "name": "stderr"
        }
      ]
    },
    {
      "cell_type": "code",
      "metadata": {
        "id": "PllA6pr1iMc0",
        "colab_type": "code",
        "colab": {
          "base_uri": "https://localhost:8080/",
          "height": 1000
        },
        "outputId": "03b85643-ed18-4c84-df44-63020bb0ca25"
      },
      "source": [
        "\n",
        "model.fit(x_train, y_train, \n",
        "          epochs=EPOCHS, \n",
        "          batch_size=BATCH_SIZE, \n",
        "          validation_data=(x_test, y_test), \n",
        "          shuffle=True)"
      ],
      "execution_count": 10,
      "outputs": [
        {
          "output_type": "stream",
          "text": [
            "W0713 08:55:51.945728 140410203924352 deprecation.py:323] From /usr/local/lib/python3.6/dist-packages/tensorflow/python/ops/math_grad.py:1250: add_dispatch_support.<locals>.wrapper (from tensorflow.python.ops.array_ops) is deprecated and will be removed in a future version.\n",
            "Instructions for updating:\n",
            "Use tf.where in 2.0, which has the same broadcast rule as np.where\n",
            "W0713 08:55:52.012240 140410203924352 deprecation_wrapper.py:119] From /usr/local/lib/python3.6/dist-packages/keras/backend/tensorflow_backend.py:986: The name tf.assign_add is deprecated. Please use tf.compat.v1.assign_add instead.\n",
            "\n"
          ],
          "name": "stderr"
        },
        {
          "output_type": "stream",
          "text": [
            "Train on 50000 samples, validate on 10000 samples\n",
            "Epoch 1/100\n",
            "50000/50000 [==============================] - 12s 244us/step - loss: 1.9302 - acc: 0.3038 - val_loss: 1.7238 - val_acc: 0.3843\n",
            "Epoch 2/100\n",
            "50000/50000 [==============================] - 12s 249us/step - loss: 1.7047 - acc: 0.3888 - val_loss: 1.6863 - val_acc: 0.4038\n",
            "Epoch 3/100\n",
            "50000/50000 [==============================] - 12s 249us/step - loss: 1.6140 - acc: 0.4222 - val_loss: 1.5877 - val_acc: 0.4306\n",
            "Epoch 4/100\n",
            "50000/50000 [==============================] - 12s 250us/step - loss: 1.5579 - acc: 0.4434 - val_loss: 1.6253 - val_acc: 0.4367\n",
            "Epoch 5/100\n",
            "50000/50000 [==============================] - 12s 249us/step - loss: 1.5080 - acc: 0.4623 - val_loss: 1.5007 - val_acc: 0.4656\n",
            "Epoch 6/100\n",
            "50000/50000 [==============================] - 12s 249us/step - loss: 1.4706 - acc: 0.4743 - val_loss: 1.5014 - val_acc: 0.4642\n",
            "Epoch 7/100\n",
            "50000/50000 [==============================] - 13s 250us/step - loss: 1.4400 - acc: 0.4873 - val_loss: 1.4556 - val_acc: 0.4835\n",
            "Epoch 8/100\n",
            "50000/50000 [==============================] - 13s 251us/step - loss: 1.4132 - acc: 0.4969 - val_loss: 1.4359 - val_acc: 0.4923\n",
            "Epoch 9/100\n",
            "50000/50000 [==============================] - 13s 251us/step - loss: 1.3879 - acc: 0.5065 - val_loss: 1.4879 - val_acc: 0.4672\n",
            "Epoch 10/100\n",
            "50000/50000 [==============================] - 13s 251us/step - loss: 1.3587 - acc: 0.5155 - val_loss: 1.4096 - val_acc: 0.4987\n",
            "Epoch 11/100\n",
            "50000/50000 [==============================] - 13s 250us/step - loss: 1.3361 - acc: 0.5241 - val_loss: 1.4229 - val_acc: 0.4948\n",
            "Epoch 12/100\n",
            "50000/50000 [==============================] - 12s 248us/step - loss: 1.3049 - acc: 0.5365 - val_loss: 1.4519 - val_acc: 0.4854\n",
            "Epoch 13/100\n",
            "50000/50000 [==============================] - 12s 249us/step - loss: 1.2842 - acc: 0.5423 - val_loss: 1.4091 - val_acc: 0.5057\n",
            "Epoch 14/100\n",
            "50000/50000 [==============================] - 13s 251us/step - loss: 1.2636 - acc: 0.5501 - val_loss: 1.3975 - val_acc: 0.5031\n",
            "Epoch 15/100\n",
            "50000/50000 [==============================] - 13s 250us/step - loss: 1.2484 - acc: 0.5552 - val_loss: 1.4015 - val_acc: 0.5064\n",
            "Epoch 16/100\n",
            "50000/50000 [==============================] - 13s 260us/step - loss: 1.2142 - acc: 0.5661 - val_loss: 1.3792 - val_acc: 0.5215\n",
            "Epoch 17/100\n",
            "50000/50000 [==============================] - 13s 252us/step - loss: 1.1944 - acc: 0.5753 - val_loss: 1.4301 - val_acc: 0.4916\n",
            "Epoch 18/100\n",
            "50000/50000 [==============================] - 12s 249us/step - loss: 1.1809 - acc: 0.5802 - val_loss: 1.3994 - val_acc: 0.5037\n",
            "Epoch 19/100\n",
            "50000/50000 [==============================] - 12s 249us/step - loss: 1.1504 - acc: 0.5887 - val_loss: 1.4479 - val_acc: 0.5007\n",
            "Epoch 20/100\n",
            "50000/50000 [==============================] - 12s 246us/step - loss: 1.1282 - acc: 0.5978 - val_loss: 1.3805 - val_acc: 0.5194\n",
            "Epoch 21/100\n",
            "50000/50000 [==============================] - 13s 251us/step - loss: 1.1053 - acc: 0.6059 - val_loss: 1.3753 - val_acc: 0.5180\n",
            "Epoch 22/100\n",
            "50000/50000 [==============================] - 12s 249us/step - loss: 1.0893 - acc: 0.6113 - val_loss: 1.4300 - val_acc: 0.5100\n",
            "Epoch 23/100\n",
            "50000/50000 [==============================] - 12s 247us/step - loss: 1.0661 - acc: 0.6208 - val_loss: 1.3786 - val_acc: 0.5200\n",
            "Epoch 24/100\n",
            "50000/50000 [==============================] - 13s 251us/step - loss: 1.0509 - acc: 0.6244 - val_loss: 1.4022 - val_acc: 0.5198\n",
            "Epoch 25/100\n",
            "50000/50000 [==============================] - 12s 248us/step - loss: 1.0329 - acc: 0.6324 - val_loss: 1.4033 - val_acc: 0.5250\n",
            "Epoch 26/100\n",
            "50000/50000 [==============================] - 12s 250us/step - loss: 1.0204 - acc: 0.6353 - val_loss: 1.4250 - val_acc: 0.5162\n",
            "Epoch 27/100\n",
            "50000/50000 [==============================] - 12s 249us/step - loss: 0.9879 - acc: 0.6466 - val_loss: 1.4169 - val_acc: 0.5195\n",
            "Epoch 28/100\n",
            "50000/50000 [==============================] - 12s 249us/step - loss: 0.9745 - acc: 0.6515 - val_loss: 1.3779 - val_acc: 0.5340\n",
            "Epoch 29/100\n",
            "50000/50000 [==============================] - 13s 250us/step - loss: 0.9507 - acc: 0.6590 - val_loss: 1.4462 - val_acc: 0.5215\n",
            "Epoch 30/100\n",
            "50000/50000 [==============================] - 12s 249us/step - loss: 0.9304 - acc: 0.6693 - val_loss: 1.4559 - val_acc: 0.5230\n",
            "Epoch 31/100\n",
            "50000/50000 [==============================] - 13s 250us/step - loss: 0.9228 - acc: 0.6684 - val_loss: 1.4512 - val_acc: 0.5301\n",
            "Epoch 32/100\n",
            "50000/50000 [==============================] - 12s 249us/step - loss: 0.8998 - acc: 0.6781 - val_loss: 1.4655 - val_acc: 0.5209\n",
            "Epoch 33/100\n",
            "50000/50000 [==============================] - 12s 249us/step - loss: 0.8902 - acc: 0.6832 - val_loss: 1.4757 - val_acc: 0.5309\n",
            "Epoch 34/100\n",
            "50000/50000 [==============================] - 13s 251us/step - loss: 0.8676 - acc: 0.6894 - val_loss: 1.4824 - val_acc: 0.5299\n",
            "Epoch 35/100\n",
            "50000/50000 [==============================] - 12s 249us/step - loss: 0.8514 - acc: 0.6967 - val_loss: 1.4943 - val_acc: 0.5295\n",
            "Epoch 36/100\n",
            "50000/50000 [==============================] - 12s 249us/step - loss: 0.8261 - acc: 0.7057 - val_loss: 1.5439 - val_acc: 0.5216\n",
            "Epoch 37/100\n",
            "50000/50000 [==============================] - 12s 249us/step - loss: 0.8139 - acc: 0.7079 - val_loss: 1.4996 - val_acc: 0.5363\n",
            "Epoch 38/100\n",
            "50000/50000 [==============================] - 13s 250us/step - loss: 0.8028 - acc: 0.7132 - val_loss: 1.5727 - val_acc: 0.5193\n",
            "Epoch 39/100\n",
            "50000/50000 [==============================] - 13s 252us/step - loss: 0.7833 - acc: 0.7191 - val_loss: 1.5946 - val_acc: 0.5182\n",
            "Epoch 40/100\n",
            "50000/50000 [==============================] - 13s 250us/step - loss: 0.7720 - acc: 0.7236 - val_loss: 1.5775 - val_acc: 0.5267\n",
            "Epoch 41/100\n",
            "50000/50000 [==============================] - 13s 260us/step - loss: 0.7480 - acc: 0.7331 - val_loss: 1.6005 - val_acc: 0.5245\n",
            "Epoch 42/100\n",
            "50000/50000 [==============================] - 13s 251us/step - loss: 0.7341 - acc: 0.7380 - val_loss: 1.6520 - val_acc: 0.5227\n",
            "Epoch 43/100\n",
            "50000/50000 [==============================] - 13s 252us/step - loss: 0.7255 - acc: 0.7415 - val_loss: 1.7033 - val_acc: 0.5120\n",
            "Epoch 44/100\n",
            "50000/50000 [==============================] - 13s 250us/step - loss: 0.7031 - acc: 0.7466 - val_loss: 1.6827 - val_acc: 0.5226\n",
            "Epoch 45/100\n",
            "50000/50000 [==============================] - 13s 255us/step - loss: 0.7008 - acc: 0.7483 - val_loss: 1.7408 - val_acc: 0.5210\n",
            "Epoch 46/100\n",
            "50000/50000 [==============================] - 13s 254us/step - loss: 0.6745 - acc: 0.7602 - val_loss: 1.7100 - val_acc: 0.5239\n",
            "Epoch 47/100\n",
            "50000/50000 [==============================] - 13s 255us/step - loss: 0.6628 - acc: 0.7624 - val_loss: 1.7294 - val_acc: 0.5212\n",
            "Epoch 48/100\n",
            "50000/50000 [==============================] - 13s 254us/step - loss: 0.6579 - acc: 0.7647 - val_loss: 1.7702 - val_acc: 0.5242\n",
            "Epoch 49/100\n",
            "50000/50000 [==============================] - 13s 254us/step - loss: 0.6387 - acc: 0.7708 - val_loss: 1.8477 - val_acc: 0.5183\n",
            "Epoch 50/100\n",
            "50000/50000 [==============================] - 13s 254us/step - loss: 0.6236 - acc: 0.7753 - val_loss: 1.8365 - val_acc: 0.5197\n",
            "Epoch 51/100\n",
            "50000/50000 [==============================] - 13s 253us/step - loss: 0.6118 - acc: 0.7813 - val_loss: 1.8502 - val_acc: 0.5130\n",
            "Epoch 52/100\n",
            "50000/50000 [==============================] - 13s 251us/step - loss: 0.6008 - acc: 0.7844 - val_loss: 1.8809 - val_acc: 0.5126\n",
            "Epoch 53/100\n",
            "50000/50000 [==============================] - 13s 251us/step - loss: 0.5831 - acc: 0.7914 - val_loss: 1.9580 - val_acc: 0.5137\n",
            "Epoch 54/100\n",
            "50000/50000 [==============================] - 13s 252us/step - loss: 0.5750 - acc: 0.7943 - val_loss: 1.9337 - val_acc: 0.5185\n",
            "Epoch 55/100\n",
            "50000/50000 [==============================] - 13s 251us/step - loss: 0.5591 - acc: 0.7977 - val_loss: 1.9962 - val_acc: 0.5143\n",
            "Epoch 56/100\n",
            "50000/50000 [==============================] - 12s 250us/step - loss: 0.5711 - acc: 0.7944 - val_loss: 1.9334 - val_acc: 0.5196\n",
            "Epoch 57/100\n",
            "50000/50000 [==============================] - 13s 252us/step - loss: 0.5541 - acc: 0.8002 - val_loss: 1.9788 - val_acc: 0.5213\n",
            "Epoch 58/100\n",
            "50000/50000 [==============================] - 12s 249us/step - loss: 0.5222 - acc: 0.8109 - val_loss: 2.0388 - val_acc: 0.5232\n",
            "Epoch 59/100\n",
            "50000/50000 [==============================] - 12s 249us/step - loss: 0.5258 - acc: 0.8121 - val_loss: 2.0750 - val_acc: 0.5157\n",
            "Epoch 60/100\n",
            "50000/50000 [==============================] - 13s 251us/step - loss: 0.5082 - acc: 0.8192 - val_loss: 2.0797 - val_acc: 0.5069\n",
            "Epoch 61/100\n",
            "50000/50000 [==============================] - 12s 248us/step - loss: 0.5111 - acc: 0.8169 - val_loss: 2.0474 - val_acc: 0.5163\n",
            "Epoch 62/100\n",
            "50000/50000 [==============================] - 12s 250us/step - loss: 0.4880 - acc: 0.8248 - val_loss: 2.1449 - val_acc: 0.5215\n",
            "Epoch 63/100\n",
            "50000/50000 [==============================] - 12s 250us/step - loss: 0.5035 - acc: 0.8191 - val_loss: 2.1286 - val_acc: 0.5147\n",
            "Epoch 64/100\n",
            "50000/50000 [==============================] - 12s 250us/step - loss: 0.4854 - acc: 0.8250 - val_loss: 2.1731 - val_acc: 0.5127\n",
            "Epoch 65/100\n",
            "50000/50000 [==============================] - 13s 250us/step - loss: 0.4702 - acc: 0.8311 - val_loss: 2.2101 - val_acc: 0.5158\n",
            "Epoch 66/100\n",
            "50000/50000 [==============================] - 13s 254us/step - loss: 0.4498 - acc: 0.8400 - val_loss: 2.2148 - val_acc: 0.5141\n",
            "Epoch 67/100\n",
            "50000/50000 [==============================] - 13s 252us/step - loss: 0.4624 - acc: 0.8337 - val_loss: 2.2997 - val_acc: 0.5079\n",
            "Epoch 68/100\n",
            "50000/50000 [==============================] - 13s 252us/step - loss: 0.4475 - acc: 0.8393 - val_loss: 2.3151 - val_acc: 0.5087\n",
            "Epoch 69/100\n",
            "50000/50000 [==============================] - 13s 251us/step - loss: 0.4196 - acc: 0.8505 - val_loss: 2.3299 - val_acc: 0.5040\n",
            "Epoch 70/100\n",
            "50000/50000 [==============================] - 13s 252us/step - loss: 0.4275 - acc: 0.8453 - val_loss: 2.3529 - val_acc: 0.5111\n",
            "Epoch 71/100\n",
            "50000/50000 [==============================] - 13s 252us/step - loss: 0.4173 - acc: 0.8497 - val_loss: 2.3906 - val_acc: 0.5191\n",
            "Epoch 72/100\n",
            "50000/50000 [==============================] - 13s 253us/step - loss: 0.4173 - acc: 0.8504 - val_loss: 2.3879 - val_acc: 0.5115\n",
            "Epoch 73/100\n",
            "50000/50000 [==============================] - 13s 254us/step - loss: 0.4175 - acc: 0.8506 - val_loss: 2.4118 - val_acc: 0.5056\n",
            "Epoch 74/100\n",
            "50000/50000 [==============================] - 13s 254us/step - loss: 0.4064 - acc: 0.8535 - val_loss: 2.4892 - val_acc: 0.5119\n",
            "Epoch 75/100\n",
            "50000/50000 [==============================] - 13s 253us/step - loss: 0.3907 - acc: 0.8596 - val_loss: 2.4727 - val_acc: 0.5167\n",
            "Epoch 76/100\n",
            "50000/50000 [==============================] - 13s 253us/step - loss: 0.3761 - acc: 0.8644 - val_loss: 2.5075 - val_acc: 0.5130\n",
            "Epoch 77/100\n",
            "50000/50000 [==============================] - 13s 252us/step - loss: 0.3845 - acc: 0.8603 - val_loss: 2.5155 - val_acc: 0.5072\n",
            "Epoch 78/100\n",
            "50000/50000 [==============================] - 13s 253us/step - loss: 0.3884 - acc: 0.8627 - val_loss: 2.6429 - val_acc: 0.5036\n",
            "Epoch 79/100\n",
            "50000/50000 [==============================] - 13s 254us/step - loss: 0.3608 - acc: 0.8699 - val_loss: 2.5500 - val_acc: 0.5139\n",
            "Epoch 80/100\n",
            "50000/50000 [==============================] - 13s 256us/step - loss: 0.3793 - acc: 0.8628 - val_loss: 2.7220 - val_acc: 0.5060\n",
            "Epoch 81/100\n",
            "50000/50000 [==============================] - 13s 252us/step - loss: 0.3495 - acc: 0.8756 - val_loss: 2.7431 - val_acc: 0.5104\n",
            "Epoch 82/100\n",
            "50000/50000 [==============================] - 13s 251us/step - loss: 0.3622 - acc: 0.8708 - val_loss: 2.7172 - val_acc: 0.5107\n",
            "Epoch 83/100\n",
            "50000/50000 [==============================] - 13s 250us/step - loss: 0.3387 - acc: 0.8781 - val_loss: 2.8102 - val_acc: 0.5062\n",
            "Epoch 84/100\n",
            "50000/50000 [==============================] - 13s 251us/step - loss: 0.3501 - acc: 0.8745 - val_loss: 2.7841 - val_acc: 0.5091\n",
            "Epoch 85/100\n",
            "50000/50000 [==============================] - 13s 251us/step - loss: 0.3460 - acc: 0.8753 - val_loss: 2.8130 - val_acc: 0.5112\n",
            "Epoch 86/100\n",
            "50000/50000 [==============================] - 13s 254us/step - loss: 0.3473 - acc: 0.8738 - val_loss: 2.7378 - val_acc: 0.5077\n",
            "Epoch 87/100\n",
            "50000/50000 [==============================] - 13s 252us/step - loss: 0.3363 - acc: 0.8790 - val_loss: 2.8943 - val_acc: 0.5055\n",
            "Epoch 88/100\n",
            "50000/50000 [==============================] - 13s 253us/step - loss: 0.3203 - acc: 0.8834 - val_loss: 2.9187 - val_acc: 0.5038\n",
            "Epoch 89/100\n",
            "50000/50000 [==============================] - 13s 250us/step - loss: 0.3150 - acc: 0.8859 - val_loss: 2.8988 - val_acc: 0.5104\n",
            "Epoch 90/100\n",
            "50000/50000 [==============================] - 13s 254us/step - loss: 0.3114 - acc: 0.8881 - val_loss: 2.9331 - val_acc: 0.5025\n",
            "Epoch 91/100\n",
            "50000/50000 [==============================] - 13s 252us/step - loss: 0.3335 - acc: 0.8796 - val_loss: 2.9556 - val_acc: 0.4963\n",
            "Epoch 92/100\n",
            "50000/50000 [==============================] - 13s 252us/step - loss: 0.3372 - acc: 0.8779 - val_loss: 2.9059 - val_acc: 0.5045\n",
            "Epoch 93/100\n",
            "50000/50000 [==============================] - 13s 254us/step - loss: 0.3228 - acc: 0.8826 - val_loss: 2.9412 - val_acc: 0.5076\n",
            "Epoch 94/100\n",
            "50000/50000 [==============================] - 13s 253us/step - loss: 0.3017 - acc: 0.8919 - val_loss: 2.9642 - val_acc: 0.5068\n",
            "Epoch 95/100\n",
            "50000/50000 [==============================] - 13s 254us/step - loss: 0.2994 - acc: 0.8922 - val_loss: 3.0200 - val_acc: 0.5012\n",
            "Epoch 96/100\n",
            "50000/50000 [==============================] - 13s 253us/step - loss: 0.2972 - acc: 0.8928 - val_loss: 3.0202 - val_acc: 0.5040\n",
            "Epoch 97/100\n",
            "50000/50000 [==============================] - 13s 254us/step - loss: 0.2682 - acc: 0.9044 - val_loss: 3.1395 - val_acc: 0.5049\n",
            "Epoch 98/100\n",
            "50000/50000 [==============================] - 13s 255us/step - loss: 0.2812 - acc: 0.8987 - val_loss: 3.0974 - val_acc: 0.5019\n",
            "Epoch 99/100\n",
            "50000/50000 [==============================] - 13s 257us/step - loss: 0.3012 - acc: 0.8934 - val_loss: 3.0392 - val_acc: 0.5017\n",
            "Epoch 100/100\n",
            "50000/50000 [==============================] - 13s 254us/step - loss: 0.2992 - acc: 0.8925 - val_loss: 3.1291 - val_acc: 0.5055\n"
          ],
          "name": "stdout"
        },
        {
          "output_type": "execute_result",
          "data": {
            "text/plain": [
              "<keras.callbacks.History at 0x7fb3817274e0>"
            ]
          },
          "metadata": {
            "tags": []
          },
          "execution_count": 10
        }
      ]
    },
    {
      "cell_type": "code",
      "metadata": {
        "id": "WdAQply0iMc4",
        "colab_type": "code",
        "colab": {
          "base_uri": "https://localhost:8080/",
          "height": 545
        },
        "outputId": "380caf85-357a-434f-9667-9f853079d129"
      },
      "source": [
        "# 訓練模型並檢視驗證集的結果\n",
        "import matplotlib.pyplot as plt\n",
        "\n",
        "train_loss = model.history.history[\"loss\"]\n",
        "valid_loss = model.history.history[\"val_loss\"]\n",
        "\n",
        "train_acc = model.history.history[\"acc\"]\n",
        "valid_acc = model.history.history[\"val_acc\"]\n",
        "\n",
        "plt.plot(range(len(train_loss)), train_loss, label=\"train loss\")\n",
        "plt.plot(range(len(valid_loss)), valid_loss, label=\"valid loss\")\n",
        "plt.legend()\n",
        "plt.title(\"Loss\")\n",
        "plt.show()\n",
        "\n",
        "plt.plot(range(len(train_acc)), train_acc, label=\"train accuracy\")\n",
        "plt.plot(range(len(valid_acc)), valid_acc, label=\"valid accuracy\")\n",
        "plt.legend()\n",
        "plt.title(\"Accuracy\")\n",
        "plt.show()"
      ],
      "execution_count": 11,
      "outputs": [
        {
          "output_type": "display_data",
          "data": {
            "image/png": "[encoded data removed]",
            "text/plain": [
              "<Figure size 432x288 with 1 Axes>"
            ]
          },
          "metadata": {
            "tags": []
          }
        },
        {
          "output_type": "display_data",
          "data": {
            "image/png": "[encoded data removed]",
            "text/plain": [
              "<Figure size 432x288 with 1 Axes>"
            ]
          },
          "metadata": {
            "tags": []
          }
        }
      ]
    },
    {
      "cell_type": "markdown",
      "metadata": {
        "id": "peLf8en8iMc6",
        "colab_type": "text"
      },
      "source": [
        "## Work\n",
        "1. 請嘗試將 preproc_x 替換成以每筆資料的 min/max 進行標準化至 -1 ~ 1 間，再進行訓練\n",
        "2. 請嘗試將 mlp 疊更深 (e.g 5~10 層)，進行訓練後觀察 learning curve 的走勢\n",
        "3. (optional) 請改用 GPU 進行訓練 (如果你有 GPU 的話)，比較使用 CPU 與 GPU 的訓練速度"
      ]
    }
  ]
}