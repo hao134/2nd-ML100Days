{
  "nbformat": 4,
  "nbformat_minor": 0,
  "metadata": {
    "colab": {
      "name": "Day078_HW.ipynb",
      "version": "0.3.2",
      "provenance": []
    },
    "language_info": {
      "codemirror_mode": {
        "name": "ipython",
        "version": 3
      },
      "file_extension": ".py",
      "mimetype": "text/x-python",
      "name": "python",
      "nbconvert_exporter": "python",
      "pygments_lexer": "ipython3",
      "version": "3.6.5"
    },
    "kernelspec": {
      "name": "python3",
      "display_name": "Python 3"
    },
    "accelerator": "GPU"
  },
  "cells": [
    {
      "cell_type": "markdown",
      "metadata": {
        "id": "IR-bUZgYoy_2",
        "colab_type": "text"
      },
      "source": [
        "## Work\n",
        "1. 請嘗試將 preproc_x 替換成以每筆資料的 min/max 進行標準化至 -1 ~ 1 間，再進行訓練\n",
        "2. 請嘗試將 mlp 疊更深 (e.g 5~10 層)，進行訓練後觀察 learning curve 的走勢\n",
        "3. (optional) 請改用 GPU 進行訓練 (如果你有 GPU 的話)，比較使用 CPU 與 GPU 的訓練速度"
      ]
    },
    {
      "cell_type": "code",
      "metadata": {
        "id": "gnDVI3lCoy_4",
        "colab_type": "code",
        "colab": {
          "base_uri": "https://localhost:8080/",
          "height": 289
        },
        "outputId": "53bfd784-7252-4420-fe44-2b987d403c55"
      },
      "source": [
        "## \n",
        "\"\"\"\n",
        "Your code here (optional)\n",
        "確認硬體資源\n",
        "\"\"\"\n",
        "!nvidia-smi\n"
      ],
      "execution_count": 1,
      "outputs": [
        {
          "output_type": "stream",
          "text": [
            "Sat Jul 13 09:22:47 2019       \n",
            "+-----------------------------------------------------------------------------+\n",
            "| NVIDIA-SMI 418.67       Driver Version: 410.79       CUDA Version: 10.0     |\n",
            "|-------------------------------+----------------------+----------------------+\n",
            "| GPU  Name        Persistence-M| Bus-Id        Disp.A | Volatile Uncorr. ECC |\n",
            "| Fan  Temp  Perf  Pwr:Usage/Cap|         Memory-Usage | GPU-Util  Compute M. |\n",
            "|===============================+======================+======================|\n",
            "|   0  Tesla K80           Off  | 00000000:00:04.0 Off |                    0 |\n",
            "| N/A   33C    P0    56W / 149W |    281MiB / 11441MiB |      0%      Default |\n",
            "+-------------------------------+----------------------+----------------------+\n",
            "                                                                               \n",
            "+-----------------------------------------------------------------------------+\n",
            "| Processes:                                                       GPU Memory |\n",
            "|  GPU       PID   Type   Process name                             Usage      |\n",
            "|=============================================================================|\n",
            "+-----------------------------------------------------------------------------+\n"
          ],
          "name": "stdout"
        }
      ]
    },
    {
      "cell_type": "code",
      "metadata": {
        "id": "MYa3gwR3oy_7",
        "colab_type": "code",
        "colab": {
          "base_uri": "https://localhost:8080/",
          "height": 34
        },
        "outputId": "4e28128f-1304-4afd-9a68-86bf23a922be"
      },
      "source": [
        "import os\n",
        "import keras\n",
        "\n",
        "# 請嘗試設定 GPU：os.environ\n"
      ],
      "execution_count": 2,
      "outputs": [
        {
          "output_type": "stream",
          "text": [
            "Using TensorFlow backend.\n"
          ],
          "name": "stderr"
        }
      ]
    },
    {
      "cell_type": "code",
      "metadata": {
        "id": "0zMBpNxeozAA",
        "colab_type": "code",
        "colab": {}
      },
      "source": [
        "train, test = keras.datasets.cifar10.load_data()"
      ],
      "execution_count": 0,
      "outputs": []
    },
    {
      "cell_type": "code",
      "metadata": {
        "id": "yBuL0szlozAC",
        "colab_type": "code",
        "colab": {}
      },
      "source": [
        "## 資料前處理\n",
        "\"\"\"\n",
        "Your code here\n",
        "\"\"\"\n",
        "def preproc_x(x , flattern = True):\n",
        "    x = ((x-x.min())/(x.max()-x.min()))\n",
        "    if flattern:\n",
        "      x = x.reshape(len(x),-1)\n",
        "    return x\n",
        "\n",
        "def preproc_y(y, num_classes=10):\n",
        "    if y.shape[-1] == 1:\n",
        "        y = keras.utils.to_categorical(y, num_classes)\n",
        "    return y    "
      ],
      "execution_count": 0,
      "outputs": []
    },
    {
      "cell_type": "code",
      "metadata": {
        "id": "CTcEvRtcozAF",
        "colab_type": "code",
        "colab": {}
      },
      "source": [
        "x_train, y_train = train\n",
        "x_test, y_test = test\n",
        "\n",
        "# Preproc the inputs\n",
        "x_train = preproc_x(x_train)\n",
        "x_test = preproc_x(x_test)\n",
        "\n",
        "# Preprc the outputs\n",
        "y_train = preproc_y(y_train)\n",
        "y_test = preproc_y(y_test)"
      ],
      "execution_count": 0,
      "outputs": []
    },
    {
      "cell_type": "code",
      "metadata": {
        "id": "K3qXWNbYozAI",
        "colab_type": "code",
        "colab": {}
      },
      "source": [
        "\"\"\"Code Here\n",
        "建立你的神經網路\n",
        "\"\"\"\n",
        "def build_mlp(input_shape, output_units=10, num_neurons=[512, 256, 128,64,32]):\n",
        "    input_layer = keras.layers.Input(input_shape)\n",
        "    \n",
        "    for i, n_units in enumerate(num_neurons):\n",
        "        if i == 0:\n",
        "            x = keras.layers.Dense(units=n_units, activation=\"relu\", name=\"hidden_layer\"+str(i+1))(input_layer)\n",
        "        else:\n",
        "            x = keras.layers.Dense(units=n_units, activation=\"relu\", name=\"hidden_layer\"+str(i+1))(x)\n",
        "    \n",
        "    out = keras.layers.Dense(units=output_units, activation=\"softmax\", name=\"output\")(x)\n",
        "    \n",
        "    model = keras.models.Model(inputs=[input_layer], outputs=[out])\n",
        "    return model"
      ],
      "execution_count": 0,
      "outputs": []
    },
    {
      "cell_type": "code",
      "metadata": {
        "id": "-ZJ0MXYCubqM",
        "colab_type": "code",
        "colab": {
          "base_uri": "https://localhost:8080/",
          "height": 513
        },
        "outputId": "98aedc92-556e-4655-e541-17d480736352"
      },
      "source": [
        "model = build_mlp(input_shape=x_train.shape[1:])\n",
        "model.summary()"
      ],
      "execution_count": 9,
      "outputs": [
        {
          "output_type": "stream",
          "text": [
            "WARNING: Logging before flag parsing goes to stderr.\n",
            "W0713 09:46:12.193549 140367667980160 deprecation_wrapper.py:119] From /usr/local/lib/python3.6/dist-packages/keras/backend/tensorflow_backend.py:74: The name tf.get_default_graph is deprecated. Please use tf.compat.v1.get_default_graph instead.\n",
            "\n",
            "W0713 09:46:12.218237 140367667980160 deprecation_wrapper.py:119] From /usr/local/lib/python3.6/dist-packages/keras/backend/tensorflow_backend.py:517: The name tf.placeholder is deprecated. Please use tf.compat.v1.placeholder instead.\n",
            "\n",
            "W0713 09:46:12.222052 140367667980160 deprecation_wrapper.py:119] From /usr/local/lib/python3.6/dist-packages/keras/backend/tensorflow_backend.py:4138: The name tf.random_uniform is deprecated. Please use tf.random.uniform instead.\n",
            "\n"
          ],
          "name": "stderr"
        },
        {
          "output_type": "stream",
          "text": [
            "_________________________________________________________________\n",
            "Layer (type)                 Output Shape              Param #   \n",
            "=================================================================\n",
            "input_1 (InputLayer)         (None, 3072)              0         \n",
            "_________________________________________________________________\n",
            "hidden_layer1 (Dense)        (None, 512)               1573376   \n",
            "_________________________________________________________________\n",
            "hidden_layer2 (Dense)        (None, 256)               131328    \n",
            "_________________________________________________________________\n",
            "hidden_layer3 (Dense)        (None, 128)               32896     \n",
            "_________________________________________________________________\n",
            "hidden_layer4 (Dense)        (None, 64)                8256      \n",
            "_________________________________________________________________\n",
            "hidden_layer5 (Dense)        (None, 32)                2080      \n",
            "_________________________________________________________________\n",
            "output (Dense)               (None, 10)                330       \n",
            "=================================================================\n",
            "Total params: 1,748,266\n",
            "Trainable params: 1,748,266\n",
            "Non-trainable params: 0\n",
            "_________________________________________________________________\n"
          ],
          "name": "stdout"
        }
      ]
    },
    {
      "cell_type": "code",
      "metadata": {
        "id": "gs3_rJYoozAL",
        "colab_type": "code",
        "colab": {}
      },
      "source": [
        "## 超參數設定\n",
        "LEARNING_RATE = 0.001\n",
        "EPOCHS = 100\n",
        "BATCH_SIZE = 256"
      ],
      "execution_count": 0,
      "outputs": []
    },
    {
      "cell_type": "code",
      "metadata": {
        "id": "0Swe61wCozAN",
        "colab_type": "code",
        "colab": {
          "base_uri": "https://localhost:8080/",
          "height": 105
        },
        "outputId": "c7086475-b541-473a-973a-5e88d8fe03cd"
      },
      "source": [
        "optimizer = keras.optimizers.Adam(lr=LEARNING_RATE)\n",
        "model.compile(loss=\"categorical_crossentropy\", metrics=[\"accuracy\"], optimizer=optimizer)"
      ],
      "execution_count": 11,
      "outputs": [
        {
          "output_type": "stream",
          "text": [
            "W0713 09:46:43.122915 140367667980160 deprecation_wrapper.py:119] From /usr/local/lib/python3.6/dist-packages/keras/optimizers.py:790: The name tf.train.Optimizer is deprecated. Please use tf.compat.v1.train.Optimizer instead.\n",
            "\n",
            "W0713 09:46:43.132185 140367667980160 deprecation_wrapper.py:119] From /usr/local/lib/python3.6/dist-packages/keras/backend/tensorflow_backend.py:3295: The name tf.log is deprecated. Please use tf.math.log instead.\n",
            "\n"
          ],
          "name": "stderr"
        }
      ]
    },
    {
      "cell_type": "code",
      "metadata": {
        "id": "nQ2qV1tLozAT",
        "colab_type": "code",
        "colab": {
          "base_uri": "https://localhost:8080/",
          "height": 1000
        },
        "outputId": "cea71ba1-0a33-49a6-ae08-54dc82f13d5a"
      },
      "source": [
        "model.fit(x_train, y_train, \n",
        "          epochs=EPOCHS, \n",
        "          batch_size=BATCH_SIZE, \n",
        "          validation_data=(x_test, y_test), \n",
        "          shuffle=True)"
      ],
      "execution_count": 12,
      "outputs": [
        {
          "output_type": "stream",
          "text": [
            "W0713 09:46:45.243284 140367667980160 deprecation.py:323] From /usr/local/lib/python3.6/dist-packages/tensorflow/python/ops/math_grad.py:1250: add_dispatch_support.<locals>.wrapper (from tensorflow.python.ops.array_ops) is deprecated and will be removed in a future version.\n",
            "Instructions for updating:\n",
            "Use tf.where in 2.0, which has the same broadcast rule as np.where\n",
            "W0713 09:46:45.322074 140367667980160 deprecation_wrapper.py:119] From /usr/local/lib/python3.6/dist-packages/keras/backend/tensorflow_backend.py:986: The name tf.assign_add is deprecated. Please use tf.compat.v1.assign_add instead.\n",
            "\n"
          ],
          "name": "stderr"
        },
        {
          "output_type": "stream",
          "text": [
            "Train on 50000 samples, validate on 10000 samples\n",
            "Epoch 1/100\n",
            "50000/50000 [==============================] - 4s 82us/step - loss: 1.9982 - acc: 0.2596 - val_loss: 1.8323 - val_acc: 0.3291\n",
            "Epoch 2/100\n",
            "50000/50000 [==============================] - 3s 59us/step - loss: 1.7397 - acc: 0.3715 - val_loss: 1.7096 - val_acc: 0.3757\n",
            "Epoch 3/100\n",
            "50000/50000 [==============================] - 3s 59us/step - loss: 1.6562 - acc: 0.4058 - val_loss: 1.6485 - val_acc: 0.4002\n",
            "Epoch 4/100\n",
            "50000/50000 [==============================] - 3s 60us/step - loss: 1.5927 - acc: 0.4274 - val_loss: 1.5469 - val_acc: 0.4424\n",
            "Epoch 5/100\n",
            "50000/50000 [==============================] - 3s 59us/step - loss: 1.5372 - acc: 0.4516 - val_loss: 1.5501 - val_acc: 0.4500\n",
            "Epoch 6/100\n",
            "50000/50000 [==============================] - 3s 59us/step - loss: 1.5037 - acc: 0.4601 - val_loss: 1.5176 - val_acc: 0.4505\n",
            "Epoch 7/100\n",
            "50000/50000 [==============================] - 3s 60us/step - loss: 1.4707 - acc: 0.4742 - val_loss: 1.4816 - val_acc: 0.4739\n",
            "Epoch 8/100\n",
            "50000/50000 [==============================] - 3s 59us/step - loss: 1.4375 - acc: 0.4849 - val_loss: 1.4661 - val_acc: 0.4721\n",
            "Epoch 9/100\n",
            "50000/50000 [==============================] - 3s 59us/step - loss: 1.4078 - acc: 0.4962 - val_loss: 1.4335 - val_acc: 0.4913\n",
            "Epoch 10/100\n",
            "50000/50000 [==============================] - 3s 59us/step - loss: 1.3813 - acc: 0.5063 - val_loss: 1.4608 - val_acc: 0.4786\n",
            "Epoch 11/100\n",
            "50000/50000 [==============================] - 3s 60us/step - loss: 1.3562 - acc: 0.5140 - val_loss: 1.4510 - val_acc: 0.4865\n",
            "Epoch 12/100\n",
            "50000/50000 [==============================] - 3s 59us/step - loss: 1.3412 - acc: 0.5210 - val_loss: 1.4082 - val_acc: 0.5003\n",
            "Epoch 13/100\n",
            "50000/50000 [==============================] - 3s 59us/step - loss: 1.3078 - acc: 0.5326 - val_loss: 1.3911 - val_acc: 0.5088\n",
            "Epoch 14/100\n",
            "50000/50000 [==============================] - 3s 59us/step - loss: 1.2876 - acc: 0.5389 - val_loss: 1.4101 - val_acc: 0.5020\n",
            "Epoch 15/100\n",
            "50000/50000 [==============================] - 3s 59us/step - loss: 1.2653 - acc: 0.5466 - val_loss: 1.4206 - val_acc: 0.5011\n",
            "Epoch 16/100\n",
            "50000/50000 [==============================] - 3s 59us/step - loss: 1.2523 - acc: 0.5525 - val_loss: 1.3979 - val_acc: 0.5110\n",
            "Epoch 17/100\n",
            "50000/50000 [==============================] - 3s 60us/step - loss: 1.2174 - acc: 0.5673 - val_loss: 1.3830 - val_acc: 0.5168\n",
            "Epoch 18/100\n",
            "50000/50000 [==============================] - 3s 59us/step - loss: 1.2008 - acc: 0.5702 - val_loss: 1.4146 - val_acc: 0.5005\n",
            "Epoch 19/100\n",
            "50000/50000 [==============================] - 3s 59us/step - loss: 1.1721 - acc: 0.5805 - val_loss: 1.3694 - val_acc: 0.5215\n",
            "Epoch 20/100\n",
            "50000/50000 [==============================] - 3s 59us/step - loss: 1.1662 - acc: 0.5822 - val_loss: 1.3710 - val_acc: 0.5225\n",
            "Epoch 21/100\n",
            "50000/50000 [==============================] - 3s 60us/step - loss: 1.1390 - acc: 0.5936 - val_loss: 1.3908 - val_acc: 0.5160\n",
            "Epoch 22/100\n",
            "50000/50000 [==============================] - 3s 60us/step - loss: 1.1163 - acc: 0.6029 - val_loss: 1.3670 - val_acc: 0.5245\n",
            "Epoch 23/100\n",
            "50000/50000 [==============================] - 3s 59us/step - loss: 1.0970 - acc: 0.6079 - val_loss: 1.3978 - val_acc: 0.5128\n",
            "Epoch 24/100\n",
            "50000/50000 [==============================] - 3s 59us/step - loss: 1.0899 - acc: 0.6110 - val_loss: 1.3899 - val_acc: 0.5132\n",
            "Epoch 25/100\n",
            "50000/50000 [==============================] - 3s 59us/step - loss: 1.0618 - acc: 0.6193 - val_loss: 1.3926 - val_acc: 0.5264\n",
            "Epoch 26/100\n",
            "50000/50000 [==============================] - 3s 59us/step - loss: 1.0433 - acc: 0.6280 - val_loss: 1.4068 - val_acc: 0.5232\n",
            "Epoch 27/100\n",
            "50000/50000 [==============================] - 3s 59us/step - loss: 1.0273 - acc: 0.6335 - val_loss: 1.3860 - val_acc: 0.5257\n",
            "Epoch 28/100\n",
            "50000/50000 [==============================] - 3s 59us/step - loss: 1.0093 - acc: 0.6385 - val_loss: 1.3860 - val_acc: 0.5321\n",
            "Epoch 29/100\n",
            "50000/50000 [==============================] - 3s 59us/step - loss: 0.9873 - acc: 0.6463 - val_loss: 1.4355 - val_acc: 0.5244\n",
            "Epoch 30/100\n",
            "50000/50000 [==============================] - 3s 59us/step - loss: 0.9658 - acc: 0.6522 - val_loss: 1.4170 - val_acc: 0.5278\n",
            "Epoch 31/100\n",
            "50000/50000 [==============================] - 3s 59us/step - loss: 0.9579 - acc: 0.6551 - val_loss: 1.4707 - val_acc: 0.5150\n",
            "Epoch 32/100\n",
            "50000/50000 [==============================] - 3s 59us/step - loss: 0.9358 - acc: 0.6661 - val_loss: 1.4628 - val_acc: 0.5167\n",
            "Epoch 33/100\n",
            "50000/50000 [==============================] - 3s 59us/step - loss: 0.9180 - acc: 0.6699 - val_loss: 1.4774 - val_acc: 0.5257\n",
            "Epoch 34/100\n",
            "50000/50000 [==============================] - 3s 59us/step - loss: 0.8987 - acc: 0.6773 - val_loss: 1.4717 - val_acc: 0.5161\n",
            "Epoch 35/100\n",
            "50000/50000 [==============================] - 3s 59us/step - loss: 0.8787 - acc: 0.6852 - val_loss: 1.4596 - val_acc: 0.5329\n",
            "Epoch 36/100\n",
            "50000/50000 [==============================] - 3s 59us/step - loss: 0.8684 - acc: 0.6894 - val_loss: 1.5320 - val_acc: 0.5194\n",
            "Epoch 37/100\n",
            "50000/50000 [==============================] - 3s 60us/step - loss: 0.8498 - acc: 0.6956 - val_loss: 1.5349 - val_acc: 0.5298\n",
            "Epoch 38/100\n",
            "50000/50000 [==============================] - 3s 59us/step - loss: 0.8331 - acc: 0.7004 - val_loss: 1.5334 - val_acc: 0.5270\n",
            "Epoch 39/100\n",
            "50000/50000 [==============================] - 3s 59us/step - loss: 0.8287 - acc: 0.7034 - val_loss: 1.5751 - val_acc: 0.5142\n",
            "Epoch 40/100\n",
            "50000/50000 [==============================] - 3s 59us/step - loss: 0.8148 - acc: 0.7091 - val_loss: 1.5398 - val_acc: 0.5263\n",
            "Epoch 41/100\n",
            "50000/50000 [==============================] - 3s 59us/step - loss: 0.7851 - acc: 0.7184 - val_loss: 1.5884 - val_acc: 0.5145\n",
            "Epoch 42/100\n",
            "50000/50000 [==============================] - 3s 59us/step - loss: 0.7705 - acc: 0.7257 - val_loss: 1.6149 - val_acc: 0.5202\n",
            "Epoch 43/100\n",
            "50000/50000 [==============================] - 3s 59us/step - loss: 0.7571 - acc: 0.7293 - val_loss: 1.6329 - val_acc: 0.5263\n",
            "Epoch 44/100\n",
            "50000/50000 [==============================] - 3s 59us/step - loss: 0.7451 - acc: 0.7334 - val_loss: 1.6196 - val_acc: 0.5269\n",
            "Epoch 45/100\n",
            "50000/50000 [==============================] - 3s 59us/step - loss: 0.7352 - acc: 0.7354 - val_loss: 1.6419 - val_acc: 0.5245\n",
            "Epoch 46/100\n",
            "50000/50000 [==============================] - 3s 59us/step - loss: 0.7148 - acc: 0.7442 - val_loss: 1.6858 - val_acc: 0.5140\n",
            "Epoch 47/100\n",
            "50000/50000 [==============================] - 3s 59us/step - loss: 0.7121 - acc: 0.7443 - val_loss: 1.7035 - val_acc: 0.5119\n",
            "Epoch 48/100\n",
            "50000/50000 [==============================] - 3s 59us/step - loss: 0.6920 - acc: 0.7531 - val_loss: 1.7128 - val_acc: 0.5200\n",
            "Epoch 49/100\n",
            "50000/50000 [==============================] - 3s 59us/step - loss: 0.6729 - acc: 0.7586 - val_loss: 1.7941 - val_acc: 0.5190\n",
            "Epoch 50/100\n",
            "50000/50000 [==============================] - 3s 59us/step - loss: 0.6574 - acc: 0.7653 - val_loss: 1.7879 - val_acc: 0.5202\n",
            "Epoch 51/100\n",
            "50000/50000 [==============================] - 3s 59us/step - loss: 0.6488 - acc: 0.7675 - val_loss: 1.7900 - val_acc: 0.5128\n",
            "Epoch 52/100\n",
            "50000/50000 [==============================] - 3s 60us/step - loss: 0.6333 - acc: 0.7725 - val_loss: 1.8061 - val_acc: 0.5095\n",
            "Epoch 53/100\n",
            "50000/50000 [==============================] - 3s 60us/step - loss: 0.6352 - acc: 0.7718 - val_loss: 1.8486 - val_acc: 0.5212\n",
            "Epoch 54/100\n",
            "50000/50000 [==============================] - 3s 59us/step - loss: 0.6182 - acc: 0.7778 - val_loss: 1.8809 - val_acc: 0.5173\n",
            "Epoch 55/100\n",
            "50000/50000 [==============================] - 3s 59us/step - loss: 0.6094 - acc: 0.7788 - val_loss: 1.9653 - val_acc: 0.5059\n",
            "Epoch 56/100\n",
            "50000/50000 [==============================] - 3s 59us/step - loss: 0.5867 - acc: 0.7897 - val_loss: 1.9045 - val_acc: 0.5166\n",
            "Epoch 57/100\n",
            "50000/50000 [==============================] - 3s 59us/step - loss: 0.5919 - acc: 0.7882 - val_loss: 1.9509 - val_acc: 0.5199\n",
            "Epoch 58/100\n",
            "50000/50000 [==============================] - 3s 59us/step - loss: 0.5702 - acc: 0.7953 - val_loss: 2.0539 - val_acc: 0.5101\n",
            "Epoch 59/100\n",
            "50000/50000 [==============================] - 3s 59us/step - loss: 0.5699 - acc: 0.7973 - val_loss: 1.9802 - val_acc: 0.5073\n",
            "Epoch 60/100\n",
            "50000/50000 [==============================] - 3s 59us/step - loss: 0.5611 - acc: 0.7979 - val_loss: 2.0111 - val_acc: 0.5151\n",
            "Epoch 61/100\n",
            "50000/50000 [==============================] - 3s 59us/step - loss: 0.5320 - acc: 0.8095 - val_loss: 2.1294 - val_acc: 0.5118\n",
            "Epoch 62/100\n",
            "50000/50000 [==============================] - 3s 59us/step - loss: 0.5470 - acc: 0.8043 - val_loss: 2.0334 - val_acc: 0.5152\n",
            "Epoch 63/100\n",
            "50000/50000 [==============================] - 3s 59us/step - loss: 0.5195 - acc: 0.8152 - val_loss: 2.0704 - val_acc: 0.5111\n",
            "Epoch 64/100\n",
            "50000/50000 [==============================] - 3s 59us/step - loss: 0.5373 - acc: 0.8065 - val_loss: 2.2266 - val_acc: 0.5054\n",
            "Epoch 65/100\n",
            "50000/50000 [==============================] - 3s 59us/step - loss: 0.5179 - acc: 0.8128 - val_loss: 2.1428 - val_acc: 0.5066\n",
            "Epoch 66/100\n",
            "50000/50000 [==============================] - 3s 60us/step - loss: 0.4994 - acc: 0.8227 - val_loss: 2.1994 - val_acc: 0.5080\n",
            "Epoch 67/100\n",
            "50000/50000 [==============================] - 3s 60us/step - loss: 0.4886 - acc: 0.8250 - val_loss: 2.2735 - val_acc: 0.5069\n",
            "Epoch 68/100\n",
            "50000/50000 [==============================] - 3s 59us/step - loss: 0.4909 - acc: 0.8230 - val_loss: 2.2061 - val_acc: 0.5173\n",
            "Epoch 69/100\n",
            "50000/50000 [==============================] - 3s 59us/step - loss: 0.4851 - acc: 0.8255 - val_loss: 2.2734 - val_acc: 0.5106\n",
            "Epoch 70/100\n",
            "50000/50000 [==============================] - 3s 59us/step - loss: 0.4696 - acc: 0.8316 - val_loss: 2.3243 - val_acc: 0.5180\n",
            "Epoch 71/100\n",
            "50000/50000 [==============================] - 3s 60us/step - loss: 0.4591 - acc: 0.8347 - val_loss: 2.2449 - val_acc: 0.5165\n",
            "Epoch 72/100\n",
            "50000/50000 [==============================] - 3s 59us/step - loss: 0.4642 - acc: 0.8342 - val_loss: 2.2796 - val_acc: 0.5094\n",
            "Epoch 73/100\n",
            "50000/50000 [==============================] - 3s 60us/step - loss: 0.4383 - acc: 0.8433 - val_loss: 2.3379 - val_acc: 0.5075\n",
            "Epoch 74/100\n",
            "50000/50000 [==============================] - 3s 59us/step - loss: 0.4476 - acc: 0.8407 - val_loss: 2.4028 - val_acc: 0.5100\n",
            "Epoch 75/100\n",
            "50000/50000 [==============================] - 3s 60us/step - loss: 0.4411 - acc: 0.8399 - val_loss: 2.3692 - val_acc: 0.5121\n",
            "Epoch 76/100\n",
            "50000/50000 [==============================] - 3s 59us/step - loss: 0.4242 - acc: 0.8486 - val_loss: 2.4108 - val_acc: 0.5152\n",
            "Epoch 77/100\n",
            "50000/50000 [==============================] - 3s 59us/step - loss: 0.4210 - acc: 0.8478 - val_loss: 2.5040 - val_acc: 0.5084\n",
            "Epoch 78/100\n",
            "50000/50000 [==============================] - 3s 59us/step - loss: 0.4357 - acc: 0.8439 - val_loss: 2.4779 - val_acc: 0.5114\n",
            "Epoch 79/100\n",
            "50000/50000 [==============================] - 3s 60us/step - loss: 0.4069 - acc: 0.8526 - val_loss: 2.4788 - val_acc: 0.5128\n",
            "Epoch 80/100\n",
            "50000/50000 [==============================] - 3s 59us/step - loss: 0.4061 - acc: 0.8555 - val_loss: 2.5633 - val_acc: 0.5004\n",
            "Epoch 81/100\n",
            "50000/50000 [==============================] - 3s 59us/step - loss: 0.4101 - acc: 0.8527 - val_loss: 2.5582 - val_acc: 0.5083\n",
            "Epoch 82/100\n",
            "50000/50000 [==============================] - 3s 60us/step - loss: 0.4012 - acc: 0.8565 - val_loss: 2.4991 - val_acc: 0.5065\n",
            "Epoch 83/100\n",
            "50000/50000 [==============================] - 3s 60us/step - loss: 0.3919 - acc: 0.8577 - val_loss: 2.5951 - val_acc: 0.5041\n",
            "Epoch 84/100\n",
            "50000/50000 [==============================] - 3s 61us/step - loss: 0.3945 - acc: 0.8576 - val_loss: 2.6128 - val_acc: 0.5077\n",
            "Epoch 85/100\n",
            "50000/50000 [==============================] - 3s 61us/step - loss: 0.3867 - acc: 0.8599 - val_loss: 2.6880 - val_acc: 0.5087\n",
            "Epoch 86/100\n",
            "50000/50000 [==============================] - 3s 61us/step - loss: 0.3649 - acc: 0.8705 - val_loss: 2.6983 - val_acc: 0.5015\n",
            "Epoch 87/100\n",
            "50000/50000 [==============================] - 3s 59us/step - loss: 0.3821 - acc: 0.8643 - val_loss: 2.6771 - val_acc: 0.5036\n",
            "Epoch 88/100\n",
            "50000/50000 [==============================] - 3s 59us/step - loss: 0.3659 - acc: 0.8694 - val_loss: 2.6680 - val_acc: 0.5042\n",
            "Epoch 89/100\n",
            "50000/50000 [==============================] - 3s 59us/step - loss: 0.3758 - acc: 0.8648 - val_loss: 2.6696 - val_acc: 0.5015\n",
            "Epoch 90/100\n",
            "50000/50000 [==============================] - 3s 59us/step - loss: 0.3502 - acc: 0.8754 - val_loss: 2.6697 - val_acc: 0.5035\n",
            "Epoch 91/100\n",
            "50000/50000 [==============================] - 3s 60us/step - loss: 0.3487 - acc: 0.8733 - val_loss: 2.8157 - val_acc: 0.5084\n",
            "Epoch 92/100\n",
            "50000/50000 [==============================] - 3s 59us/step - loss: 0.3404 - acc: 0.8773 - val_loss: 2.7102 - val_acc: 0.5063\n",
            "Epoch 93/100\n",
            "50000/50000 [==============================] - 3s 60us/step - loss: 0.3547 - acc: 0.8722 - val_loss: 2.7756 - val_acc: 0.5088\n",
            "Epoch 94/100\n",
            "50000/50000 [==============================] - 3s 60us/step - loss: 0.3608 - acc: 0.8714 - val_loss: 2.8079 - val_acc: 0.5008\n",
            "Epoch 95/100\n",
            "50000/50000 [==============================] - 3s 59us/step - loss: 0.3533 - acc: 0.8742 - val_loss: 2.7916 - val_acc: 0.4938\n",
            "Epoch 96/100\n",
            "50000/50000 [==============================] - 3s 60us/step - loss: 0.3195 - acc: 0.8855 - val_loss: 2.9677 - val_acc: 0.5102\n",
            "Epoch 97/100\n",
            "50000/50000 [==============================] - 3s 59us/step - loss: 0.3444 - acc: 0.8754 - val_loss: 2.8337 - val_acc: 0.5004\n",
            "Epoch 98/100\n",
            "50000/50000 [==============================] - 3s 59us/step - loss: 0.3062 - acc: 0.8907 - val_loss: 2.9640 - val_acc: 0.5018\n",
            "Epoch 99/100\n",
            "50000/50000 [==============================] - 3s 59us/step - loss: 0.3170 - acc: 0.8864 - val_loss: 2.9256 - val_acc: 0.4999\n",
            "Epoch 100/100\n",
            "50000/50000 [==============================] - 3s 59us/step - loss: 0.3243 - acc: 0.8832 - val_loss: 2.8851 - val_acc: 0.5087\n"
          ],
          "name": "stdout"
        },
        {
          "output_type": "execute_result",
          "data": {
            "text/plain": [
              "<keras.callbacks.History at 0x7fa99a12d320>"
            ]
          },
          "metadata": {
            "tags": []
          },
          "execution_count": 12
        }
      ]
    },
    {
      "cell_type": "code",
      "metadata": {
        "id": "KJ8Jzkq3ozAd",
        "colab_type": "code",
        "colab": {
          "base_uri": "https://localhost:8080/",
          "height": 545
        },
        "outputId": "30aa68e9-2672-4af8-9970-4c60dcd73ea6"
      },
      "source": [
        "import matplotlib.pyplot as plt\n",
        "\n",
        "\n",
        "train_loss = model.history.history[\"loss\"]\n",
        "valid_loss = model.history.history[\"val_loss\"]\n",
        "\n",
        "train_acc = model.history.history[\"acc\"]\n",
        "valid_acc = model.history.history[\"val_acc\"]\n",
        "\n",
        "plt.plot(range(len(train_loss)), train_loss, label=\"train loss\")\n",
        "plt.plot(range(len(valid_loss)), valid_loss, label=\"valid loss\")\n",
        "plt.legend()\n",
        "plt.title(\"Loss\")\n",
        "plt.show()\n",
        "\n",
        "plt.plot(range(len(train_acc)), train_acc, label=\"train accuracy\")\n",
        "plt.plot(range(len(valid_acc)), valid_acc, label=\"valid accuracy\")\n",
        "plt.legend()\n",
        "plt.title(\"Accuracy\")\n",
        "plt.show()"
      ],
      "execution_count": 13,
      "outputs": [
        {
          "output_type": "display_data",
          "data": {
            "image/png": "[encoded data removed]",
            "text/plain": [
              "<Figure size 432x288 with 1 Axes>"
            ]
          },
          "metadata": {
            "tags": []
          }
        },
        {
          "output_type": "display_data",
          "data": {
            "image/png": "[encoded data removed]",
            "text/plain": [
              "<Figure size 432x288 with 1 Axes>"
            ]
          },
          "metadata": {
            "tags": []
          }
        }
      ]
    },
    {
      "cell_type": "code",
      "metadata": {
        "id": "jyQXZrZuv59-",
        "colab_type": "code",
        "colab": {}
      },
      "source": [
        ""
      ],
      "execution_count": 0,
      "outputs": []
    }
  ]
}