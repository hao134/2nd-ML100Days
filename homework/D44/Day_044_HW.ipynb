{
 "cells": [
  {
   "cell_type": "markdown",
   "metadata": {},
   "source": [
    "## [作業重點]\n",
    "確保你了解隨機森林模型中每個超參數的意義，並觀察調整超參數對結果的影響"
   ]
  },
  {
   "cell_type": "markdown",
   "metadata": {},
   "source": [
    "## 作業\n",
    "\n",
    "1. 試著調整 RandomForestClassifier(...) 中的參數，並觀察是否會改變結果？\n",
    "2. 改用其他資料集 (boston, wine)，並與回歸模型與決策樹的結果進行比較"
   ]
  },
  {
   "cell_type": "code",
   "execution_count": 1,
   "metadata": {},
   "outputs": [],
   "source": [
    "from sklearn import datasets, metrics\n",
    "from sklearn.ensemble import RandomForestClassifier\n",
    "from sklearn.model_selection import train_test_split\n",
    "import numpy as np"
   ]
  },
  {
   "cell_type": "code",
   "execution_count": 2,
   "metadata": {},
   "outputs": [
    {
     "data": {
      "text/plain": [
       "[1.0, 0.9555555555555556, 0.9777777777777777, 0.9777777777777777]"
      ]
     },
     "execution_count": 2,
     "metadata": {},
     "output_type": "execute_result"
    }
   ],
   "source": [
    "# read the wine datasets\n",
    "wine = datasets.load_wine()\n",
    "# define the model\n",
    "def diff_depth_randomForest(*data,maxdepth):\n",
    "    x_train, x_test, y_train, y_test = data\n",
    "    depths = np.arange(1, maxdepth)\n",
    "    acc = []\n",
    "    for depth in depths:\n",
    "        clf = RandomForestClassifier(n_estimators=20, max_depth=depth)\n",
    "        clf.fit(x_train, y_train)\n",
    "        y_pred = clf.predict(x_test)\n",
    "        acc.append(metrics.accuracy_score(y_test, y_pred))\n",
    "    return acc\n",
    "\n",
    "x_train, x_test, y_train, y_test = train_test_split(wine.data, wine.target, test_size = 0.25, random_state = 4)\n",
    "diff_depth_randomForest(x_train, x_test, y_train, y_test, maxdepth=5)\n",
    "        \n",
    "    "
   ]
  },
  {
   "cell_type": "code",
   "execution_count": 3,
   "metadata": {},
   "outputs": [],
   "source": [
    "from sklearn import datasets, metrics\n",
    "from sklearn.ensemble import RandomForestRegressor\n",
    "from sklearn.model_selection import train_test_split\n",
    "import matplotlib.pyplot as plt\n",
    "import numpy as np"
   ]
  },
  {
   "cell_type": "code",
   "execution_count": 4,
   "metadata": {},
   "outputs": [
    {
     "data": {
      "image/png": "[encoded data removed]",
      "text/plain": [
       "<Figure size 432x288 with 1 Axes>"
      ]
     },
     "metadata": {},
     "output_type": "display_data"
    }
   ],
   "source": [
    "# try with different depth\n",
    "\n",
    "# read in the data\n",
    "boston = datasets.load_boston()\n",
    "\n",
    "#define the model\n",
    "def test_DecisionTreeRegressor_depth(*data,maxdepth):\n",
    "    X_train, X_test, y_train, y_test = data\n",
    "    depths = np.arange(1,maxdepth)\n",
    "    training_scores = []\n",
    "    testing_scores = []\n",
    "    for depth in depths:\n",
    "        regr = RandomForestRegressor(max_depth=depth)\n",
    "        regr.fit(X_train,y_train)\n",
    "        training_scores.append(regr.score(X_train,y_train))\n",
    "        testing_scores.append(regr.score(X_test,y_test))\n",
    "    #绘图\n",
    "    fig = plt.figure()\n",
    "    ax = fig.add_subplot(1,1,1)\n",
    "    ax.plot(depths,training_scores,label='traing score')\n",
    "    ax.plot(depths,testing_scores,label='testing_scores')\n",
    "    ax.set_xlabel(\"maxdepth\")\n",
    "    ax.set_ylabel(\"score\")\n",
    "    ax.set_title(\"Decision Tree Regression\")\n",
    "    ax.legend(framealpha=0.5)\n",
    "    plt.show()\n",
    "X_train, X_test, y_train, y_test = train_test_split(boston.data, boston.target, test_size = 0.25, random_state = 4)\n",
    "test_DecisionTreeRegressor_depth(X_train, X_test, y_train, y_test,maxdepth=15)\n",
    "\n",
    "# --------------------- \n",
    "# 作者：Jack_丁明 \n",
    "# 来源：CSDN \n",
    "# 原文：https://blog.csdn.net/dingming001/article/details/80686405 \n",
    "# 版权声明：本文为博主原创文章，转载请附上博文链接！"
   ]
  },
  {
   "cell_type": "code",
   "execution_count": null,
   "metadata": {},
   "outputs": [],
   "source": []
  }
 ],
 "metadata": {
  "kernelspec": {
   "display_name": "Python 3",
   "language": "python",
   "name": "python3"
  },
  "language_info": {
   "codemirror_mode": {
    "name": "ipython",
    "version": 3
   },
   "file_extension": ".py",
   "mimetype": "text/x-python",
   "name": "python",
   "nbconvert_exporter": "python",
   "pygments_lexer": "ipython3",
   "version": "3.6.5"
  }
 },
 "nbformat": 4,
 "nbformat_minor": 2
}
