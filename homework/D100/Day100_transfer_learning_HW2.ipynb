{
  "nbformat": 4,
  "nbformat_minor": 0,
  "metadata": {
    "kernelspec": {
      "display_name": "Python [conda env:ndp]",
      "language": "python",
      "name": "conda-env-ndp-py"
    },
    "language_info": {
      "codemirror_mode": {
        "name": "ipython",
        "version": 3
      },
      "file_extension": ".py",
      "mimetype": "text/x-python",
      "name": "python",
      "nbconvert_exporter": "python",
      "pygments_lexer": "ipython3",
      "version": "3.5.5"
    },
    "colab": {
      "name": "Day100_transfer_learning_HW.ipynb",
      "version": "0.3.2",
      "provenance": []
    },
    "accelerator": "GPU"
  },
  "cells": [
    {
      "cell_type": "markdown",
      "metadata": {
        "id": "pnOp1q6CY4HU",
        "colab_type": "text"
      },
      "source": [
        "## 作業\n",
        "礙於不是所有同學都有 GPU ，這邊的範例使用的是簡化版本的 ResNet，確保所有同學都能夠順利訓練!\n",
        "\n",
        "\n",
        "最後一天的作業請閱讀這篇非常詳盡的[文章](https://blog.gtwang.org/programming/keras-resnet-50-pre-trained-model-build-dogs-cats-image-classification-system/)，基本上已經涵蓋了所有訓練　CNN 常用的技巧，請使用所有學過的訓練技巧，盡可能地提高 Cifar-10 的 test data 準確率，截圖你最佳的結果並上傳來完成最後一次的作業吧!\n",
        "\n",
        "另外這些技巧在 Kaggle 上也會被許多人使用，更有人會開發一些新的技巧，例如使把預訓練在 ImageNet 上的模型當成 feature extractor 後，再拿擷取出的特徵重新訓練新的模型，這些技巧再進階的課程我們會在提到，有興趣的同學也可以[參考](https://www.kaggle.com/insaff/img-feature-extraction-with-pretrained-resnet)"
      ]
    },
    {
      "cell_type": "code",
      "metadata": {
        "id": "SP3P7-3OY4HY",
        "colab_type": "code",
        "colab": {
          "base_uri": "https://localhost:8080/",
          "height": 388
        },
        "outputId": "7ff0ac6f-bd05-4d8b-dd0b-dee52cabb2e1"
      },
      "source": [
        "!nvidia-smi"
      ],
      "execution_count": 1,
      "outputs": [
        {
          "output_type": "stream",
          "text": [
            "Mon Aug  5 15:55:38 2019       \n",
            "+-----------------------------------------------------------------------------+\n",
            "| NVIDIA-SMI 418.67       Driver Version: 410.79       CUDA Version: 10.0     |\n",
            "|-------------------------------+----------------------+----------------------+\n",
            "| GPU  Name        Persistence-M| Bus-Id        Disp.A | Volatile Uncorr. ECC |\n",
            "| Fan  Temp  Perf  Pwr:Usage/Cap|         Memory-Usage | GPU-Util  Compute M. |\n",
            "|===============================+======================+======================|\n",
            "|   0  Tesla T4            Off  | 00000000:00:04.0 Off |                    0 |\n",
            "| N/A   72C    P0    33W /  70W |   2584MiB / 15079MiB |      0%      Default |\n",
            "+-------------------------------+----------------------+----------------------+\n",
            "                                                                               \n",
            "+-----------------------------------------------------------------------------+\n",
            "| Processes:                                                       GPU Memory |\n",
            "|  GPU       PID   Type   Process name                             Usage      |\n",
            "|=============================================================================|\n",
            "+-----------------------------------------------------------------------------+\n"
          ],
          "name": "stdout"
        }
      ]
    },
    {
      "cell_type": "code",
      "metadata": {
        "id": "-_bA6zqpY8dP",
        "colab_type": "code",
        "colab": {
          "base_uri": "https://localhost:8080/",
          "height": 76
        },
        "outputId": "a45e23c3-2174-4526-9c79-fc7727e3a1fb"
      },
      "source": [
        "from google.colab import drive\n",
        "drive.mount('/content/drive')"
      ],
      "execution_count": 2,
      "outputs": [
        {
          "output_type": "stream",
          "text": [
            "Drive already mounted at /content/drive; to attempt to forcibly remount, call drive.mount(\"/content/drive\", force_remount=True).\n"
          ],
          "name": "stdout"
        }
      ]
    },
    {
      "cell_type": "code",
      "metadata": {
        "id": "IePRIEHtZDEv",
        "colab_type": "code",
        "colab": {
          "base_uri": "https://localhost:8080/",
          "height": 76
        },
        "outputId": "5babc5be-4123-466b-b492-3142a76eae58"
      },
      "source": [
        "pwd"
      ],
      "execution_count": 3,
      "outputs": [
        {
          "output_type": "execute_result",
          "data": {
            "text/plain": [
              "'/content'"
            ]
          },
          "metadata": {
            "tags": []
          },
          "execution_count": 3
        }
      ]
    },
    {
      "cell_type": "code",
      "metadata": {
        "id": "7gZxGdFbZJvR",
        "colab_type": "code",
        "colab": {
          "base_uri": "https://localhost:8080/",
          "height": 76
        },
        "outputId": "64cff498-ad70-40ce-f070-03d2ac56dd1e"
      },
      "source": [
        "cd /content/drive/My \\Drive/Colab \\Notebooks"
      ],
      "execution_count": 4,
      "outputs": [
        {
          "output_type": "stream",
          "text": [
            "/content/drive/My Drive/Colab Notebooks\n"
          ],
          "name": "stdout"
        }
      ]
    },
    {
      "cell_type": "code",
      "metadata": {
        "id": "RaPMuhNmZRTz",
        "colab_type": "code",
        "colab": {
          "base_uri": "https://localhost:8080/",
          "height": 76
        },
        "outputId": "c24c659b-ae5a-46a6-8334-564c9cc2341c"
      },
      "source": [
        "from keras.datasets import cifar10\n",
        "from keras.applications import VGG16 \n",
        "from keras.models import Model\n",
        "from keras.optimizers import Adam\n",
        "from keras.utils import to_categorical\n",
        "from keras.models import Sequential\n",
        "from keras.layers import Dense, Dropout, Activation, Flatten"
      ],
      "execution_count": 5,
      "outputs": [
        {
          "output_type": "stream",
          "text": [
            "Using TensorFlow backend.\n"
          ],
          "name": "stderr"
        }
      ]
    },
    {
      "cell_type": "code",
      "metadata": {
        "id": "3iQzYNksZUHK",
        "colab_type": "code",
        "colab": {
          "base_uri": "https://localhost:8080/",
          "height": 111
        },
        "outputId": "e43887ef-f8fb-4365-c2b6-0d44136651dc"
      },
      "source": [
        "# 讀取資料集並作前處理\n",
        "(x_train, y_train), (x_test, y_test) = cifar10.load_data()\n",
        "print('x_train shape:', x_train.shape)\n",
        "print(x_train.shape[0], 'train samples')\n",
        "print(x_test.shape[0], 'test samples')\n",
        "x_train = x_train.astype('float32')\n",
        "x_test = x_test.astype('float32')\n",
        "\n",
        "y_train = to_categorical(y_train, 10)\n",
        "y_test = to_categorical(y_test, 10)"
      ],
      "execution_count": 6,
      "outputs": [
        {
          "output_type": "stream",
          "text": [
            "x_train shape: (50000, 32, 32, 3)\n",
            "50000 train samples\n",
            "10000 test samples\n"
          ],
          "name": "stdout"
        }
      ]
    },
    {
      "cell_type": "code",
      "metadata": {
        "id": "JwzBPQMyZqcZ",
        "colab_type": "code",
        "colab": {
          "base_uri": "https://localhost:8080/",
          "height": 1000
        },
        "outputId": "115a9e46-8386-4789-84c3-583d2641b271"
      },
      "source": [
        "# 建立VGG16模型\n",
        "conv_vgg = VGG16(weights = 'imagenet',\n",
        "                 include_top = False,\n",
        "                 input_shape = (32, 32, 3))\n",
        "conv_vgg.summary()\n"
      ],
      "execution_count": 7,
      "outputs": [
        {
          "output_type": "stream",
          "text": [
            "WARNING: Logging before flag parsing goes to stderr.\n",
            "W0805 15:56:53.292464 140007923677056 deprecation_wrapper.py:119] From /usr/local/lib/python3.6/dist-packages/keras/backend/tensorflow_backend.py:74: The name tf.get_default_graph is deprecated. Please use tf.compat.v1.get_default_graph instead.\n",
            "\n",
            "W0805 15:56:53.313860 140007923677056 deprecation_wrapper.py:119] From /usr/local/lib/python3.6/dist-packages/keras/backend/tensorflow_backend.py:517: The name tf.placeholder is deprecated. Please use tf.compat.v1.placeholder instead.\n",
            "\n",
            "W0805 15:56:53.318770 140007923677056 deprecation_wrapper.py:119] From /usr/local/lib/python3.6/dist-packages/keras/backend/tensorflow_backend.py:4138: The name tf.random_uniform is deprecated. Please use tf.random.uniform instead.\n",
            "\n",
            "W0805 15:56:53.345170 140007923677056 deprecation_wrapper.py:119] From /usr/local/lib/python3.6/dist-packages/keras/backend/tensorflow_backend.py:3976: The name tf.nn.max_pool is deprecated. Please use tf.nn.max_pool2d instead.\n",
            "\n",
            "W0805 15:56:53.653257 140007923677056 deprecation_wrapper.py:119] From /usr/local/lib/python3.6/dist-packages/keras/backend/tensorflow_backend.py:174: The name tf.get_default_session is deprecated. Please use tf.compat.v1.get_default_session instead.\n",
            "\n",
            "W0805 15:56:53.654470 140007923677056 deprecation_wrapper.py:119] From /usr/local/lib/python3.6/dist-packages/keras/backend/tensorflow_backend.py:181: The name tf.ConfigProto is deprecated. Please use tf.compat.v1.ConfigProto instead.\n",
            "\n"
          ],
          "name": "stderr"
        },
        {
          "output_type": "stream",
          "text": [
            "_________________________________________________________________\n",
            "Layer (type)                 Output Shape              Param #   \n",
            "=================================================================\n",
            "input_1 (InputLayer)         (None, 32, 32, 3)         0         \n",
            "_________________________________________________________________\n",
            "block1_conv1 (Conv2D)        (None, 32, 32, 64)        1792      \n",
            "_________________________________________________________________\n",
            "block1_conv2 (Conv2D)        (None, 32, 32, 64)        36928     \n",
            "_________________________________________________________________\n",
            "block1_pool (MaxPooling2D)   (None, 16, 16, 64)        0         \n",
            "_________________________________________________________________\n",
            "block2_conv1 (Conv2D)        (None, 16, 16, 128)       73856     \n",
            "_________________________________________________________________\n",
            "block2_conv2 (Conv2D)        (None, 16, 16, 128)       147584    \n",
            "_________________________________________________________________\n",
            "block2_pool (MaxPooling2D)   (None, 8, 8, 128)         0         \n",
            "_________________________________________________________________\n",
            "block3_conv1 (Conv2D)        (None, 8, 8, 256)         295168    \n",
            "_________________________________________________________________\n",
            "block3_conv2 (Conv2D)        (None, 8, 8, 256)         590080    \n",
            "_________________________________________________________________\n",
            "block3_conv3 (Conv2D)        (None, 8, 8, 256)         590080    \n",
            "_________________________________________________________________\n",
            "block3_pool (MaxPooling2D)   (None, 4, 4, 256)         0         \n",
            "_________________________________________________________________\n",
            "block4_conv1 (Conv2D)        (None, 4, 4, 512)         1180160   \n",
            "_________________________________________________________________\n",
            "block4_conv2 (Conv2D)        (None, 4, 4, 512)         2359808   \n",
            "_________________________________________________________________\n",
            "block4_conv3 (Conv2D)        (None, 4, 4, 512)         2359808   \n",
            "_________________________________________________________________\n",
            "block4_pool (MaxPooling2D)   (None, 2, 2, 512)         0         \n",
            "_________________________________________________________________\n",
            "block5_conv1 (Conv2D)        (None, 2, 2, 512)         2359808   \n",
            "_________________________________________________________________\n",
            "block5_conv2 (Conv2D)        (None, 2, 2, 512)         2359808   \n",
            "_________________________________________________________________\n",
            "block5_conv3 (Conv2D)        (None, 2, 2, 512)         2359808   \n",
            "_________________________________________________________________\n",
            "block5_pool (MaxPooling2D)   (None, 1, 1, 512)         0         \n",
            "=================================================================\n",
            "Total params: 14,714,688\n",
            "Trainable params: 14,714,688\n",
            "Non-trainable params: 0\n",
            "_________________________________________________________________\n"
          ],
          "name": "stdout"
        }
      ]
    },
    {
      "cell_type": "markdown",
      "metadata": {
        "id": "bI2wozVVdG6n",
        "colab_type": "text"
      },
      "source": [
        "### Feature Extraction with Data Augmentation"
      ]
    },
    {
      "cell_type": "code",
      "metadata": {
        "id": "QQKvCbEteqkk",
        "colab_type": "code",
        "colab": {}
      },
      "source": [
        "batch_size = 64 # batch 的大小，如果出現 OOM error，請降低這個值\n",
        "num_classes = 10 # 類別的數量，Cifar 10 共有 10 個類別\n",
        "epochs = 30 # 訓練整個資料集共 30個循環\n"
      ],
      "execution_count": 0,
      "outputs": []
    },
    {
      "cell_type": "code",
      "metadata": {
        "id": "sYy8aw-WamXa",
        "colab_type": "code",
        "colab": {
          "base_uri": "https://localhost:8080/",
          "height": 392
        },
        "outputId": "1c2f97b1-c382-4174-d25e-04d43936d1e0"
      },
      "source": [
        "model = Sequential()\n",
        "model.add(conv_vgg)\n",
        "model.add(Flatten())\n",
        "model.add(Dense(256))\n",
        "model.add(Activation('relu'))\n",
        "model.add(Dense(num_classes))\n",
        "model.add(Activation('softmax'))\n",
        "model.summary()"
      ],
      "execution_count": 9,
      "outputs": [
        {
          "output_type": "stream",
          "text": [
            "_________________________________________________________________\n",
            "Layer (type)                 Output Shape              Param #   \n",
            "=================================================================\n",
            "vgg16 (Model)                (None, 1, 1, 512)         14714688  \n",
            "_________________________________________________________________\n",
            "flatten_1 (Flatten)          (None, 512)               0         \n",
            "_________________________________________________________________\n",
            "dense_1 (Dense)              (None, 256)               131328    \n",
            "_________________________________________________________________\n",
            "activation_1 (Activation)    (None, 256)               0         \n",
            "_________________________________________________________________\n",
            "dense_2 (Dense)              (None, 10)                2570      \n",
            "_________________________________________________________________\n",
            "activation_2 (Activation)    (None, 10)                0         \n",
            "=================================================================\n",
            "Total params: 14,848,586\n",
            "Trainable params: 14,848,586\n",
            "Non-trainable params: 0\n",
            "_________________________________________________________________\n"
          ],
          "name": "stdout"
        }
      ]
    },
    {
      "cell_type": "code",
      "metadata": {
        "id": "59Xr9Fmue1CU",
        "colab_type": "code",
        "colab": {}
      },
      "source": [
        "from keras.preprocessing.image import ImageDataGenerator\n",
        "%matplotlib inline"
      ],
      "execution_count": 0,
      "outputs": []
    },
    {
      "cell_type": "code",
      "metadata": {
        "id": "ITYN-DZMfVO-",
        "colab_type": "code",
        "colab": {}
      },
      "source": [
        "train_datagen = ImageDataGenerator(\n",
        "    rescale = 1 / 255,\n",
        "    rotation_range = 20,\n",
        "    width_shift_range = 0.2,\n",
        "    height_shift_range = 0.2,\n",
        "    horizontal_flip = True)\n",
        "\n",
        "test_datagen = ImageDataGenerator(rescale = 1 / 255)\n",
        "train_datagen.fit(x_train)"
      ],
      "execution_count": 0,
      "outputs": []
    },
    {
      "cell_type": "code",
      "metadata": {
        "id": "hGABbrVVg0kv",
        "colab_type": "code",
        "colab": {
          "base_uri": "https://localhost:8080/",
          "height": 1000
        },
        "outputId": "2bb1ffe2-bc41-4891-eaa5-27ea589a5899"
      },
      "source": [
        "model.compile( loss = 'categorical_crossentropy',\n",
        "              optimizer = Adam(),\n",
        "              metrics = ['accuracy'])\n",
        "\n",
        "history = model.fit_generator(\n",
        "    train_datagen.flow(x_train, y_train, batch_size = batch_size),\n",
        "    steps_per_epoch = len(x_train)/ batch_size,\n",
        "    verbose = 1,\n",
        "    epochs = epochs,\n",
        "    validation_data = test_datagen.flow(x_test, y_test, batch_size = batch_size),\n",
        "    validation_steps = 50\n",
        ")\n",
        "score = model.evaluate(x_test/255, y_test, verbose = 0)\n",
        "print('Test loss', score[0])\n",
        "print('Test accuracy', score[1])"
      ],
      "execution_count": 14,
      "outputs": [
        {
          "output_type": "stream",
          "text": [
            "W0805 16:06:52.844693 140007923677056 deprecation.py:323] From /usr/local/lib/python3.6/dist-packages/tensorflow/python/ops/math_grad.py:1250: add_dispatch_support.<locals>.wrapper (from tensorflow.python.ops.array_ops) is deprecated and will be removed in a future version.\n",
            "Instructions for updating:\n",
            "Use tf.where in 2.0, which has the same broadcast rule as np.where\n"
          ],
          "name": "stderr"
        },
        {
          "output_type": "stream",
          "text": [
            "Epoch 1/30\n",
            "782/781 [==============================] - 42s 54ms/step - loss: 1.9086 - acc: 0.2312 - val_loss: 1.9180 - val_acc: 0.2975\n",
            "Epoch 2/30\n",
            "782/781 [==============================] - 37s 47ms/step - loss: 1.5184 - acc: 0.4089 - val_loss: 1.2385 - val_acc: 0.5509\n",
            "Epoch 3/30\n",
            "782/781 [==============================] - 37s 47ms/step - loss: 1.2400 - acc: 0.5524 - val_loss: 1.1782 - val_acc: 0.6172\n",
            "Epoch 4/30\n",
            "782/781 [==============================] - 37s 47ms/step - loss: 1.0926 - acc: 0.6161 - val_loss: 0.9610 - val_acc: 0.6783\n",
            "Epoch 5/30\n",
            "782/781 [==============================] - 37s 47ms/step - loss: 1.0047 - acc: 0.6527 - val_loss: 1.0425 - val_acc: 0.6722\n",
            "Epoch 6/30\n",
            "782/781 [==============================] - 37s 47ms/step - loss: 0.9396 - acc: 0.6838 - val_loss: 1.1260 - val_acc: 0.6637\n",
            "Epoch 7/30\n",
            "782/781 [==============================] - 37s 47ms/step - loss: 0.8866 - acc: 0.7011 - val_loss: 0.7286 - val_acc: 0.7643\n",
            "Epoch 8/30\n",
            "782/781 [==============================] - 37s 47ms/step - loss: 0.8470 - acc: 0.7178 - val_loss: 0.8132 - val_acc: 0.7300\n",
            "Epoch 9/30\n",
            "782/781 [==============================] - 37s 47ms/step - loss: 0.7984 - acc: 0.7343 - val_loss: 0.8014 - val_acc: 0.7412\n",
            "Epoch 10/30\n",
            "782/781 [==============================] - 37s 47ms/step - loss: 0.7802 - acc: 0.7440 - val_loss: 0.8555 - val_acc: 0.7338\n",
            "Epoch 11/30\n",
            "782/781 [==============================] - 37s 47ms/step - loss: 0.7504 - acc: 0.7539 - val_loss: 0.7676 - val_acc: 0.7528\n",
            "Epoch 12/30\n",
            "782/781 [==============================] - 37s 47ms/step - loss: 0.7179 - acc: 0.7656 - val_loss: 0.6404 - val_acc: 0.7906\n",
            "Epoch 13/30\n",
            "782/781 [==============================] - 37s 47ms/step - loss: 0.6986 - acc: 0.7733 - val_loss: 0.8088 - val_acc: 0.7655\n",
            "Epoch 14/30\n",
            "782/781 [==============================] - 37s 47ms/step - loss: 0.6737 - acc: 0.7814 - val_loss: 0.7187 - val_acc: 0.7709\n",
            "Epoch 15/30\n",
            "782/781 [==============================] - 37s 47ms/step - loss: 0.6572 - acc: 0.7882 - val_loss: 0.6742 - val_acc: 0.7928\n",
            "Epoch 16/30\n",
            "782/781 [==============================] - 37s 47ms/step - loss: 0.6430 - acc: 0.7915 - val_loss: 0.6587 - val_acc: 0.7893\n",
            "Epoch 17/30\n",
            "782/781 [==============================] - 37s 47ms/step - loss: 0.6194 - acc: 0.7977 - val_loss: 0.6889 - val_acc: 0.7806\n",
            "Epoch 18/30\n",
            "782/781 [==============================] - 37s 47ms/step - loss: 0.6022 - acc: 0.8063 - val_loss: 0.5865 - val_acc: 0.8159\n",
            "Epoch 19/30\n",
            "782/781 [==============================] - 37s 47ms/step - loss: 0.5916 - acc: 0.8077 - val_loss: 0.6246 - val_acc: 0.7995\n",
            "Epoch 20/30\n",
            "782/781 [==============================] - 37s 47ms/step - loss: 0.5877 - acc: 0.8107 - val_loss: 0.6743 - val_acc: 0.7872\n",
            "Epoch 21/30\n",
            "782/781 [==============================] - 37s 47ms/step - loss: 0.5746 - acc: 0.8131 - val_loss: 0.5828 - val_acc: 0.8200\n",
            "Epoch 22/30\n",
            "782/781 [==============================] - 37s 47ms/step - loss: 0.5500 - acc: 0.8219 - val_loss: 0.6595 - val_acc: 0.8011\n",
            "Epoch 23/30\n",
            "782/781 [==============================] - 37s 47ms/step - loss: 0.5447 - acc: 0.8248 - val_loss: 0.6457 - val_acc: 0.7966\n",
            "Epoch 24/30\n",
            "782/781 [==============================] - 37s 47ms/step - loss: 0.5321 - acc: 0.8282 - val_loss: 0.6218 - val_acc: 0.8025\n",
            "Epoch 25/30\n",
            "782/781 [==============================] - 37s 47ms/step - loss: 0.5340 - acc: 0.8280 - val_loss: 0.5124 - val_acc: 0.8450\n",
            "Epoch 26/30\n",
            "782/781 [==============================] - 37s 48ms/step - loss: 0.5238 - acc: 0.8298 - val_loss: 0.6033 - val_acc: 0.8188\n",
            "Epoch 27/30\n",
            "782/781 [==============================] - 37s 47ms/step - loss: 0.5083 - acc: 0.8364 - val_loss: 0.5615 - val_acc: 0.8341\n",
            "Epoch 28/30\n",
            "782/781 [==============================] - 37s 47ms/step - loss: 0.5109 - acc: 0.8362 - val_loss: 0.5706 - val_acc: 0.8291\n",
            "Epoch 29/30\n",
            "782/781 [==============================] - 37s 47ms/step - loss: 0.4977 - acc: 0.8396 - val_loss: 0.6328 - val_acc: 0.8081\n",
            "Epoch 30/30\n",
            "782/781 [==============================] - 37s 47ms/step - loss: 0.4873 - acc: 0.8424 - val_loss: 0.5540 - val_acc: 0.8272\n",
            "Test loss 0.5601665598869324\n",
            "Test accuracy 0.8292\n"
          ],
          "name": "stdout"
        }
      ]
    },
    {
      "cell_type": "code",
      "metadata": {
        "id": "TdAdnAlYh_f_",
        "colab_type": "code",
        "colab": {
          "base_uri": "https://localhost:8080/",
          "height": 565
        },
        "outputId": "00da2480-5a42-426b-f0bc-ef91f6673d57"
      },
      "source": [
        "# Plotting the results\n",
        "import matplotlib.pyplot as plt\n",
        "\n",
        "acc = history.history['acc']\n",
        "val_acc = history.history['val_acc']\n",
        "loss = history.history['loss']\n",
        "val_loss = history.history['val_loss']\n",
        "\n",
        "epochs = range(1, len(acc) + 1)\n",
        "\n",
        "plt.plot(epochs, acc, 'bo', label = 'Training acc')\n",
        "plt.plot(epochs, val_acc, 'b', label = 'Validation acc')\n",
        "plt.title('Cifar 10 Training and validation accuracy using VGG16')\n",
        "plt.legend()\n",
        "\n",
        "plt.figure()\n",
        "\n",
        "plt.plot(epochs, loss, 'bo', label = 'Training loss')\n",
        "plt.plot(epochs, val_loss, 'b', label = 'Validation loss')\n",
        "plt.title('Cifar 10 Training and validation loss using VGG16')\n",
        "plt.legend()\n",
        "plt.show()"
      ],
      "execution_count": 17,
      "outputs": [
        {
          "output_type": "display_data",
          "data": {
            "image/png": "[encoded data removed]",
            "text/plain": [
              "<Figure size 432x288 with 1 Axes>"
            ]
          },
          "metadata": {
            "tags": []
          }
        },
        {
          "output_type": "display_data",
          "data": {
            "image/png": "[encoded data removed]",
            "text/plain": [
              "<Figure size 432x288 with 1 Axes>"
            ]
          },
          "metadata": {
            "tags": []
          }
        }
      ]
    },
    {
      "cell_type": "code",
      "metadata": {
        "id": "ZeoXPEZDmi40",
        "colab_type": "code",
        "colab": {}
      },
      "source": [
        ""
      ],
      "execution_count": 0,
      "outputs": []
    }
  ]
}