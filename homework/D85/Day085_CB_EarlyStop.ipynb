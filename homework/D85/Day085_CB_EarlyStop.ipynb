{
 "cells": [
  {
   "cell_type": "markdown",
   "metadata": {},
   "source": [
    "## 範例重點\n",
    "* 學習如何在 keras 中加入 EarlyStop\n",
    "* 知道如何設定監控目標\n",
    "* 比較有無 earlystopping 對 validation 的影響"
   ]
  },
  {
   "cell_type": "code",
   "execution_count": 1,
   "metadata": {},
   "outputs": [
    {
     "name": "stderr",
     "output_type": "stream",
     "text": [
      "Using TensorFlow backend.\n"
     ]
    }
   ],
   "source": [
    "import os\n",
    "import keras\n",
    "\n",
    "# 本範例不需使用 GPU, 將 GPU 設定為 \"無\"\n",
    "#os.environ[\"CUDA_VISIBLE_DEVICES\"] = \"\""
   ]
  },
  {
   "cell_type": "code",
   "execution_count": 2,
   "metadata": {},
   "outputs": [],
   "source": [
    "train, test = keras.datasets.cifar10.load_data()"
   ]
  },
  {
   "cell_type": "code",
   "execution_count": 3,
   "metadata": {},
   "outputs": [],
   "source": [
    "## 資料前處理\n",
    "def preproc_x(x, flatten=True):\n",
    "    x = x / 255.\n",
    "    if flatten:\n",
    "        x = x.reshape((len(x), -1))\n",
    "    return x\n",
    "\n",
    "def preproc_y(y, num_classes=10):\n",
    "    if y.shape[-1] == 1:\n",
    "        y = keras.utils.to_categorical(y, num_classes)\n",
    "    return y    "
   ]
  },
  {
   "cell_type": "code",
   "execution_count": 4,
   "metadata": {},
   "outputs": [],
   "source": [
    "x_train, y_train = train\n",
    "x_test, y_test = test\n",
    "\n",
    "# 資料前處理 - X 標準化\n",
    "x_train = preproc_x(x_train)\n",
    "x_test = preproc_x(x_test)\n",
    "\n",
    "# 資料前處理 -Y 轉成 onehot\n",
    "y_train = preproc_y(y_train)\n",
    "y_test = preproc_y(y_test)"
   ]
  },
  {
   "cell_type": "code",
   "execution_count": 5,
   "metadata": {},
   "outputs": [],
   "source": [
    "from keras.layers import BatchNormalization\n",
    "\n",
    "\"\"\"\n",
    "建立神經網路，並加入 BN layer\n",
    "\"\"\"\n",
    "def build_mlp(input_shape, output_units=10, num_neurons=[512, 256, 128]):\n",
    "    input_layer = keras.layers.Input(input_shape)\n",
    "    \n",
    "    for i, n_units in enumerate(num_neurons):\n",
    "        if i == 0:\n",
    "            x = keras.layers.Dense(units=n_units, \n",
    "                                   activation=\"relu\", \n",
    "                                   name=\"hidden_layer\"+str(i+1))(input_layer)\n",
    "            x = BatchNormalization()(x)\n",
    "        else:\n",
    "            x = keras.layers.Dense(units=n_units, \n",
    "                                   activation=\"relu\", \n",
    "                                   name=\"hidden_layer\"+str(i+1))(x)\n",
    "            x = BatchNormalization()(x)\n",
    "    \n",
    "    out = keras.layers.Dense(units=output_units, activation=\"softmax\", name=\"output\")(x)\n",
    "    \n",
    "    model = keras.models.Model(inputs=[input_layer], outputs=[out])\n",
    "    return model"
   ]
  },
  {
   "cell_type": "code",
   "execution_count": 6,
   "metadata": {},
   "outputs": [],
   "source": [
    "## 超參數設定\n",
    "LEARNING_RATE = 1e-3\n",
    "EPOCHS = 50\n",
    "BATCH_SIZE = 1024\n",
    "MOMENTUM = 0.95"
   ]
  },
  {
   "cell_type": "code",
   "execution_count": 7,
   "metadata": {},
   "outputs": [],
   "source": [
    "\"\"\"\n",
    "# 載入 Callbacks, 並將 monitor 設定為監控 validation loss\n",
    "\"\"\"\n",
    "from keras.callbacks import EarlyStopping\n",
    "\n",
    "earlystop = EarlyStopping(monitor=\"val_loss\", \n",
    "                          patience=5, \n",
    "                          verbose=1\n",
    "                          )"
   ]
  },
  {
   "cell_type": "code",
   "execution_count": 8,
   "metadata": {
    "scrolled": true
   },
   "outputs": [
    {
     "name": "stdout",
     "output_type": "stream",
     "text": [
      "WARNING:tensorflow:From /Users/shihhaohuang/anaconda3/lib/python3.7/site-packages/tensorflow/python/framework/op_def_library.py:263: colocate_with (from tensorflow.python.framework.ops) is deprecated and will be removed in a future version.\n",
      "Instructions for updating:\n",
      "Colocations handled automatically by placer.\n",
      "_________________________________________________________________\n",
      "Layer (type)                 Output Shape              Param #   \n",
      "=================================================================\n",
      "input_1 (InputLayer)         (None, 3072)              0         \n",
      "_________________________________________________________________\n",
      "hidden_layer1 (Dense)        (None, 512)               1573376   \n",
      "_________________________________________________________________\n",
      "batch_normalization_1 (Batch (None, 512)               2048      \n",
      "_________________________________________________________________\n",
      "hidden_layer2 (Dense)        (None, 256)               131328    \n",
      "_________________________________________________________________\n",
      "batch_normalization_2 (Batch (None, 256)               1024      \n",
      "_________________________________________________________________\n",
      "hidden_layer3 (Dense)        (None, 128)               32896     \n",
      "_________________________________________________________________\n",
      "batch_normalization_3 (Batch (None, 128)               512       \n",
      "_________________________________________________________________\n",
      "output (Dense)               (None, 10)                1290      \n",
      "=================================================================\n",
      "Total params: 1,742,474\n",
      "Trainable params: 1,740,682\n",
      "Non-trainable params: 1,792\n",
      "_________________________________________________________________\n",
      "WARNING:tensorflow:From /Users/shihhaohuang/anaconda3/lib/python3.7/site-packages/tensorflow/python/ops/math_ops.py:3066: to_int32 (from tensorflow.python.ops.math_ops) is deprecated and will be removed in a future version.\n",
      "Instructions for updating:\n",
      "Use tf.cast instead.\n",
      "Train on 50000 samples, validate on 10000 samples\n",
      "Epoch 1/50\n",
      "50000/50000 [==============================] - 12s 230us/step - loss: 2.2119 - acc: 0.2670 - val_loss: 2.0861 - val_acc: 0.3184\n",
      "Epoch 2/50\n",
      "50000/50000 [==============================] - 10s 205us/step - loss: 1.7324 - acc: 0.3956 - val_loss: 1.7995 - val_acc: 0.3880\n",
      "Epoch 3/50\n",
      "50000/50000 [==============================] - 10s 193us/step - loss: 1.6113 - acc: 0.4361 - val_loss: 1.6903 - val_acc: 0.4210\n",
      "Epoch 4/50\n",
      "50000/50000 [==============================] - 10s 195us/step - loss: 1.5411 - acc: 0.4608 - val_loss: 1.6258 - val_acc: 0.4256\n",
      "Epoch 5/50\n",
      "50000/50000 [==============================] - 10s 195us/step - loss: 1.4859 - acc: 0.4799 - val_loss: 1.5982 - val_acc: 0.4377\n",
      "Epoch 6/50\n",
      "50000/50000 [==============================] - 10s 193us/step - loss: 1.4405 - acc: 0.4976 - val_loss: 1.5694 - val_acc: 0.4482\n",
      "Epoch 7/50\n",
      "50000/50000 [==============================] - 10s 195us/step - loss: 1.4011 - acc: 0.5120 - val_loss: 1.5583 - val_acc: 0.4512\n",
      "Epoch 8/50\n",
      "50000/50000 [==============================] - 10s 201us/step - loss: 1.3659 - acc: 0.5232 - val_loss: 1.5295 - val_acc: 0.4558\n",
      "Epoch 9/50\n",
      "50000/50000 [==============================] - 10s 194us/step - loss: 1.3322 - acc: 0.5351 - val_loss: 1.5152 - val_acc: 0.4604\n",
      "Epoch 10/50\n",
      "50000/50000 [==============================] - 10s 195us/step - loss: 1.3033 - acc: 0.5469 - val_loss: 1.5169 - val_acc: 0.4637\n",
      "Epoch 11/50\n",
      "50000/50000 [==============================] - 10s 201us/step - loss: 1.2762 - acc: 0.5573 - val_loss: 1.4990 - val_acc: 0.4721\n",
      "Epoch 12/50\n",
      "50000/50000 [==============================] - 11s 214us/step - loss: 1.2486 - acc: 0.5651 - val_loss: 1.4931 - val_acc: 0.4692\n",
      "Epoch 13/50\n",
      "50000/50000 [==============================] - 10s 208us/step - loss: 1.2231 - acc: 0.5762 - val_loss: 1.4749 - val_acc: 0.4817\n",
      "Epoch 14/50\n",
      "50000/50000 [==============================] - 10s 208us/step - loss: 1.1961 - acc: 0.5845 - val_loss: 1.4722 - val_acc: 0.4834\n",
      "Epoch 15/50\n",
      "50000/50000 [==============================] - 11s 219us/step - loss: 1.1735 - acc: 0.5923 - val_loss: 1.4753 - val_acc: 0.4766\n",
      "Epoch 16/50\n",
      "50000/50000 [==============================] - 11s 223us/step - loss: 1.1494 - acc: 0.6021 - val_loss: 1.4724 - val_acc: 0.4759\n",
      "Epoch 17/50\n",
      "50000/50000 [==============================] - 12s 233us/step - loss: 1.1260 - acc: 0.6120 - val_loss: 1.4738 - val_acc: 0.4816\n",
      "Epoch 18/50\n",
      "50000/50000 [==============================] - 10s 199us/step - loss: 1.1036 - acc: 0.6199 - val_loss: 1.4678 - val_acc: 0.4838\n",
      "Epoch 19/50\n",
      "50000/50000 [==============================] - 10s 193us/step - loss: 1.0814 - acc: 0.6275 - val_loss: 1.4758 - val_acc: 0.4773\n",
      "Epoch 20/50\n",
      "50000/50000 [==============================] - 10s 193us/step - loss: 1.0621 - acc: 0.6369 - val_loss: 1.4583 - val_acc: 0.4882\n",
      "Epoch 21/50\n",
      "50000/50000 [==============================] - 10s 193us/step - loss: 1.0382 - acc: 0.6452 - val_loss: 1.4702 - val_acc: 0.4816\n",
      "Epoch 22/50\n",
      "50000/50000 [==============================] - 10s 193us/step - loss: 1.0152 - acc: 0.6559 - val_loss: 1.4690 - val_acc: 0.4905\n",
      "Epoch 23/50\n",
      "50000/50000 [==============================] - 10s 192us/step - loss: 0.9957 - acc: 0.6620 - val_loss: 1.4637 - val_acc: 0.4899\n",
      "Epoch 24/50\n",
      "50000/50000 [==============================] - 10s 194us/step - loss: 0.9742 - acc: 0.6684 - val_loss: 1.4796 - val_acc: 0.4815\n",
      "Epoch 25/50\n",
      "50000/50000 [==============================] - 10s 192us/step - loss: 0.9543 - acc: 0.6786 - val_loss: 1.4692 - val_acc: 0.4896\n",
      "Epoch 00025: early stopping\n"
     ]
    }
   ],
   "source": [
    "model = build_mlp(input_shape=x_train.shape[1:])\n",
    "model.summary()\n",
    "optimizer = keras.optimizers.SGD(lr=LEARNING_RATE, nesterov=True, momentum=MOMENTUM)\n",
    "model.compile(loss=\"categorical_crossentropy\", metrics=[\"accuracy\"], optimizer=optimizer)\n",
    "\n",
    "model.fit(x_train, y_train, \n",
    "          epochs=EPOCHS, \n",
    "          batch_size=BATCH_SIZE, \n",
    "          validation_data=(x_test, y_test), \n",
    "          shuffle=True,\n",
    "          callbacks=[earlystop]\n",
    "         )\n",
    "\n",
    "# Collect results\n",
    "train_loss = model.history.history[\"loss\"]\n",
    "valid_loss = model.history.history[\"val_loss\"]\n",
    "train_acc = model.history.history[\"acc\"]\n",
    "valid_acc = model.history.history[\"val_acc\"]"
   ]
  },
  {
   "cell_type": "code",
   "execution_count": 9,
   "metadata": {},
   "outputs": [
    {
     "data": {
      "image/png": "[encoded data removed]",
      "text/plain": [
       "<Figure size 432x288 with 1 Axes>"
      ]
     },
     "metadata": {
      "needs_background": "light"
     },
     "output_type": "display_data"
    },
    {
     "data": {
      "image/png": "[encoded data removed]",
      "text/plain": [
       "<Figure size 432x288 with 1 Axes>"
      ]
     },
     "metadata": {
      "needs_background": "light"
     },
     "output_type": "display_data"
    }
   ],
   "source": [
    "import matplotlib.pyplot as plt\n",
    "%matplotlib inline\n",
    "\n",
    "plt.plot(range(len(train_loss)), train_loss, label=\"train loss\")\n",
    "plt.plot(range(len(valid_loss)), valid_loss, label=\"valid loss\")\n",
    "plt.legend()\n",
    "plt.title(\"Loss\")\n",
    "plt.show()\n",
    "\n",
    "plt.plot(range(len(train_acc)), train_acc, label=\"train accuracy\")\n",
    "plt.plot(range(len(valid_acc)), valid_acc, label=\"valid accuracy\")\n",
    "plt.legend()\n",
    "plt.title(\"Accuracy\")\n",
    "plt.show()"
   ]
  },
  {
   "cell_type": "markdown",
   "metadata": {},
   "source": [
    "## Work\n",
    "1. 試改變 monitor \"Validation Accuracy\" 並比較結果\n",
    "2. 調整 earlystop 的等待次數至 10, 25 並比較結果"
   ]
  }
 ],
 "metadata": {
  "kernelspec": {
   "display_name": "Python 3",
   "language": "python",
   "name": "python3"
  },
  "language_info": {
   "codemirror_mode": {
    "name": "ipython",
    "version": 3
   },
   "file_extension": ".py",
   "mimetype": "text/x-python",
   "name": "python",
   "nbconvert_exporter": "python",
   "pygments_lexer": "ipython3",
   "version": "3.7.1"
  }
 },
 "nbformat": 4,
 "nbformat_minor": 2
}
