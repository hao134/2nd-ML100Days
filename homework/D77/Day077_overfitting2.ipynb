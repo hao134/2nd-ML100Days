{
  "nbformat": 4,
  "nbformat_minor": 0,
  "metadata": {
    "colab": {
      "name": "Day077_overfitting.ipynb",
      "version": "0.3.2",
      "provenance": []
    },
    "language_info": {
      "codemirror_mode": {
        "name": "ipython",
        "version": 3
      },
      "file_extension": ".py",
      "mimetype": "text/x-python",
      "name": "python",
      "nbconvert_exporter": "python",
      "pygments_lexer": "ipython3",
      "version": "3.6.5"
    },
    "kernelspec": {
      "name": "python3",
      "display_name": "Python 3"
    },
    "accelerator": "GPU"
  },
  "cells": [
    {
      "cell_type": "markdown",
      "metadata": {
        "id": "5LUf8tn9cm29",
        "colab_type": "text"
      },
      "source": [
        "## 範例重點\n",
        "* 學會從 Keras 內建函式取得資料\n",
        "* 能夠建立簡易的深度學習模型\n",
        "* 觀察並了解 Overfit 現象"
      ]
    },
    {
      "cell_type": "code",
      "metadata": {
        "id": "3URfzuQ3cm3A",
        "colab_type": "code",
        "colab": {
          "base_uri": "https://localhost:8080/",
          "height": 323
        },
        "outputId": "78baedc3-6921-4f2b-c0e8-41d8e07160ea"
      },
      "source": [
        "import os\n",
        "import keras\n",
        "\n",
        "!nvidia-smi"
      ],
      "execution_count": 1,
      "outputs": [
        {
          "output_type": "stream",
          "text": [
            "Using TensorFlow backend.\n"
          ],
          "name": "stderr"
        },
        {
          "output_type": "stream",
          "text": [
            "Sat Jul 13 08:29:56 2019       \n",
            "+-----------------------------------------------------------------------------+\n",
            "| NVIDIA-SMI 418.67       Driver Version: 410.79       CUDA Version: 10.0     |\n",
            "|-------------------------------+----------------------+----------------------+\n",
            "| GPU  Name        Persistence-M| Bus-Id        Disp.A | Volatile Uncorr. ECC |\n",
            "| Fan  Temp  Perf  Pwr:Usage/Cap|         Memory-Usage | GPU-Util  Compute M. |\n",
            "|===============================+======================+======================|\n",
            "|   0  Tesla K80           Off  | 00000000:00:04.0 Off |                    0 |\n",
            "| N/A   28C    P8    26W / 149W |      0MiB / 11441MiB |      0%      Default |\n",
            "+-------------------------------+----------------------+----------------------+\n",
            "                                                                               \n",
            "+-----------------------------------------------------------------------------+\n",
            "| Processes:                                                       GPU Memory |\n",
            "|  GPU       PID   Type   Process name                             Usage      |\n",
            "|=============================================================================|\n",
            "|  No running processes found                                                 |\n",
            "+-----------------------------------------------------------------------------+\n"
          ],
          "name": "stdout"
        }
      ]
    },
    {
      "cell_type": "code",
      "metadata": {
        "id": "XtCLeuDjcm3I",
        "colab_type": "code",
        "colab": {
          "base_uri": "https://localhost:8080/",
          "height": 51
        },
        "outputId": "adbf54fb-d779-4f75-a29c-0248b7cebb84"
      },
      "source": [
        "# 從 Keras 的內建功能中，取得 train 與 test 資料集\n",
        "train, test = keras.datasets.cifar10.load_data()"
      ],
      "execution_count": 2,
      "outputs": [
        {
          "output_type": "stream",
          "text": [
            "Downloading data from https://www.cs.toronto.edu/~kriz/cifar-10-python.tar.gz\n",
            "170500096/170498071 [==============================] - 11s 0us/step\n"
          ],
          "name": "stdout"
        }
      ]
    },
    {
      "cell_type": "code",
      "metadata": {
        "id": "RLOdU0Cacm3L",
        "colab_type": "code",
        "colab": {}
      },
      "source": [
        "# 將 X 與 Y 獨立放進變數\n",
        "x_train, y_train = train\n",
        "x_test, y_test = test\n",
        "# 資料前處理 - 標準化\n",
        "x_train = x_train / 255.\n",
        "x_test = x_test / 255.\n",
        "\n",
        "# 將資料從圖形 (RGB) 轉為向量 (Single Vector)\n",
        "x_train = x_train.reshape((len(x_train), -1))\n",
        "x_test = x_test.reshape((len(x_test), -1))\n",
        "\n",
        "# 將目標轉為 one-hot encoding\n",
        "y_train = keras.utils.to_categorical(y_train, num_classes=10)\n",
        "y_test = keras.utils.to_categorical(y_test, num_classes=10)"
      ],
      "execution_count": 0,
      "outputs": []
    },
    {
      "cell_type": "code",
      "metadata": {
        "id": "zoT9FblCcm3N",
        "colab_type": "code",
        "colab": {}
      },
      "source": [
        "# 建立一個有三層隱藏層之神經網路\n",
        "def build_mlp():\n",
        "    input_layer = keras.layers.Input([x_train.shape[-1]])\n",
        "    x = keras.layers.Dense(units=512, activation=\"relu\")(input_layer)\n",
        "    x = keras.layers.Dense(units=256, activation=\"relu\")(x)\n",
        "    x = keras.layers.Dense(units=128, activation=\"relu\")(x)\n",
        "    out = keras.layers.Dense(units=10, activation=\"softmax\")(x)\n",
        "    \n",
        "    model = keras.models.Model(inputs=[input_layer], outputs=[out])\n",
        "    return model"
      ],
      "execution_count": 0,
      "outputs": []
    },
    {
      "cell_type": "code",
      "metadata": {
        "id": "4hn5CP1scm3Q",
        "colab_type": "code",
        "colab": {
          "base_uri": "https://localhost:8080/",
          "height": 513
        },
        "outputId": "ec723e1b-9735-4299-a5b0-b969c16ec65f"
      },
      "source": [
        "model = build_mlp()\n",
        "# 用 Keras 內建方法檢視模型各層參數量\n",
        "model.summary()\n",
        "\n",
        "optimizer = keras.optimizers.Adam(lr=0.001)\n",
        "model.compile(loss=\"categorical_crossentropy\", metrics=[\"accuracy\"], optimizer=optimizer)"
      ],
      "execution_count": 5,
      "outputs": [
        {
          "output_type": "stream",
          "text": [
            "WARNING: Logging before flag parsing goes to stderr.\n",
            "W0713 08:31:55.245289 139655517677440 deprecation_wrapper.py:119] From /usr/local/lib/python3.6/dist-packages/keras/backend/tensorflow_backend.py:74: The name tf.get_default_graph is deprecated. Please use tf.compat.v1.get_default_graph instead.\n",
            "\n",
            "W0713 08:31:55.291352 139655517677440 deprecation_wrapper.py:119] From /usr/local/lib/python3.6/dist-packages/keras/backend/tensorflow_backend.py:517: The name tf.placeholder is deprecated. Please use tf.compat.v1.placeholder instead.\n",
            "\n",
            "W0713 08:31:55.299264 139655517677440 deprecation_wrapper.py:119] From /usr/local/lib/python3.6/dist-packages/keras/backend/tensorflow_backend.py:4138: The name tf.random_uniform is deprecated. Please use tf.random.uniform instead.\n",
            "\n",
            "W0713 08:31:55.379478 139655517677440 deprecation_wrapper.py:119] From /usr/local/lib/python3.6/dist-packages/keras/optimizers.py:790: The name tf.train.Optimizer is deprecated. Please use tf.compat.v1.train.Optimizer instead.\n",
            "\n",
            "W0713 08:31:55.394019 139655517677440 deprecation_wrapper.py:119] From /usr/local/lib/python3.6/dist-packages/keras/backend/tensorflow_backend.py:3295: The name tf.log is deprecated. Please use tf.math.log instead.\n",
            "\n"
          ],
          "name": "stderr"
        },
        {
          "output_type": "stream",
          "text": [
            "_________________________________________________________________\n",
            "Layer (type)                 Output Shape              Param #   \n",
            "=================================================================\n",
            "input_1 (InputLayer)         (None, 3072)              0         \n",
            "_________________________________________________________________\n",
            "dense_1 (Dense)              (None, 512)               1573376   \n",
            "_________________________________________________________________\n",
            "dense_2 (Dense)              (None, 256)               131328    \n",
            "_________________________________________________________________\n",
            "dense_3 (Dense)              (None, 128)               32896     \n",
            "_________________________________________________________________\n",
            "dense_4 (Dense)              (None, 10)                1290      \n",
            "=================================================================\n",
            "Total params: 1,738,890\n",
            "Trainable params: 1,738,890\n",
            "Non-trainable params: 0\n",
            "_________________________________________________________________\n"
          ],
          "name": "stdout"
        }
      ]
    },
    {
      "cell_type": "code",
      "metadata": {
        "id": "NPZpAPNxcm3T",
        "colab_type": "code",
        "colab": {
          "base_uri": "https://localhost:8080/",
          "height": 1000
        },
        "outputId": "7b78c46f-b589-40be-b1d2-3ddd625f04d5"
      },
      "source": [
        "# 訓練模型並檢視驗證集的結果\n",
        "model.fit(x_train, y_train, \n",
        "          epochs=100, \n",
        "          batch_size=256, \n",
        "          validation_data=(x_test, y_test), \n",
        "          shuffle=True)"
      ],
      "execution_count": 6,
      "outputs": [
        {
          "output_type": "stream",
          "text": [
            "W0713 08:31:59.222983 139655517677440 deprecation.py:323] From /usr/local/lib/python3.6/dist-packages/tensorflow/python/ops/math_grad.py:1250: add_dispatch_support.<locals>.wrapper (from tensorflow.python.ops.array_ops) is deprecated and will be removed in a future version.\n",
            "Instructions for updating:\n",
            "Use tf.where in 2.0, which has the same broadcast rule as np.where\n",
            "W0713 08:31:59.292305 139655517677440 deprecation_wrapper.py:119] From /usr/local/lib/python3.6/dist-packages/keras/backend/tensorflow_backend.py:986: The name tf.assign_add is deprecated. Please use tf.compat.v1.assign_add instead.\n",
            "\n"
          ],
          "name": "stderr"
        },
        {
          "output_type": "stream",
          "text": [
            "Train on 50000 samples, validate on 10000 samples\n",
            "Epoch 1/100\n",
            "50000/50000 [==============================] - 7s 133us/step - loss: 1.9258 - acc: 0.3039 - val_loss: 1.8078 - val_acc: 0.3536\n",
            "Epoch 2/100\n",
            "50000/50000 [==============================] - 3s 57us/step - loss: 1.7122 - acc: 0.3859 - val_loss: 1.6486 - val_acc: 0.4078\n",
            "Epoch 3/100\n",
            "50000/50000 [==============================] - 3s 57us/step - loss: 1.6187 - acc: 0.4215 - val_loss: 1.5975 - val_acc: 0.4293\n",
            "Epoch 4/100\n",
            "50000/50000 [==============================] - 3s 57us/step - loss: 1.5506 - acc: 0.4451 - val_loss: 1.5204 - val_acc: 0.4574\n",
            "Epoch 5/100\n",
            "50000/50000 [==============================] - 3s 57us/step - loss: 1.5034 - acc: 0.4645 - val_loss: 1.5271 - val_acc: 0.4508\n",
            "Epoch 6/100\n",
            "50000/50000 [==============================] - 3s 57us/step - loss: 1.4661 - acc: 0.4753 - val_loss: 1.5240 - val_acc: 0.4574\n",
            "Epoch 7/100\n",
            "50000/50000 [==============================] - 3s 57us/step - loss: 1.4302 - acc: 0.4884 - val_loss: 1.4359 - val_acc: 0.4911\n",
            "Epoch 8/100\n",
            "50000/50000 [==============================] - 3s 57us/step - loss: 1.3972 - acc: 0.5035 - val_loss: 1.4277 - val_acc: 0.4918\n",
            "Epoch 9/100\n",
            "50000/50000 [==============================] - 3s 57us/step - loss: 1.3677 - acc: 0.5119 - val_loss: 1.5010 - val_acc: 0.4602\n",
            "Epoch 10/100\n",
            "50000/50000 [==============================] - 3s 57us/step - loss: 1.3486 - acc: 0.5193 - val_loss: 1.4144 - val_acc: 0.5019\n",
            "Epoch 11/100\n",
            "50000/50000 [==============================] - 3s 57us/step - loss: 1.3173 - acc: 0.5311 - val_loss: 1.4493 - val_acc: 0.4928\n",
            "Epoch 12/100\n",
            "50000/50000 [==============================] - 3s 57us/step - loss: 1.2997 - acc: 0.5354 - val_loss: 1.4177 - val_acc: 0.4951\n",
            "Epoch 13/100\n",
            "50000/50000 [==============================] - 3s 57us/step - loss: 1.2718 - acc: 0.5442 - val_loss: 1.3958 - val_acc: 0.5117\n",
            "Epoch 14/100\n",
            "50000/50000 [==============================] - 3s 57us/step - loss: 1.2494 - acc: 0.5542 - val_loss: 1.3636 - val_acc: 0.5119\n",
            "Epoch 15/100\n",
            "50000/50000 [==============================] - 3s 57us/step - loss: 1.2243 - acc: 0.5641 - val_loss: 1.4852 - val_acc: 0.4835\n",
            "Epoch 16/100\n",
            "50000/50000 [==============================] - 3s 57us/step - loss: 1.2181 - acc: 0.5652 - val_loss: 1.3743 - val_acc: 0.5157\n",
            "Epoch 17/100\n",
            "50000/50000 [==============================] - 3s 57us/step - loss: 1.1903 - acc: 0.5746 - val_loss: 1.3811 - val_acc: 0.5166\n",
            "Epoch 18/100\n",
            "50000/50000 [==============================] - 3s 56us/step - loss: 1.1652 - acc: 0.5828 - val_loss: 1.3890 - val_acc: 0.5084\n",
            "Epoch 19/100\n",
            "50000/50000 [==============================] - 3s 57us/step - loss: 1.1466 - acc: 0.5910 - val_loss: 1.3918 - val_acc: 0.5122\n",
            "Epoch 20/100\n",
            "50000/50000 [==============================] - 3s 57us/step - loss: 1.1210 - acc: 0.5997 - val_loss: 1.3973 - val_acc: 0.5094\n",
            "Epoch 21/100\n",
            "50000/50000 [==============================] - 3s 57us/step - loss: 1.0969 - acc: 0.6073 - val_loss: 1.3817 - val_acc: 0.5185\n",
            "Epoch 22/100\n",
            "50000/50000 [==============================] - 3s 56us/step - loss: 1.0825 - acc: 0.6120 - val_loss: 1.3858 - val_acc: 0.5176\n",
            "Epoch 23/100\n",
            "50000/50000 [==============================] - 3s 57us/step - loss: 1.0670 - acc: 0.6186 - val_loss: 1.3812 - val_acc: 0.5248\n",
            "Epoch 24/100\n",
            "50000/50000 [==============================] - 3s 59us/step - loss: 1.0463 - acc: 0.6265 - val_loss: 1.3639 - val_acc: 0.5300\n",
            "Epoch 25/100\n",
            "50000/50000 [==============================] - 3s 59us/step - loss: 1.0275 - acc: 0.6331 - val_loss: 1.4429 - val_acc: 0.5150\n",
            "Epoch 26/100\n",
            "50000/50000 [==============================] - 3s 58us/step - loss: 1.0193 - acc: 0.6332 - val_loss: 1.4217 - val_acc: 0.5181\n",
            "Epoch 27/100\n",
            "50000/50000 [==============================] - 3s 57us/step - loss: 0.9895 - acc: 0.6462 - val_loss: 1.4191 - val_acc: 0.5134\n",
            "Epoch 28/100\n",
            "50000/50000 [==============================] - 3s 57us/step - loss: 0.9694 - acc: 0.6533 - val_loss: 1.4356 - val_acc: 0.5188\n",
            "Epoch 29/100\n",
            "50000/50000 [==============================] - 3s 57us/step - loss: 0.9544 - acc: 0.6593 - val_loss: 1.4185 - val_acc: 0.5257\n",
            "Epoch 30/100\n",
            "50000/50000 [==============================] - 3s 57us/step - loss: 0.9334 - acc: 0.6678 - val_loss: 1.4318 - val_acc: 0.5245\n",
            "Epoch 31/100\n",
            "50000/50000 [==============================] - 3s 57us/step - loss: 0.9310 - acc: 0.6635 - val_loss: 1.4726 - val_acc: 0.5115\n",
            "Epoch 32/100\n",
            "50000/50000 [==============================] - 3s 57us/step - loss: 0.9077 - acc: 0.6762 - val_loss: 1.4410 - val_acc: 0.5215\n",
            "Epoch 33/100\n",
            "50000/50000 [==============================] - 3s 57us/step - loss: 0.8783 - acc: 0.6875 - val_loss: 1.4810 - val_acc: 0.5115\n",
            "Epoch 34/100\n",
            "50000/50000 [==============================] - 3s 56us/step - loss: 0.8670 - acc: 0.6911 - val_loss: 1.5228 - val_acc: 0.5165\n",
            "Epoch 35/100\n",
            "50000/50000 [==============================] - 3s 57us/step - loss: 0.8421 - acc: 0.7005 - val_loss: 1.4665 - val_acc: 0.5283\n",
            "Epoch 36/100\n",
            "50000/50000 [==============================] - 3s 57us/step - loss: 0.8334 - acc: 0.7019 - val_loss: 1.4905 - val_acc: 0.5189\n",
            "Epoch 37/100\n",
            "50000/50000 [==============================] - 3s 57us/step - loss: 0.8177 - acc: 0.7073 - val_loss: 1.5386 - val_acc: 0.5213\n",
            "Epoch 38/100\n",
            "50000/50000 [==============================] - 3s 56us/step - loss: 0.7961 - acc: 0.7151 - val_loss: 1.5181 - val_acc: 0.5294\n",
            "Epoch 39/100\n",
            "50000/50000 [==============================] - 3s 56us/step - loss: 0.7858 - acc: 0.7212 - val_loss: 1.5939 - val_acc: 0.5073\n",
            "Epoch 40/100\n",
            "50000/50000 [==============================] - 3s 57us/step - loss: 0.7690 - acc: 0.7254 - val_loss: 1.5528 - val_acc: 0.5239\n",
            "Epoch 41/100\n",
            "50000/50000 [==============================] - 3s 57us/step - loss: 0.7432 - acc: 0.7338 - val_loss: 1.6158 - val_acc: 0.5193\n",
            "Epoch 42/100\n",
            "50000/50000 [==============================] - 3s 57us/step - loss: 0.7296 - acc: 0.7398 - val_loss: 1.6162 - val_acc: 0.5104\n",
            "Epoch 43/100\n",
            "50000/50000 [==============================] - 3s 57us/step - loss: 0.7458 - acc: 0.7334 - val_loss: 1.6465 - val_acc: 0.5144\n",
            "Epoch 44/100\n",
            "50000/50000 [==============================] - 3s 56us/step - loss: 0.7043 - acc: 0.7488 - val_loss: 1.6516 - val_acc: 0.5156\n",
            "Epoch 45/100\n",
            "50000/50000 [==============================] - 3s 57us/step - loss: 0.7091 - acc: 0.7468 - val_loss: 1.6598 - val_acc: 0.5179\n",
            "Epoch 46/100\n",
            "50000/50000 [==============================] - 3s 57us/step - loss: 0.6773 - acc: 0.7587 - val_loss: 1.7175 - val_acc: 0.5214\n",
            "Epoch 47/100\n",
            "50000/50000 [==============================] - 3s 57us/step - loss: 0.6679 - acc: 0.7598 - val_loss: 1.7225 - val_acc: 0.5092\n",
            "Epoch 48/100\n",
            "50000/50000 [==============================] - 3s 57us/step - loss: 0.6615 - acc: 0.7619 - val_loss: 1.7566 - val_acc: 0.5206\n",
            "Epoch 49/100\n",
            "50000/50000 [==============================] - 3s 57us/step - loss: 0.6343 - acc: 0.7715 - val_loss: 1.8121 - val_acc: 0.5133\n",
            "Epoch 50/100\n",
            "50000/50000 [==============================] - 3s 57us/step - loss: 0.6175 - acc: 0.7777 - val_loss: 1.7995 - val_acc: 0.5034\n",
            "Epoch 51/100\n",
            "50000/50000 [==============================] - 3s 57us/step - loss: 0.6163 - acc: 0.7803 - val_loss: 1.8778 - val_acc: 0.5048\n",
            "Epoch 52/100\n",
            "50000/50000 [==============================] - 3s 57us/step - loss: 0.5983 - acc: 0.7865 - val_loss: 1.8364 - val_acc: 0.5084\n",
            "Epoch 53/100\n",
            "50000/50000 [==============================] - 3s 57us/step - loss: 0.5957 - acc: 0.7873 - val_loss: 1.8542 - val_acc: 0.5113\n",
            "Epoch 54/100\n",
            "50000/50000 [==============================] - 3s 57us/step - loss: 0.5893 - acc: 0.7901 - val_loss: 1.9033 - val_acc: 0.5133\n",
            "Epoch 55/100\n",
            "50000/50000 [==============================] - 3s 57us/step - loss: 0.5631 - acc: 0.7989 - val_loss: 1.9566 - val_acc: 0.5046\n",
            "Epoch 56/100\n",
            "50000/50000 [==============================] - 3s 56us/step - loss: 0.5598 - acc: 0.7981 - val_loss: 1.9748 - val_acc: 0.5018\n",
            "Epoch 57/100\n",
            "50000/50000 [==============================] - 3s 57us/step - loss: 0.5484 - acc: 0.8035 - val_loss: 1.9584 - val_acc: 0.5156\n",
            "Epoch 58/100\n",
            "50000/50000 [==============================] - 3s 57us/step - loss: 0.5288 - acc: 0.8105 - val_loss: 2.0009 - val_acc: 0.5112\n",
            "Epoch 59/100\n",
            "50000/50000 [==============================] - 3s 56us/step - loss: 0.5319 - acc: 0.8093 - val_loss: 2.0490 - val_acc: 0.5111\n",
            "Epoch 60/100\n",
            "50000/50000 [==============================] - 3s 56us/step - loss: 0.5268 - acc: 0.8102 - val_loss: 2.0512 - val_acc: 0.5113\n",
            "Epoch 61/100\n",
            "50000/50000 [==============================] - 3s 56us/step - loss: 0.4877 - acc: 0.8262 - val_loss: 2.0841 - val_acc: 0.5037\n",
            "Epoch 62/100\n",
            "50000/50000 [==============================] - 3s 57us/step - loss: 0.5037 - acc: 0.8193 - val_loss: 2.1280 - val_acc: 0.5019\n",
            "Epoch 63/100\n",
            "50000/50000 [==============================] - 3s 57us/step - loss: 0.4841 - acc: 0.8268 - val_loss: 2.1717 - val_acc: 0.5088\n",
            "Epoch 64/100\n",
            "50000/50000 [==============================] - 3s 57us/step - loss: 0.4744 - acc: 0.8328 - val_loss: 2.1545 - val_acc: 0.5120\n",
            "Epoch 65/100\n",
            "50000/50000 [==============================] - 3s 57us/step - loss: 0.4657 - acc: 0.8346 - val_loss: 2.2159 - val_acc: 0.5145\n",
            "Epoch 66/100\n",
            "50000/50000 [==============================] - 3s 56us/step - loss: 0.4574 - acc: 0.8358 - val_loss: 2.2374 - val_acc: 0.5080\n",
            "Epoch 67/100\n",
            "50000/50000 [==============================] - 3s 57us/step - loss: 0.4826 - acc: 0.8254 - val_loss: 2.3560 - val_acc: 0.4965\n",
            "Epoch 68/100\n",
            "50000/50000 [==============================] - 3s 57us/step - loss: 0.4572 - acc: 0.8338 - val_loss: 2.2862 - val_acc: 0.5035\n",
            "Epoch 69/100\n",
            "50000/50000 [==============================] - 3s 58us/step - loss: 0.4409 - acc: 0.8402 - val_loss: 2.2775 - val_acc: 0.5099\n",
            "Epoch 70/100\n",
            "50000/50000 [==============================] - 3s 58us/step - loss: 0.4302 - acc: 0.8448 - val_loss: 2.2999 - val_acc: 0.5069\n",
            "Epoch 71/100\n",
            "50000/50000 [==============================] - 3s 58us/step - loss: 0.4220 - acc: 0.8482 - val_loss: 2.3706 - val_acc: 0.5050\n",
            "Epoch 72/100\n",
            "50000/50000 [==============================] - 3s 61us/step - loss: 0.4133 - acc: 0.8532 - val_loss: 2.3495 - val_acc: 0.5000\n",
            "Epoch 73/100\n",
            "50000/50000 [==============================] - 3s 61us/step - loss: 0.4312 - acc: 0.8432 - val_loss: 2.4306 - val_acc: 0.4997\n",
            "Epoch 74/100\n",
            "50000/50000 [==============================] - 3s 62us/step - loss: 0.4016 - acc: 0.8560 - val_loss: 2.3659 - val_acc: 0.5112\n",
            "Epoch 75/100\n",
            "50000/50000 [==============================] - 3s 61us/step - loss: 0.4035 - acc: 0.8548 - val_loss: 2.4813 - val_acc: 0.5023\n",
            "Epoch 76/100\n",
            "50000/50000 [==============================] - 3s 62us/step - loss: 0.3905 - acc: 0.8595 - val_loss: 2.4839 - val_acc: 0.4983\n",
            "Epoch 77/100\n",
            "50000/50000 [==============================] - 3s 62us/step - loss: 0.3752 - acc: 0.8658 - val_loss: 2.5264 - val_acc: 0.5015\n",
            "Epoch 78/100\n",
            "50000/50000 [==============================] - 3s 61us/step - loss: 0.3614 - acc: 0.8700 - val_loss: 2.6078 - val_acc: 0.5026\n",
            "Epoch 79/100\n",
            "50000/50000 [==============================] - 3s 61us/step - loss: 0.3799 - acc: 0.8629 - val_loss: 2.6066 - val_acc: 0.5048\n",
            "Epoch 80/100\n",
            "50000/50000 [==============================] - 3s 62us/step - loss: 0.3707 - acc: 0.8660 - val_loss: 2.6427 - val_acc: 0.4984\n",
            "Epoch 81/100\n",
            "50000/50000 [==============================] - 3s 62us/step - loss: 0.3467 - acc: 0.8754 - val_loss: 2.6171 - val_acc: 0.5078\n",
            "Epoch 82/100\n",
            "50000/50000 [==============================] - 3s 62us/step - loss: 0.3514 - acc: 0.8718 - val_loss: 2.6248 - val_acc: 0.4979\n",
            "Epoch 83/100\n",
            "50000/50000 [==============================] - 3s 61us/step - loss: 0.3556 - acc: 0.8720 - val_loss: 2.6986 - val_acc: 0.5025\n",
            "Epoch 84/100\n",
            "50000/50000 [==============================] - 3s 62us/step - loss: 0.3402 - acc: 0.8767 - val_loss: 2.7526 - val_acc: 0.5027\n",
            "Epoch 85/100\n",
            "50000/50000 [==============================] - 3s 61us/step - loss: 0.3573 - acc: 0.8697 - val_loss: 2.7957 - val_acc: 0.4965\n",
            "Epoch 86/100\n",
            "50000/50000 [==============================] - 3s 62us/step - loss: 0.3375 - acc: 0.8785 - val_loss: 2.8729 - val_acc: 0.5027\n",
            "Epoch 87/100\n",
            "50000/50000 [==============================] - 3s 61us/step - loss: 0.3534 - acc: 0.8724 - val_loss: 2.9166 - val_acc: 0.4956\n",
            "Epoch 88/100\n",
            "50000/50000 [==============================] - 3s 62us/step - loss: 0.3198 - acc: 0.8846 - val_loss: 2.8207 - val_acc: 0.5070\n",
            "Epoch 89/100\n",
            "50000/50000 [==============================] - 3s 61us/step - loss: 0.3328 - acc: 0.8802 - val_loss: 2.8731 - val_acc: 0.4955\n",
            "Epoch 90/100\n",
            "50000/50000 [==============================] - 3s 61us/step - loss: 0.3355 - acc: 0.8780 - val_loss: 2.8340 - val_acc: 0.5043\n",
            "Epoch 91/100\n",
            "50000/50000 [==============================] - 3s 62us/step - loss: 0.2978 - acc: 0.8922 - val_loss: 2.9232 - val_acc: 0.4988\n",
            "Epoch 92/100\n",
            "50000/50000 [==============================] - 3s 61us/step - loss: 0.3099 - acc: 0.8896 - val_loss: 2.8981 - val_acc: 0.4967\n",
            "Epoch 93/100\n",
            "50000/50000 [==============================] - 3s 61us/step - loss: 0.3013 - acc: 0.8914 - val_loss: 2.9148 - val_acc: 0.4992\n",
            "Epoch 94/100\n",
            "50000/50000 [==============================] - 3s 61us/step - loss: 0.3110 - acc: 0.8887 - val_loss: 3.0851 - val_acc: 0.4891\n",
            "Epoch 95/100\n",
            "50000/50000 [==============================] - 3s 62us/step - loss: 0.3015 - acc: 0.8906 - val_loss: 2.9249 - val_acc: 0.4972\n",
            "Epoch 96/100\n",
            "50000/50000 [==============================] - 3s 61us/step - loss: 0.2912 - acc: 0.8952 - val_loss: 3.0502 - val_acc: 0.4937\n",
            "Epoch 97/100\n",
            "50000/50000 [==============================] - 3s 61us/step - loss: 0.2710 - acc: 0.9040 - val_loss: 2.9703 - val_acc: 0.5038\n",
            "Epoch 98/100\n",
            "50000/50000 [==============================] - 3s 62us/step - loss: 0.2800 - acc: 0.8985 - val_loss: 3.0058 - val_acc: 0.4973\n",
            "Epoch 99/100\n",
            "50000/50000 [==============================] - 3s 61us/step - loss: 0.2794 - acc: 0.8991 - val_loss: 3.1603 - val_acc: 0.4981\n",
            "Epoch 100/100\n",
            "50000/50000 [==============================] - 3s 61us/step - loss: 0.3105 - acc: 0.8877 - val_loss: 3.0491 - val_acc: 0.5029\n"
          ],
          "name": "stdout"
        },
        {
          "output_type": "execute_result",
          "data": {
            "text/plain": [
              "<keras.callbacks.History at 0x7f03ca5c7860>"
            ]
          },
          "metadata": {
            "tags": []
          },
          "execution_count": 6
        }
      ]
    },
    {
      "cell_type": "code",
      "metadata": {
        "id": "yFBqHy9Vcm3X",
        "colab_type": "code",
        "colab": {
          "base_uri": "https://localhost:8080/",
          "height": 545
        },
        "outputId": "9c92a965-49a4-410c-e264-8688921b58a9"
      },
      "source": [
        "# 以視覺畫方式檢視訓練過程\n",
        "import matplotlib.pyplot as plt\n",
        "train_loss = model.history.history[\"loss\"]\n",
        "valid_loss = model.history.history[\"val_loss\"]\n",
        "\n",
        "train_acc = model.history.history[\"acc\"]\n",
        "valid_acc = model.history.history[\"val_acc\"]\n",
        "\n",
        "plt.plot(range(len(train_loss)), train_loss, label=\"train loss\")\n",
        "plt.plot(range(len(valid_loss)), valid_loss, label=\"valid loss\")\n",
        "plt.legend()\n",
        "plt.title(\"Loss\")\n",
        "plt.show()\n",
        "\n",
        "plt.plot(range(len(train_acc)), train_acc, label=\"train accuracy\")\n",
        "plt.plot(range(len(valid_acc)), valid_acc, label=\"valid accuracy\")\n",
        "plt.legend()\n",
        "plt.title(\"Accuracy\")\n",
        "plt.show()"
      ],
      "execution_count": 7,
      "outputs": [
        {
          "output_type": "display_data",
          "data": {
            "image/png": "[encoded data removed]",
            "text/plain": [
              "<Figure size 432x288 with 1 Axes>"
            ]
          },
          "metadata": {
            "tags": []
          }
        },
        {
          "output_type": "display_data",
          "data": {
            "image/png": "[encoded data removed]",
            "text/plain": [
              "<Figure size 432x288 with 1 Axes>"
            ]
          },
          "metadata": {
            "tags": []
          }
        }
      ]
    },
    {
      "cell_type": "markdown",
      "metadata": {
        "id": "DwGt5_HKcm3b",
        "colab_type": "text"
      },
      "source": [
        "## 作業\n",
        "1. 請將 Epoch 加到 500 個，並觀察 learning curve 的走勢\n",
        "2. 請將 Optimizer 換成 SGD，並觀察 learning curve 的走勢"
      ]
    }
  ]
}