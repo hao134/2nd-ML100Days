{
 "cells": [
  {
   "cell_type": "markdown",
   "metadata": {},
   "source": [
    "### 作業一\n",
    "data choice: https://www.kaggle.com/shahir/protein-data-set\n",
    "1. 你選的這組資料為何重要?\n",
    "ans: Protein data base helped the life science community to study about different diseases and come with new drugs and solution that help the human survival.\n",
    "2. 資料從何而來 (tips: 譬如提供者是誰、以什麼方式蒐集)？\n",
    "ans: 提供者： http://www.rcsb.org/pdb/\n",
    "3. 蒐集而來的資料型態為何？\n",
    "ans: 結構化：數值，表格。\n",
    "![](https://i.imgur.com/u7heBzQ.jpg)\n",
    "4. 這組資料想解決的問題如何評估?\n",
    "ans: 這是分類問題，用正確率評估。\n"
   ]
  },
  {
   "cell_type": "markdown",
   "metadata": {},
   "source": [
    "### 作業二\n",
    "1. 核心問題為何？\n",
    "ans: 如何提升載客率，分析影響載客率的因素\n",
    "2. 資料從何而來？\n",
    "ans: 影響載客率的因素：地點，時段，天氣，活動.....，蒐集在各個因素下影響的載客人數。\n",
    "3. 資料型態為何？\n",
    "ans: 結構化：數值, 表格\n",
    "4. 你要回答的問題，其如何評估 ?\n",
    "ans: 回歸問題：MSE"
   ]
  },
  {
   "cell_type": "markdown",
   "metadata": {},
   "source": [
    "### 作業三"
   ]
  },
  {
   "cell_type": "code",
   "execution_count": null,
   "metadata": {},
   "outputs": [],
   "source": []
  }
 ],
 "metadata": {
  "kernelspec": {
   "display_name": "Python 3",
   "language": "python",
   "name": "python3"
  },
  "language_info": {
   "codemirror_mode": {
    "name": "ipython",
    "version": 3
   },
   "file_extension": ".py",
   "mimetype": "text/x-python",
   "name": "python",
   "nbconvert_exporter": "python",
   "pygments_lexer": "ipython3",
   "version": "3.7.1"
  }
 },
 "nbformat": 4,
 "nbformat_minor": 2
}
