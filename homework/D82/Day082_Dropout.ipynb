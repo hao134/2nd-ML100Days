{
 "cells": [
  {
   "cell_type": "markdown",
   "metadata": {},
   "source": [
    "## 範例重點\n",
    "* 知道如何在 keras 中加入 dropout\n",
    "* 了解 dropout 中 ratio 的意義與對訓練的影響"
   ]
  },
  {
   "cell_type": "code",
   "execution_count": 1,
   "metadata": {},
   "outputs": [
    {
     "name": "stderr",
     "output_type": "stream",
     "text": [
      "Using TensorFlow backend.\n"
     ]
    }
   ],
   "source": [
    "import os\n",
    "import keras\n",
    "\n",
    "# 本範例不需使用 GPU, 將 GPU 設定為 \"無\"\n",
    "os.environ[\"CUDA_VISIBLE_DEVICES\"] = \"\""
   ]
  },
  {
   "cell_type": "code",
   "execution_count": 2,
   "metadata": {},
   "outputs": [],
   "source": [
    "train, test = keras.datasets.cifar10.load_data()"
   ]
  },
  {
   "cell_type": "code",
   "execution_count": 3,
   "metadata": {},
   "outputs": [],
   "source": [
    "## 資料前處理\n",
    "def preproc_x(x, flatten=True):\n",
    "    x = x / 255.\n",
    "    if flatten:\n",
    "        x = x.reshape((len(x), -1))\n",
    "    return x\n",
    "\n",
    "def preproc_y(y, num_classes=10):\n",
    "    if y.shape[-1] == 1:\n",
    "        y = keras.utils.to_categorical(y, num_classes)\n",
    "    return y    "
   ]
  },
  {
   "cell_type": "code",
   "execution_count": 4,
   "metadata": {},
   "outputs": [],
   "source": [
    "x_train, y_train = train\n",
    "x_test, y_test = test"
   ]
  },
  {
   "cell_type": "code",
   "execution_count": 5,
   "metadata": {},
   "outputs": [
    {
     "data": {
      "text/plain": [
       "(50000, 32, 32, 3)"
      ]
     },
     "execution_count": 5,
     "metadata": {},
     "output_type": "execute_result"
    }
   ],
   "source": [
    "x_train.shape"
   ]
  },
  {
   "cell_type": "code",
   "execution_count": 6,
   "metadata": {},
   "outputs": [
    {
     "data": {
      "text/plain": [
       "(50000, 1)"
      ]
     },
     "execution_count": 6,
     "metadata": {},
     "output_type": "execute_result"
    }
   ],
   "source": [
    "y_train.shape"
   ]
  },
  {
   "cell_type": "code",
   "execution_count": 7,
   "metadata": {},
   "outputs": [],
   "source": [
    "# 資料前處理 - X 標準化\n",
    "x_train = preproc_x(x_train)\n",
    "x_test = preproc_x(x_test)\n",
    "\n",
    "# 資料前處理 -Y 轉成 onehot\n",
    "y_train = preproc_y(y_train)\n",
    "y_test = preproc_y(y_test)"
   ]
  },
  {
   "cell_type": "code",
   "execution_count": 8,
   "metadata": {},
   "outputs": [
    {
     "data": {
      "text/plain": [
       "(50000, 3072)"
      ]
     },
     "execution_count": 8,
     "metadata": {},
     "output_type": "execute_result"
    }
   ],
   "source": [
    "x_train.shape"
   ]
  },
  {
   "cell_type": "code",
   "execution_count": 9,
   "metadata": {},
   "outputs": [
    {
     "data": {
      "text/plain": [
       "(50000, 10)"
      ]
     },
     "execution_count": 9,
     "metadata": {},
     "output_type": "execute_result"
    }
   ],
   "source": [
    "y_train.shape"
   ]
  },
  {
   "cell_type": "code",
   "execution_count": 14,
   "metadata": {},
   "outputs": [
    {
     "data": {
      "text/plain": [
       "(10000, 10)"
      ]
     },
     "execution_count": 14,
     "metadata": {},
     "output_type": "execute_result"
    }
   ],
   "source": [
    "y_test.shape"
   ]
  },
  {
   "cell_type": "code",
   "execution_count": 10,
   "metadata": {},
   "outputs": [],
   "source": [
    "from keras.layers import Dropout\n",
    "\n",
    "\"\"\"\n",
    "建立神經網路，並加入 dropout layer\n",
    "\"\"\"\n",
    "def build_mlp(input_shape, output_units=10, num_neurons=[512, 256, 128], drp_ratio=0.2):\n",
    "    input_layer = keras.layers.Input(input_shape)\n",
    "    \n",
    "    for i, n_units in enumerate(num_neurons):\n",
    "        if i == 0:\n",
    "            x = keras.layers.Dense(units=n_units, \n",
    "                                   activation=\"relu\", \n",
    "                                   name=\"hidden_layer\"+str(i+1))(input_layer)\n",
    "            x = Dropout(drp_ratio)(x)\n",
    "        else:\n",
    "            x = keras.layers.Dense(units=n_units, \n",
    "                                   activation=\"relu\", \n",
    "                                   name=\"hidden_layer\"+str(i+1))(x)\n",
    "            x = Dropout(drp_ratio)(x)\n",
    "    \n",
    "    out = keras.layers.Dense(units=output_units, activation=\"softmax\", name=\"output\")(x)\n",
    "    \n",
    "    model = keras.models.Model(inputs=[input_layer], outputs=[out])\n",
    "    return model"
   ]
  },
  {
   "cell_type": "code",
   "execution_count": 11,
   "metadata": {},
   "outputs": [],
   "source": [
    "## 超參數設定\n",
    "LEARNING_RATE = 1e-3\n",
    "EPOCHS = 50\n",
    "BATCH_SIZE = 256\n",
    "MOMENTUM = 0.95\n",
    "Dropout_EXP = 0.25"
   ]
  },
  {
   "cell_type": "code",
   "execution_count": 12,
   "metadata": {
    "scrolled": true
   },
   "outputs": [
    {
     "name": "stdout",
     "output_type": "stream",
     "text": [
      "WARNING:tensorflow:From /Users/shihhaohuang/anaconda3/lib/python3.7/site-packages/tensorflow/python/framework/op_def_library.py:263: colocate_with (from tensorflow.python.framework.ops) is deprecated and will be removed in a future version.\n",
      "Instructions for updating:\n",
      "Colocations handled automatically by placer.\n",
      "WARNING:tensorflow:From /Users/shihhaohuang/anaconda3/lib/python3.7/site-packages/keras/backend/tensorflow_backend.py:3445: calling dropout (from tensorflow.python.ops.nn_ops) with keep_prob is deprecated and will be removed in a future version.\n",
      "Instructions for updating:\n",
      "Please use `rate` instead of `keep_prob`. Rate should be set to `rate = 1 - keep_prob`.\n",
      "_________________________________________________________________\n",
      "Layer (type)                 Output Shape              Param #   \n",
      "=================================================================\n",
      "input_1 (InputLayer)         (None, 3072)              0         \n",
      "_________________________________________________________________\n",
      "hidden_layer1 (Dense)        (None, 512)               1573376   \n",
      "_________________________________________________________________\n",
      "dropout_1 (Dropout)          (None, 512)               0         \n",
      "_________________________________________________________________\n",
      "hidden_layer2 (Dense)        (None, 256)               131328    \n",
      "_________________________________________________________________\n",
      "dropout_2 (Dropout)          (None, 256)               0         \n",
      "_________________________________________________________________\n",
      "hidden_layer3 (Dense)        (None, 128)               32896     \n",
      "_________________________________________________________________\n",
      "dropout_3 (Dropout)          (None, 128)               0         \n",
      "_________________________________________________________________\n",
      "output (Dense)               (None, 10)                1290      \n",
      "=================================================================\n",
      "Total params: 1,738,890\n",
      "Trainable params: 1,738,890\n",
      "Non-trainable params: 0\n",
      "_________________________________________________________________\n",
      "WARNING:tensorflow:From /Users/shihhaohuang/anaconda3/lib/python3.7/site-packages/tensorflow/python/ops/math_ops.py:3066: to_int32 (from tensorflow.python.ops.math_ops) is deprecated and will be removed in a future version.\n",
      "Instructions for updating:\n",
      "Use tf.cast instead.\n",
      "Train on 50000 samples, validate on 10000 samples\n",
      "Epoch 1/50\n",
      "50000/50000 [==============================] - 14s 277us/step - loss: 2.1903 - acc: 0.1847 - val_loss: 1.9876 - val_acc: 0.3011\n",
      "Epoch 2/50\n",
      "50000/50000 [==============================] - 12s 232us/step - loss: 1.9919 - acc: 0.2721 - val_loss: 1.8667 - val_acc: 0.3420\n",
      "Epoch 3/50\n",
      "50000/50000 [==============================] - 12s 247us/step - loss: 1.9103 - acc: 0.3075 - val_loss: 1.8042 - val_acc: 0.3627\n",
      "Epoch 4/50\n",
      "50000/50000 [==============================] - 12s 246us/step - loss: 1.8604 - acc: 0.3294 - val_loss: 1.7483 - val_acc: 0.3820\n",
      "Epoch 5/50\n",
      "50000/50000 [==============================] - 11s 220us/step - loss: 1.8140 - acc: 0.3464 - val_loss: 1.7060 - val_acc: 0.3934\n",
      "Epoch 6/50\n",
      "50000/50000 [==============================] - 11s 225us/step - loss: 1.7810 - acc: 0.3607 - val_loss: 1.6776 - val_acc: 0.4086\n",
      "Epoch 7/50\n",
      "50000/50000 [==============================] - 14s 273us/step - loss: 1.7486 - acc: 0.3737 - val_loss: 1.6451 - val_acc: 0.4191\n",
      "Epoch 8/50\n",
      "50000/50000 [==============================] - 19s 380us/step - loss: 1.7224 - acc: 0.3838 - val_loss: 1.6245 - val_acc: 0.4232\n",
      "Epoch 9/50\n",
      "50000/50000 [==============================] - 15s 305us/step - loss: 1.7046 - acc: 0.3897 - val_loss: 1.5962 - val_acc: 0.4344\n",
      "Epoch 10/50\n",
      "50000/50000 [==============================] - 12s 247us/step - loss: 1.6817 - acc: 0.4000 - val_loss: 1.5807 - val_acc: 0.4376\n",
      "Epoch 11/50\n",
      "50000/50000 [==============================] - 14s 278us/step - loss: 1.6622 - acc: 0.4044 - val_loss: 1.5616 - val_acc: 0.4454\n",
      "Epoch 12/50\n",
      "50000/50000 [==============================] - 13s 264us/step - loss: 1.6429 - acc: 0.4119 - val_loss: 1.5483 - val_acc: 0.4521\n",
      "Epoch 13/50\n",
      "50000/50000 [==============================] - 12s 250us/step - loss: 1.6282 - acc: 0.4197 - val_loss: 1.5359 - val_acc: 0.4554\n",
      "Epoch 14/50\n",
      "50000/50000 [==============================] - 13s 264us/step - loss: 1.6057 - acc: 0.4276 - val_loss: 1.5150 - val_acc: 0.4661\n",
      "Epoch 15/50\n",
      "50000/50000 [==============================] - 12s 237us/step - loss: 1.5926 - acc: 0.4331 - val_loss: 1.5004 - val_acc: 0.4678\n",
      "Epoch 16/50\n",
      "50000/50000 [==============================] - 13s 268us/step - loss: 1.5801 - acc: 0.4351 - val_loss: 1.4938 - val_acc: 0.4677\n",
      "Epoch 17/50\n",
      "50000/50000 [==============================] - 13s 262us/step - loss: 1.5674 - acc: 0.4443 - val_loss: 1.4815 - val_acc: 0.4702\n",
      "Epoch 18/50\n",
      "50000/50000 [==============================] - 12s 241us/step - loss: 1.5576 - acc: 0.4461 - val_loss: 1.4693 - val_acc: 0.4767\n",
      "Epoch 19/50\n",
      "50000/50000 [==============================] - 14s 271us/step - loss: 1.5394 - acc: 0.4513 - val_loss: 1.4576 - val_acc: 0.4804\n",
      "Epoch 20/50\n",
      "50000/50000 [==============================] - 15s 303us/step - loss: 1.5302 - acc: 0.4531 - val_loss: 1.4523 - val_acc: 0.4814\n",
      "Epoch 21/50\n",
      "50000/50000 [==============================] - 16s 321us/step - loss: 1.5117 - acc: 0.4633 - val_loss: 1.4428 - val_acc: 0.4850\n",
      "Epoch 22/50\n",
      "50000/50000 [==============================] - 12s 247us/step - loss: 1.5058 - acc: 0.4667 - val_loss: 1.4411 - val_acc: 0.4856\n",
      "Epoch 23/50\n",
      "50000/50000 [==============================] - 13s 261us/step - loss: 1.4965 - acc: 0.4681 - val_loss: 1.4310 - val_acc: 0.4899\n",
      "Epoch 24/50\n",
      "50000/50000 [==============================] - 13s 270us/step - loss: 1.4875 - acc: 0.4704 - val_loss: 1.4259 - val_acc: 0.4917\n",
      "Epoch 25/50\n",
      "50000/50000 [==============================] - 14s 282us/step - loss: 1.4735 - acc: 0.4748 - val_loss: 1.4121 - val_acc: 0.4955\n",
      "Epoch 26/50\n",
      "50000/50000 [==============================] - 14s 279us/step - loss: 1.4695 - acc: 0.4761 - val_loss: 1.3998 - val_acc: 0.4973\n",
      "Epoch 27/50\n",
      "50000/50000 [==============================] - 14s 279us/step - loss: 1.4520 - acc: 0.4835 - val_loss: 1.4023 - val_acc: 0.4997\n",
      "Epoch 28/50\n",
      "50000/50000 [==============================] - 13s 262us/step - loss: 1.4472 - acc: 0.4874 - val_loss: 1.3992 - val_acc: 0.4970\n",
      "Epoch 29/50\n",
      "50000/50000 [==============================] - 14s 278us/step - loss: 1.4349 - acc: 0.4881 - val_loss: 1.3851 - val_acc: 0.5033\n",
      "Epoch 30/50\n",
      "50000/50000 [==============================] - 15s 296us/step - loss: 1.4313 - acc: 0.4873 - val_loss: 1.3840 - val_acc: 0.5021\n",
      "Epoch 31/50\n",
      "50000/50000 [==============================] - 15s 308us/step - loss: 1.4215 - acc: 0.4937 - val_loss: 1.3788 - val_acc: 0.5069\n",
      "Epoch 32/50\n",
      "50000/50000 [==============================] - 13s 266us/step - loss: 1.4172 - acc: 0.4945 - val_loss: 1.3728 - val_acc: 0.5101\n",
      "Epoch 33/50\n",
      "50000/50000 [==============================] - 14s 287us/step - loss: 1.4074 - acc: 0.4962 - val_loss: 1.3715 - val_acc: 0.5091\n",
      "Epoch 34/50\n",
      "50000/50000 [==============================] - 12s 247us/step - loss: 1.3951 - acc: 0.5030 - val_loss: 1.3615 - val_acc: 0.5145\n",
      "Epoch 35/50\n",
      "50000/50000 [==============================] - 13s 267us/step - loss: 1.3888 - acc: 0.5050 - val_loss: 1.3591 - val_acc: 0.5071\n",
      "Epoch 36/50\n",
      "50000/50000 [==============================] - 13s 262us/step - loss: 1.3782 - acc: 0.5104 - val_loss: 1.3536 - val_acc: 0.5161\n",
      "Epoch 37/50\n",
      "50000/50000 [==============================] - 14s 279us/step - loss: 1.3683 - acc: 0.5123 - val_loss: 1.3471 - val_acc: 0.5190\n",
      "Epoch 38/50\n",
      "50000/50000 [==============================] - 14s 287us/step - loss: 1.3668 - acc: 0.5145 - val_loss: 1.3566 - val_acc: 0.5204\n",
      "Epoch 39/50\n",
      "50000/50000 [==============================] - 13s 255us/step - loss: 1.3590 - acc: 0.5142 - val_loss: 1.3436 - val_acc: 0.5170\n",
      "Epoch 40/50\n",
      "50000/50000 [==============================] - 13s 250us/step - loss: 1.3494 - acc: 0.5175 - val_loss: 1.3364 - val_acc: 0.5244\n",
      "Epoch 41/50\n",
      "50000/50000 [==============================] - 13s 255us/step - loss: 1.3431 - acc: 0.5196 - val_loss: 1.3421 - val_acc: 0.5222\n",
      "Epoch 42/50\n",
      "50000/50000 [==============================] - 14s 284us/step - loss: 1.3341 - acc: 0.5222 - val_loss: 1.3438 - val_acc: 0.5151\n",
      "Epoch 43/50\n",
      "50000/50000 [==============================] - 14s 275us/step - loss: 1.3339 - acc: 0.5260 - val_loss: 1.3378 - val_acc: 0.5223\n",
      "Epoch 44/50\n",
      "50000/50000 [==============================] - 13s 255us/step - loss: 1.3286 - acc: 0.5258 - val_loss: 1.3280 - val_acc: 0.5272\n",
      "Epoch 45/50\n",
      "50000/50000 [==============================] - 13s 253us/step - loss: 1.3210 - acc: 0.5282 - val_loss: 1.3340 - val_acc: 0.5262\n",
      "Epoch 46/50\n",
      "50000/50000 [==============================] - 13s 257us/step - loss: 1.3136 - acc: 0.5322 - val_loss: 1.3270 - val_acc: 0.5246\n",
      "Epoch 47/50\n",
      "50000/50000 [==============================] - 13s 261us/step - loss: 1.3048 - acc: 0.5353 - val_loss: 1.3105 - val_acc: 0.5334\n",
      "Epoch 48/50\n",
      "50000/50000 [==============================] - 13s 261us/step - loss: 1.2979 - acc: 0.5394 - val_loss: 1.3124 - val_acc: 0.5381\n",
      "Epoch 49/50\n",
      "50000/50000 [==============================] - 14s 270us/step - loss: 1.2929 - acc: 0.5374 - val_loss: 1.3100 - val_acc: 0.5319\n",
      "Epoch 50/50\n",
      "50000/50000 [==============================] - 13s 256us/step - loss: 1.2841 - acc: 0.5417 - val_loss: 1.3143 - val_acc: 0.5311\n"
     ]
    }
   ],
   "source": [
    "model = build_mlp(input_shape=x_train.shape[1:], drp_ratio=Dropout_EXP)\n",
    "model.summary()\n",
    "optimizer = keras.optimizers.SGD(lr=LEARNING_RATE, nesterov=True, momentum=MOMENTUM)\n",
    "model.compile(loss=\"categorical_crossentropy\", metrics=[\"accuracy\"], optimizer=optimizer)\n",
    "\n",
    "model.fit(x_train, y_train, \n",
    "          epochs=EPOCHS, \n",
    "          batch_size=BATCH_SIZE, \n",
    "          validation_data=(x_test, y_test), \n",
    "          shuffle=True)\n",
    "\n",
    "# Collect results\n",
    "train_loss = model.history.history[\"loss\"]\n",
    "valid_loss = model.history.history[\"val_loss\"]\n",
    "train_acc = model.history.history[\"acc\"]\n",
    "valid_acc = model.history.history[\"val_acc\"]"
   ]
  },
  {
   "cell_type": "code",
   "execution_count": 15,
   "metadata": {},
   "outputs": [
    {
     "data": {
      "image/png": "[encoded data removed]",
      "text/plain": [
       "<Figure size 432x288 with 1 Axes>"
      ]
     },
     "metadata": {
      "needs_background": "light"
     },
     "output_type": "display_data"
    },
    {
     "data": {
      "image/png": "[encoded data removed]",
      "text/plain": [
       "<Figure size 432x288 with 1 Axes>"
      ]
     },
     "metadata": {
      "needs_background": "light"
     },
     "output_type": "display_data"
    }
   ],
   "source": [
    "import matplotlib.pyplot as plt\n",
    "%matplotlib inline\n",
    "\n",
    "plt.plot(range(len(train_loss)), train_loss, label=\"train loss\")\n",
    "plt.plot(range(len(valid_loss)), valid_loss, label=\"valid loss\")\n",
    "plt.legend()\n",
    "plt.title(\"Loss_SGD\")\n",
    "plt.show()\n",
    "\n",
    "plt.plot(range(len(train_acc)), train_acc, label=\"train accuracy\")\n",
    "plt.plot(range(len(valid_acc)), valid_acc, label=\"valid accuracy\")\n",
    "plt.legend()\n",
    "plt.title(\"Accuracy_SGD\")\n",
    "plt.show()"
   ]
  },
  {
   "cell_type": "markdown",
   "metadata": {},
   "source": [
    "## Work\n",
    "1. 請比較使用不同層數以及不同 Dropout rate 對訓練的效果\n",
    "2. 將 optimizer 改成使用 Adam 並加上適當的 dropout rate 檢視結果"
   ]
  }
 ],
 "metadata": {
  "kernelspec": {
   "display_name": "Python 3",
   "language": "python",
   "name": "python3"
  },
  "language_info": {
   "codemirror_mode": {
    "name": "ipython",
    "version": 3
   },
   "file_extension": ".py",
   "mimetype": "text/x-python",
   "name": "python",
   "nbconvert_exporter": "python",
   "pygments_lexer": "ipython3",
   "version": "3.7.1"
  }
 },
 "nbformat": 4,
 "nbformat_minor": 2
}
