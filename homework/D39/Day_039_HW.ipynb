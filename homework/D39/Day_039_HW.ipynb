{
 "cells": [
  {
   "cell_type": "markdown",
   "metadata": {},
   "source": [
    "## [作業重點]\n",
    "清楚了解 L1, L2 的意義與差異為何，並了解 LASSO 與 Ridge 之間的差異與使用情境"
   ]
  },
  {
   "cell_type": "markdown",
   "metadata": {},
   "source": [
    "## 作業"
   ]
  },
  {
   "cell_type": "markdown",
   "metadata": {},
   "source": [
    "請閱讀相關文獻，並回答下列問題\n",
    "\n",
    "[脊回歸 (Ridge Regression)](https://blog.csdn.net/daunxx/article/details/51578787)\n",
    "[Linear, Ridge, Lasso Regression 本質區別](https://www.zhihu.com/question/38121173)\n",
    "\n",
    "1. LASSO 回歸可以被用來作為 Feature selection 的工具，請了解 LASSO 模型為什麼可用來作 Feature selection\n",
    "2. 當自變數 (X) 存在高度共線性時，Ridge Regression 可以處理這樣的問題嗎?\n"
   ]
  },
  {
   "cell_type": "markdown",
   "metadata": {},
   "source": [
    "1. 它讓一些weight變成0, 因此特徵的影響就減為0, 達到特徵挑選的目的。"
   ]
  },
  {
   "cell_type": "markdown",
   "metadata": {},
   "source": [
    "2. 當設計矩陣X\n",
    "存在多重共線性的時候（數學上稱為病態矩陣），最小二乘法求得的參數w在數值上會非常的大，而一般的線性回歸其模型是 y=wTx，顯然，就是因為w在數值上非常的大，所以，如果輸入變量x有一個微小的變動，其反應在輸出結果上也會變得非常大，這就是對輸入變量總的噪聲非常敏感的原因。如果能限制參數w的增長，使w不會變得特別大，那麼模型對輸入w中噪聲的敏感度就會降低。這就是脊回歸和套索回歸（Ridge Regression and Lasso Regrission）的基本思想。\n",
    "\n",
    "---------------------\n",
    "作者：Duanxx\n",
    "來源：CSDN\n",
    "原文：https://blog.csdn.net/daunxx/article/details/51578787\n",
    "版權聲明：本文為博主原創文章，轉載請附上博文鏈接！"
   ]
  },
  {
   "cell_type": "code",
   "execution_count": null,
   "metadata": {},
   "outputs": [],
   "source": []
  }
 ],
 "metadata": {
  "kernelspec": {
   "display_name": "Python 3",
   "language": "python",
   "name": "python3"
  },
  "language_info": {
   "codemirror_mode": {
    "name": "ipython",
    "version": 3
   },
   "file_extension": ".py",
   "mimetype": "text/x-python",
   "name": "python",
   "nbconvert_exporter": "python",
   "pygments_lexer": "ipython3",
   "version": "3.7.1"
  }
 },
 "nbformat": 4,
 "nbformat_minor": 2
}
