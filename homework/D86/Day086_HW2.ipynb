{
  "nbformat": 4,
  "nbformat_minor": 0,
  "metadata": {
    "kernelspec": {
      "name": "python3",
      "display_name": "Python 3"
    },
    "language_info": {
      "codemirror_mode": {
        "name": "ipython",
        "version": 3
      },
      "file_extension": ".py",
      "mimetype": "text/x-python",
      "name": "python",
      "nbconvert_exporter": "python",
      "pygments_lexer": "ipython3",
      "version": "3.7.1"
    },
    "colab": {
      "name": "Day086_HW.ipynb",
      "version": "0.3.2",
      "provenance": [],
      "collapsed_sections": []
    },
    "accelerator": "GPU"
  },
  "cells": [
    {
      "cell_type": "markdown",
      "metadata": {
        "id": "CybGXxvFk3vu",
        "colab_type": "text"
      },
      "source": [
        "## Work\n",
        "1. 試比較 save_best_only 與否的差異\n",
        "2. 請僅存入將 save_weights_only 設定為 True, 並嘗試 reset ipynb 並將模型與權重重新建回並預測 x_test"
      ]
    },
    {
      "cell_type": "code",
      "metadata": {
        "id": "nPMvt8EAk8kG",
        "colab_type": "code",
        "outputId": "5a4303e5-bce8-47ca-ea25-dbd844120133",
        "colab": {
          "base_uri": "https://localhost:8080/",
          "height": 404
        }
      },
      "source": [
        "!nvidia-smi"
      ],
      "execution_count": 1,
      "outputs": [
        {
          "output_type": "stream",
          "text": [
            "Mon Jul 22 14:04:41 2019       \n",
            "+-----------------------------------------------------------------------------+\n",
            "| NVIDIA-SMI 418.67       Driver Version: 410.79       CUDA Version: 10.0     |\n",
            "|-------------------------------+----------------------+----------------------+\n",
            "| GPU  Name        Persistence-M| Bus-Id        Disp.A | Volatile Uncorr. ECC |\n",
            "| Fan  Temp  Perf  Pwr:Usage/Cap|         Memory-Usage | GPU-Util  Compute M. |\n",
            "|===============================+======================+======================|\n",
            "|   0  Tesla T4            Off  | 00000000:00:04.0 Off |                    0 |\n",
            "| N/A   47C    P8    16W /  70W |      0MiB / 15079MiB |      0%      Default |\n",
            "+-------------------------------+----------------------+----------------------+\n",
            "                                                                               \n",
            "+-----------------------------------------------------------------------------+\n",
            "| Processes:                                                       GPU Memory |\n",
            "|  GPU       PID   Type   Process name                             Usage      |\n",
            "|=============================================================================|\n",
            "|  No running processes found                                                 |\n",
            "+-----------------------------------------------------------------------------+\n"
          ],
          "name": "stdout"
        }
      ]
    },
    {
      "cell_type": "code",
      "metadata": {
        "id": "Fgl3DTf2k3vx",
        "colab_type": "code",
        "outputId": "6917fbeb-ec32-41f2-c022-fff9a7542e59",
        "colab": {
          "base_uri": "https://localhost:8080/",
          "height": 96
        }
      },
      "source": [
        "import os\n",
        "import keras\n",
        "\n",
        "# Disable GPU\n",
        "os.environ[\"CUDA_VISIBLE_DEVICES\"] = \"\""
      ],
      "execution_count": 2,
      "outputs": [
        {
          "output_type": "stream",
          "text": [
            "Using TensorFlow backend.\n"
          ],
          "name": "stderr"
        }
      ]
    },
    {
      "cell_type": "code",
      "metadata": {
        "id": "VZnDX4QCk3we",
        "colab_type": "code",
        "colab": {
          "base_uri": "https://localhost:8080/",
          "height": 332
        },
        "outputId": "aed488dc-13b9-44ea-d58e-4981448f42c5"
      },
      "source": [
        "train, test = keras.datasets.cifar10.load_data()"
      ],
      "execution_count": 3,
      "outputs": [
        {
          "output_type": "stream",
          "text": [
            "Downloading data from https://www.cs.toronto.edu/~kriz/cifar-10-python.tar.gz\n",
            "170500096/170498071 [==============================] - 2s 0us/step\n"
          ],
          "name": "stdout"
        }
      ]
    },
    {
      "cell_type": "code",
      "metadata": {
        "id": "954CYLEXk3wk",
        "colab_type": "code",
        "colab": {}
      },
      "source": [
        "## 資料前處理\n",
        "def preproc_x(x, flatten=True):\n",
        "    x = x / 255.\n",
        "    if flatten:\n",
        "        x = x.reshape((len(x), -1))\n",
        "    return x\n",
        "\n",
        "def preproc_y(y, num_classes=10):\n",
        "    if y.shape[-1] == 1:\n",
        "        y = keras.utils.to_categorical(y, num_classes)\n",
        "    return y    "
      ],
      "execution_count": 0,
      "outputs": []
    },
    {
      "cell_type": "code",
      "metadata": {
        "id": "TQM40m5Bk3wy",
        "colab_type": "code",
        "colab": {}
      },
      "source": [
        "x_train, y_train = train\n",
        "x_test, y_test = test\n",
        "\n",
        "# Preproc the inputs\n",
        "x_train = preproc_x(x_train)\n",
        "x_test = preproc_x(x_test)\n",
        "\n",
        "# Preprc the outputs\n",
        "y_train = preproc_y(y_train)\n",
        "y_test = preproc_y(y_test)"
      ],
      "execution_count": 0,
      "outputs": []
    },
    {
      "cell_type": "code",
      "metadata": {
        "id": "RT1udX_hk3w7",
        "colab_type": "code",
        "colab": {}
      },
      "source": [
        "from keras.layers import BatchNormalization\n",
        "def build_mlp(input_shape, output_units = 10, num_neurons = [512, 256, 128]):\n",
        "  input_layer = keras.layers.Input(input_shape)\n",
        "  \n",
        "  for i, n_units in enumerate(num_neurons):\n",
        "    if i == 0:\n",
        "      x = keras.layers.Dense(units = n_units,\n",
        "                                      activation = 'relu',\n",
        "                                      name = 'hidden_layer' + str(i + 1))(input_layer)\n",
        "      x = BatchNormalization()(x)\n",
        "    else:\n",
        "      x = keras.layers.Dense(units = n_units,\n",
        "                                      activation = 'relu',\n",
        "                                      name = 'hidden_layer' + str(i + 1))(x)\n",
        "      x = BatchNormalization()(x)\n",
        "  out = keras.layers.Dense(units = output_units, activation = 'softmax', name = 'output')(x)\n",
        "  \n",
        "  model = keras.models.Model(inputs = [input_layer], outputs = [out])\n",
        "  return model"
      ],
      "execution_count": 0,
      "outputs": []
    },
    {
      "cell_type": "code",
      "metadata": {
        "id": "va4mRK0fk3xM",
        "colab_type": "code",
        "colab": {}
      },
      "source": [
        "## 超參數設定\n",
        "LEARNING_RATE = 1e-3\n",
        "EPOCHS = 50\n",
        "BATCH_SIZE = 1024\n",
        "MOMENTUM = 0.95\n",
        "Save_best = [True,False]"
      ],
      "execution_count": 0,
      "outputs": []
    },
    {
      "cell_type": "code",
      "metadata": {
        "id": "uOv2CcCsk3xb",
        "colab_type": "code",
        "outputId": "8f6c91c3-ee5c-4868-f011-0c47be9d2192",
        "colab": {
          "base_uri": "https://localhost:8080/",
          "height": 1000
        }
      },
      "source": [
        "# 載入 Callbacks\n",
        "\"\"\"Code Here\n",
        "設定 callbacks: model checkpoint\n",
        "\"\"\"\n",
        "from keras.callbacks import ModelCheckpoint\n",
        "results = {}\n",
        "for i, save_bst in enumerate(Save_best):\n",
        "    keras.backend.clear_session()\n",
        "    print('Experiment with the model checkpoint is %s' %save_bst)\n",
        "    model = build_mlp(input_shape = x_train.shape[1:])\n",
        "    model.summary()\n",
        "    optimizer = keras.optimizers.SGD(lr = LEARNING_RATE, nesterov = True, momentum = MOMENTUM)\n",
        "    if i == 0:\n",
        "      tmp = True\n",
        "      model_ckpt = ModelCheckpoint(filepath = './hw_'+ str(tmp)+'.h5' ,monitor = 'val_loss',save_best_only = save_bst )\n",
        "    else:\n",
        "      tmp = False\n",
        "      model_ckpt = ModelCheckpoint(filepath = './hw_'+ str(tmp)+'.h5' ,monitor = 'val_loss',save_best_only = save_bst )\n",
        "    model.compile(loss = 'categorical_crossentropy', metrics = ['accuracy'], optimizer = optimizer)\n",
        "    model.fit(x_train, y_train, \n",
        "            epochs=EPOCHS, \n",
        "            batch_size=BATCH_SIZE, \n",
        "            validation_data=(x_test, y_test), \n",
        "            callbacks = [model_ckpt],\n",
        "            shuffle=True)\n",
        "\n",
        "   # Load back\n",
        "    model2 = keras.models.load_model('./hw_'+ str(tmp)+'.h5')\n",
        "    loss_loadback, acc_loadback = model2.evaluate(x_test, y_test)\n",
        "   # Collect results \n",
        "    exp_name_tag = ('exp-%s' % (i))\n",
        "    results[exp_name_tag] = {'train-loss': model.history.history[\"loss\"],\n",
        "                             'valid-loss': model.history.history[\"val_loss\"],\n",
        "                             'train-acc': model.history.history[\"acc\"],\n",
        "                             'valid-acc': model.history.history[\"val_acc\"],\n",
        "                             'loss_loadback' : loss_loadback,\n",
        "                             'acc_loadback' : acc_loadback}"
      ],
      "execution_count": 9,
      "outputs": [
        {
          "output_type": "stream",
          "text": [
            "Experiment with the model checkpoint is True\n",
            "_________________________________________________________________\n",
            "Layer (type)                 Output Shape              Param #   \n",
            "=================================================================\n",
            "input_1 (InputLayer)         (None, 3072)              0         \n",
            "_________________________________________________________________\n",
            "hidden_layer1 (Dense)        (None, 512)               1573376   \n",
            "_________________________________________________________________\n",
            "batch_normalization_1 (Batch (None, 512)               2048      \n",
            "_________________________________________________________________\n",
            "hidden_layer2 (Dense)        (None, 256)               131328    \n",
            "_________________________________________________________________\n",
            "batch_normalization_2 (Batch (None, 256)               1024      \n",
            "_________________________________________________________________\n",
            "hidden_layer3 (Dense)        (None, 128)               32896     \n",
            "_________________________________________________________________\n",
            "batch_normalization_3 (Batch (None, 128)               512       \n",
            "_________________________________________________________________\n",
            "output (Dense)               (None, 10)                1290      \n",
            "=================================================================\n",
            "Total params: 1,742,474\n",
            "Trainable params: 1,740,682\n",
            "Non-trainable params: 1,792\n",
            "_________________________________________________________________\n",
            "Train on 50000 samples, validate on 10000 samples\n",
            "Epoch 1/50\n",
            "50000/50000 [==============================] - 8s 152us/step - loss: 2.2062 - acc: 0.2778 - val_loss: 2.1553 - val_acc: 0.3244\n",
            "Epoch 2/50\n",
            "50000/50000 [==============================] - 7s 146us/step - loss: 1.7324 - acc: 0.3984 - val_loss: 1.8095 - val_acc: 0.3864\n",
            "Epoch 3/50\n",
            "50000/50000 [==============================] - 7s 144us/step - loss: 1.6071 - acc: 0.4389 - val_loss: 1.7052 - val_acc: 0.4087\n",
            "Epoch 4/50\n",
            "50000/50000 [==============================] - 7s 146us/step - loss: 1.5356 - acc: 0.4627 - val_loss: 1.6434 - val_acc: 0.4303\n",
            "Epoch 5/50\n",
            "50000/50000 [==============================] - 7s 147us/step - loss: 1.4818 - acc: 0.4831 - val_loss: 1.5994 - val_acc: 0.4414\n",
            "Epoch 6/50\n",
            "50000/50000 [==============================] - 7s 148us/step - loss: 1.4378 - acc: 0.4976 - val_loss: 1.5812 - val_acc: 0.4508\n",
            "Epoch 7/50\n",
            "50000/50000 [==============================] - 7s 148us/step - loss: 1.3997 - acc: 0.5114 - val_loss: 1.5647 - val_acc: 0.4569\n",
            "Epoch 8/50\n",
            "50000/50000 [==============================] - 7s 150us/step - loss: 1.3650 - acc: 0.5248 - val_loss: 1.5412 - val_acc: 0.4591\n",
            "Epoch 9/50\n",
            "50000/50000 [==============================] - 8s 150us/step - loss: 1.3337 - acc: 0.5332 - val_loss: 1.5255 - val_acc: 0.4679\n",
            "Epoch 10/50\n",
            "50000/50000 [==============================] - 7s 149us/step - loss: 1.3053 - acc: 0.5462 - val_loss: 1.5180 - val_acc: 0.4673\n",
            "Epoch 11/50\n",
            "50000/50000 [==============================] - 7s 149us/step - loss: 1.2780 - acc: 0.5553 - val_loss: 1.5197 - val_acc: 0.4707\n",
            "Epoch 12/50\n",
            "50000/50000 [==============================] - 8s 150us/step - loss: 1.2517 - acc: 0.5666 - val_loss: 1.5030 - val_acc: 0.4670\n",
            "Epoch 13/50\n",
            "50000/50000 [==============================] - 7s 149us/step - loss: 1.2257 - acc: 0.5726 - val_loss: 1.4888 - val_acc: 0.4807\n",
            "Epoch 14/50\n",
            "50000/50000 [==============================] - 7s 149us/step - loss: 1.2004 - acc: 0.5831 - val_loss: 1.4849 - val_acc: 0.4779\n",
            "Epoch 15/50\n",
            "50000/50000 [==============================] - 7s 149us/step - loss: 1.1778 - acc: 0.5916 - val_loss: 1.5042 - val_acc: 0.4695\n",
            "Epoch 16/50\n",
            "50000/50000 [==============================] - 7s 147us/step - loss: 1.1554 - acc: 0.5994 - val_loss: 1.4883 - val_acc: 0.4784\n",
            "Epoch 17/50\n",
            "50000/50000 [==============================] - 7s 149us/step - loss: 1.1322 - acc: 0.6098 - val_loss: 1.4833 - val_acc: 0.4796\n",
            "Epoch 18/50\n",
            "50000/50000 [==============================] - 7s 148us/step - loss: 1.1100 - acc: 0.6189 - val_loss: 1.4804 - val_acc: 0.4843\n",
            "Epoch 19/50\n",
            "50000/50000 [==============================] - 7s 149us/step - loss: 1.0890 - acc: 0.6261 - val_loss: 1.4732 - val_acc: 0.4829\n",
            "Epoch 20/50\n",
            "50000/50000 [==============================] - 8s 151us/step - loss: 1.0684 - acc: 0.6326 - val_loss: 1.4775 - val_acc: 0.4872\n",
            "Epoch 21/50\n",
            "50000/50000 [==============================] - 8s 151us/step - loss: 1.0472 - acc: 0.6419 - val_loss: 1.4856 - val_acc: 0.4814\n",
            "Epoch 22/50\n",
            "50000/50000 [==============================] - 8s 155us/step - loss: 1.0260 - acc: 0.6494 - val_loss: 1.4718 - val_acc: 0.4882\n",
            "Epoch 23/50\n",
            "50000/50000 [==============================] - 8s 152us/step - loss: 1.0057 - acc: 0.6588 - val_loss: 1.4729 - val_acc: 0.4908\n",
            "Epoch 24/50\n",
            "50000/50000 [==============================] - 8s 153us/step - loss: 0.9845 - acc: 0.6666 - val_loss: 1.4761 - val_acc: 0.4847\n",
            "Epoch 25/50\n",
            "50000/50000 [==============================] - 8s 153us/step - loss: 0.9654 - acc: 0.6739 - val_loss: 1.4783 - val_acc: 0.4845\n",
            "Epoch 26/50\n",
            "50000/50000 [==============================] - 8s 152us/step - loss: 0.9430 - acc: 0.6824 - val_loss: 1.4831 - val_acc: 0.4881\n",
            "Epoch 27/50\n",
            "50000/50000 [==============================] - 8s 151us/step - loss: 0.9256 - acc: 0.6894 - val_loss: 1.4923 - val_acc: 0.4875\n",
            "Epoch 28/50\n",
            "50000/50000 [==============================] - 8s 151us/step - loss: 0.9055 - acc: 0.6977 - val_loss: 1.4855 - val_acc: 0.4872\n",
            "Epoch 29/50\n",
            "50000/50000 [==============================] - 8s 154us/step - loss: 0.8855 - acc: 0.7066 - val_loss: 1.4962 - val_acc: 0.4872\n",
            "Epoch 30/50\n",
            "50000/50000 [==============================] - 8s 153us/step - loss: 0.8647 - acc: 0.7135 - val_loss: 1.4939 - val_acc: 0.4886\n",
            "Epoch 31/50\n",
            "50000/50000 [==============================] - 8s 154us/step - loss: 0.8481 - acc: 0.7210 - val_loss: 1.5126 - val_acc: 0.4892\n",
            "Epoch 32/50\n",
            "50000/50000 [==============================] - 8s 153us/step - loss: 0.8290 - acc: 0.7275 - val_loss: 1.5113 - val_acc: 0.4887\n",
            "Epoch 33/50\n",
            "50000/50000 [==============================] - 8s 154us/step - loss: 0.8093 - acc: 0.7345 - val_loss: 1.5316 - val_acc: 0.4851\n",
            "Epoch 34/50\n",
            "50000/50000 [==============================] - 8s 152us/step - loss: 0.7906 - acc: 0.7437 - val_loss: 1.5272 - val_acc: 0.4911\n",
            "Epoch 35/50\n",
            "50000/50000 [==============================] - 7s 149us/step - loss: 0.7727 - acc: 0.7491 - val_loss: 1.5376 - val_acc: 0.4899\n",
            "Epoch 36/50\n",
            "50000/50000 [==============================] - 8s 150us/step - loss: 0.7527 - acc: 0.7573 - val_loss: 1.5463 - val_acc: 0.4863\n",
            "Epoch 37/50\n",
            "50000/50000 [==============================] - 8s 151us/step - loss: 0.7346 - acc: 0.7653 - val_loss: 1.5463 - val_acc: 0.4878\n",
            "Epoch 38/50\n",
            "50000/50000 [==============================] - 8s 152us/step - loss: 0.7151 - acc: 0.7732 - val_loss: 1.5623 - val_acc: 0.4868\n",
            "Epoch 39/50\n",
            "50000/50000 [==============================] - 8s 150us/step - loss: 0.6972 - acc: 0.7801 - val_loss: 1.5686 - val_acc: 0.4851\n",
            "Epoch 40/50\n",
            "50000/50000 [==============================] - 8s 150us/step - loss: 0.6790 - acc: 0.7873 - val_loss: 1.5741 - val_acc: 0.4900\n",
            "Epoch 41/50\n",
            "50000/50000 [==============================] - 7s 150us/step - loss: 0.6617 - acc: 0.7963 - val_loss: 1.5906 - val_acc: 0.4868\n",
            "Epoch 42/50\n",
            "50000/50000 [==============================] - 8s 151us/step - loss: 0.6455 - acc: 0.8012 - val_loss: 1.6023 - val_acc: 0.4822\n",
            "Epoch 43/50\n",
            "50000/50000 [==============================] - 8s 151us/step - loss: 0.6272 - acc: 0.8092 - val_loss: 1.6000 - val_acc: 0.4897\n",
            "Epoch 44/50\n",
            "50000/50000 [==============================] - 8s 150us/step - loss: 0.6102 - acc: 0.8151 - val_loss: 1.6320 - val_acc: 0.4805\n",
            "Epoch 45/50\n",
            "50000/50000 [==============================] - 7s 146us/step - loss: 0.5936 - acc: 0.8234 - val_loss: 1.6360 - val_acc: 0.4842\n",
            "Epoch 46/50\n",
            "50000/50000 [==============================] - 7s 147us/step - loss: 0.5752 - acc: 0.8295 - val_loss: 1.6300 - val_acc: 0.4841\n",
            "Epoch 47/50\n",
            "50000/50000 [==============================] - 7s 146us/step - loss: 0.5599 - acc: 0.8362 - val_loss: 1.6437 - val_acc: 0.4894\n",
            "Epoch 48/50\n",
            "50000/50000 [==============================] - 7s 146us/step - loss: 0.5412 - acc: 0.8433 - val_loss: 1.6730 - val_acc: 0.4857\n",
            "Epoch 49/50\n",
            "50000/50000 [==============================] - 7s 147us/step - loss: 0.5262 - acc: 0.8491 - val_loss: 1.6754 - val_acc: 0.4798\n",
            "Epoch 50/50\n",
            "50000/50000 [==============================] - 7s 146us/step - loss: 0.5093 - acc: 0.8547 - val_loss: 1.6766 - val_acc: 0.4852\n",
            "10000/10000 [==============================] - 1s 121us/step\n",
            "Experiment with the model checkpoint is False\n",
            "_________________________________________________________________\n",
            "Layer (type)                 Output Shape              Param #   \n",
            "=================================================================\n",
            "input_1 (InputLayer)         (None, 3072)              0         \n",
            "_________________________________________________________________\n",
            "hidden_layer1 (Dense)        (None, 512)               1573376   \n",
            "_________________________________________________________________\n",
            "batch_normalization_1 (Batch (None, 512)               2048      \n",
            "_________________________________________________________________\n",
            "hidden_layer2 (Dense)        (None, 256)               131328    \n",
            "_________________________________________________________________\n",
            "batch_normalization_2 (Batch (None, 256)               1024      \n",
            "_________________________________________________________________\n",
            "hidden_layer3 (Dense)        (None, 128)               32896     \n",
            "_________________________________________________________________\n",
            "batch_normalization_3 (Batch (None, 128)               512       \n",
            "_________________________________________________________________\n",
            "output (Dense)               (None, 10)                1290      \n",
            "=================================================================\n",
            "Total params: 1,742,474\n",
            "Trainable params: 1,740,682\n",
            "Non-trainable params: 1,792\n",
            "_________________________________________________________________\n",
            "Train on 50000 samples, validate on 10000 samples\n",
            "Epoch 1/50\n",
            "50000/50000 [==============================] - 8s 157us/step - loss: 2.2005 - acc: 0.2744 - val_loss: 2.1190 - val_acc: 0.3012\n",
            "Epoch 2/50\n",
            "50000/50000 [==============================] - 7s 147us/step - loss: 1.7476 - acc: 0.3908 - val_loss: 1.8084 - val_acc: 0.3768\n",
            "Epoch 3/50\n",
            "50000/50000 [==============================] - 7s 148us/step - loss: 1.6192 - acc: 0.4333 - val_loss: 1.6870 - val_acc: 0.4070\n",
            "Epoch 4/50\n",
            "50000/50000 [==============================] - 7s 149us/step - loss: 1.5447 - acc: 0.4593 - val_loss: 1.6430 - val_acc: 0.4259\n",
            "Epoch 5/50\n",
            "50000/50000 [==============================] - 7s 147us/step - loss: 1.4901 - acc: 0.4772 - val_loss: 1.6092 - val_acc: 0.4299\n",
            "Epoch 6/50\n",
            "50000/50000 [==============================] - 7s 147us/step - loss: 1.4425 - acc: 0.4953 - val_loss: 1.5782 - val_acc: 0.4471\n",
            "Epoch 7/50\n",
            "50000/50000 [==============================] - 7s 147us/step - loss: 1.4020 - acc: 0.5110 - val_loss: 1.5488 - val_acc: 0.4528\n",
            "Epoch 8/50\n",
            "50000/50000 [==============================] - 7s 149us/step - loss: 1.3684 - acc: 0.5233 - val_loss: 1.5372 - val_acc: 0.4585\n",
            "Epoch 9/50\n",
            "50000/50000 [==============================] - 7s 146us/step - loss: 1.3357 - acc: 0.5349 - val_loss: 1.5228 - val_acc: 0.4664\n",
            "Epoch 10/50\n",
            "50000/50000 [==============================] - 7s 147us/step - loss: 1.3067 - acc: 0.5470 - val_loss: 1.5105 - val_acc: 0.4666\n",
            "Epoch 11/50\n",
            "50000/50000 [==============================] - 7s 148us/step - loss: 1.2798 - acc: 0.5559 - val_loss: 1.4933 - val_acc: 0.4721\n",
            "Epoch 12/50\n",
            "50000/50000 [==============================] - 7s 149us/step - loss: 1.2532 - acc: 0.5639 - val_loss: 1.4775 - val_acc: 0.4840\n",
            "Epoch 13/50\n",
            "50000/50000 [==============================] - 8s 152us/step - loss: 1.2276 - acc: 0.5744 - val_loss: 1.4796 - val_acc: 0.4804\n",
            "Epoch 14/50\n",
            "50000/50000 [==============================] - 8s 152us/step - loss: 1.2040 - acc: 0.5826 - val_loss: 1.4720 - val_acc: 0.4853\n",
            "Epoch 15/50\n",
            "50000/50000 [==============================] - 8s 152us/step - loss: 1.1792 - acc: 0.5922 - val_loss: 1.4623 - val_acc: 0.4898\n",
            "Epoch 16/50\n",
            "50000/50000 [==============================] - 7s 146us/step - loss: 1.1581 - acc: 0.6013 - val_loss: 1.4623 - val_acc: 0.4862\n",
            "Epoch 17/50\n",
            "50000/50000 [==============================] - 7s 146us/step - loss: 1.1354 - acc: 0.6104 - val_loss: 1.4556 - val_acc: 0.4924\n",
            "Epoch 18/50\n",
            "50000/50000 [==============================] - 7s 148us/step - loss: 1.1134 - acc: 0.6191 - val_loss: 1.4480 - val_acc: 0.4916\n",
            "Epoch 19/50\n",
            "50000/50000 [==============================] - 8s 151us/step - loss: 1.0919 - acc: 0.6255 - val_loss: 1.4472 - val_acc: 0.4906\n",
            "Epoch 20/50\n",
            "50000/50000 [==============================] - 7s 149us/step - loss: 1.0703 - acc: 0.6340 - val_loss: 1.4620 - val_acc: 0.4943\n",
            "Epoch 21/50\n",
            "50000/50000 [==============================] - 7s 146us/step - loss: 1.0493 - acc: 0.6434 - val_loss: 1.4598 - val_acc: 0.4913\n",
            "Epoch 22/50\n",
            "50000/50000 [==============================] - 7s 147us/step - loss: 1.0296 - acc: 0.6493 - val_loss: 1.4510 - val_acc: 0.4947\n",
            "Epoch 23/50\n",
            "50000/50000 [==============================] - 7s 146us/step - loss: 1.0086 - acc: 0.6586 - val_loss: 1.4563 - val_acc: 0.4913\n",
            "Epoch 24/50\n",
            "50000/50000 [==============================] - 7s 145us/step - loss: 0.9868 - acc: 0.6676 - val_loss: 1.4625 - val_acc: 0.4945\n",
            "Epoch 25/50\n",
            "50000/50000 [==============================] - 7s 148us/step - loss: 0.9674 - acc: 0.6744 - val_loss: 1.4551 - val_acc: 0.5004\n",
            "Epoch 26/50\n",
            "50000/50000 [==============================] - 8s 151us/step - loss: 0.9471 - acc: 0.6826 - val_loss: 1.4653 - val_acc: 0.4955\n",
            "Epoch 27/50\n",
            "50000/50000 [==============================] - 7s 146us/step - loss: 0.9263 - acc: 0.6911 - val_loss: 1.4653 - val_acc: 0.4890\n",
            "Epoch 28/50\n",
            "50000/50000 [==============================] - 7s 144us/step - loss: 0.9070 - acc: 0.6990 - val_loss: 1.4698 - val_acc: 0.4934\n",
            "Epoch 29/50\n",
            "50000/50000 [==============================] - 7s 147us/step - loss: 0.8877 - acc: 0.7050 - val_loss: 1.4711 - val_acc: 0.5009\n",
            "Epoch 30/50\n",
            "50000/50000 [==============================] - 7s 149us/step - loss: 0.8693 - acc: 0.7133 - val_loss: 1.4915 - val_acc: 0.4980\n",
            "Epoch 31/50\n",
            "50000/50000 [==============================] - 7s 144us/step - loss: 0.8505 - acc: 0.7203 - val_loss: 1.4962 - val_acc: 0.4943\n",
            "Epoch 32/50\n",
            "50000/50000 [==============================] - 7s 143us/step - loss: 0.8309 - acc: 0.7289 - val_loss: 1.5003 - val_acc: 0.4977\n",
            "Epoch 33/50\n",
            "50000/50000 [==============================] - 8s 150us/step - loss: 0.8109 - acc: 0.7362 - val_loss: 1.4940 - val_acc: 0.4942\n",
            "Epoch 34/50\n",
            "50000/50000 [==============================] - 7s 148us/step - loss: 0.7926 - acc: 0.7448 - val_loss: 1.5010 - val_acc: 0.4925\n",
            "Epoch 35/50\n",
            "50000/50000 [==============================] - 7s 148us/step - loss: 0.7727 - acc: 0.7521 - val_loss: 1.5177 - val_acc: 0.4944\n",
            "Epoch 36/50\n",
            "50000/50000 [==============================] - 7s 145us/step - loss: 0.7541 - acc: 0.7599 - val_loss: 1.5139 - val_acc: 0.4920\n",
            "Epoch 37/50\n",
            "50000/50000 [==============================] - 7s 147us/step - loss: 0.7358 - acc: 0.7681 - val_loss: 1.5361 - val_acc: 0.4936\n",
            "Epoch 38/50\n",
            "50000/50000 [==============================] - 7s 144us/step - loss: 0.7186 - acc: 0.7728 - val_loss: 1.5346 - val_acc: 0.4941\n",
            "Epoch 39/50\n",
            "50000/50000 [==============================] - 7s 146us/step - loss: 0.6988 - acc: 0.7823 - val_loss: 1.5396 - val_acc: 0.4928\n",
            "Epoch 40/50\n",
            "50000/50000 [==============================] - 8s 151us/step - loss: 0.6810 - acc: 0.7880 - val_loss: 1.5519 - val_acc: 0.4938\n",
            "Epoch 41/50\n",
            "50000/50000 [==============================] - 8s 150us/step - loss: 0.6627 - acc: 0.7957 - val_loss: 1.5629 - val_acc: 0.4931\n",
            "Epoch 42/50\n",
            "50000/50000 [==============================] - 7s 146us/step - loss: 0.6436 - acc: 0.8038 - val_loss: 1.5761 - val_acc: 0.4942\n",
            "Epoch 43/50\n",
            "50000/50000 [==============================] - 7s 148us/step - loss: 0.6267 - acc: 0.8108 - val_loss: 1.5864 - val_acc: 0.4963\n",
            "Epoch 44/50\n",
            "50000/50000 [==============================] - 8s 150us/step - loss: 0.6090 - acc: 0.8161 - val_loss: 1.6144 - val_acc: 0.4872\n",
            "Epoch 45/50\n",
            "50000/50000 [==============================] - 7s 145us/step - loss: 0.5941 - acc: 0.8238 - val_loss: 1.6028 - val_acc: 0.4941\n",
            "Epoch 46/50\n",
            "50000/50000 [==============================] - 7s 146us/step - loss: 0.5741 - acc: 0.8307 - val_loss: 1.6269 - val_acc: 0.4896\n",
            "Epoch 47/50\n",
            "50000/50000 [==============================] - 8s 151us/step - loss: 0.5578 - acc: 0.8373 - val_loss: 1.6396 - val_acc: 0.4906\n",
            "Epoch 48/50\n",
            "50000/50000 [==============================] - 8s 151us/step - loss: 0.5413 - acc: 0.8440 - val_loss: 1.6705 - val_acc: 0.4807\n",
            "Epoch 49/50\n",
            "50000/50000 [==============================] - 7s 145us/step - loss: 0.5273 - acc: 0.8465 - val_loss: 1.6819 - val_acc: 0.4860\n",
            "Epoch 50/50\n",
            "50000/50000 [==============================] - 7s 148us/step - loss: 0.5075 - acc: 0.8577 - val_loss: 1.6904 - val_acc: 0.4851\n",
            "10000/10000 [==============================] - 1s 126us/step\n"
          ],
          "name": "stdout"
        }
      ]
    },
    {
      "cell_type": "code",
      "metadata": {
        "scrolled": true,
        "id": "utw0qxQhk3x1",
        "colab_type": "code",
        "outputId": "450d706f-7a1a-461e-e41d-86552969892d",
        "colab": {
          "base_uri": "https://localhost:8080/",
          "height": 818
        }
      },
      "source": [
        "print('0 ==> save_best_only is True')\n",
        "print('1 ==> save_best_only is False')\n",
        "import matplotlib.pyplot as plt\n",
        "%matplotlib inline\n",
        "\n",
        "color_bar = ['r', 'b']\n",
        "plt.figure(figsize=(8,6))\n",
        "for i, cond in enumerate(results.keys()):\n",
        "    plt.plot(range(len(results[cond]['train-loss'])),results[cond]['train-loss'], '-', label=cond, color=color_bar[i])\n",
        "    plt.plot(range(len(results[cond]['valid-loss'])),results[cond]['valid-loss'], '--', label=cond, color=color_bar[i])\n",
        "    plt.hlines(y = results[cond]['loss_loadback'], xmin = 0, xmax = len(results[cond]['train-loss']), colors = color_bar[i] , linestyles = '--' )\n",
        "plt.title(\"Loss\")\n",
        "plt.legend(loc='center left', bbox_to_anchor=(1, 0.5))\n",
        "plt.show()\n",
        "\n",
        "plt.figure(figsize=(8,6))\n",
        "for i, cond in enumerate(results.keys()):\n",
        "    plt.plot(range(len(results[cond]['train-acc'])),results[cond]['train-acc'], '-', label=cond, color=color_bar[i])\n",
        "    plt.plot(range(len(results[cond]['valid-acc'])),results[cond]['valid-acc'], '--', label=cond, color=color_bar[i])\n",
        "    plt.hlines(y = results[cond]['acc_loadback'], xmin = 0, xmax = len(results[cond]['train-loss']), colors = color_bar[i] , linestyles = '--' )\n",
        "plt.title(\"Accuracy\")\n",
        "plt.legend(loc='center left', bbox_to_anchor=(1, 0.5))\n",
        "plt.show()"
      ],
      "execution_count": 16,
      "outputs": [
        {
          "output_type": "stream",
          "text": [
            "0 ==> save_best_only is True\n",
            "1 ==> save_best_only is False\n"
          ],
          "name": "stdout"
        },
        {
          "output_type": "display_data",
          "data": {
            "image/png": "[encoded data removed]",
            "text/plain": [
              "<Figure size 576x432 with 1 Axes>"
            ]
          },
          "metadata": {
            "tags": []
          }
        },
        {
          "output_type": "display_data",
          "data": {
            "image/png": "[encoded data removed]",
            "text/plain": [
              "<Figure size 576x432 with 1 Axes>"
            ]
          },
          "metadata": {
            "tags": []
          }
        }
      ]
    },
    {
      "cell_type": "code",
      "metadata": {
        "id": "senFBuO2_Brz",
        "colab_type": "code",
        "colab": {}
      },
      "source": [
        ""
      ],
      "execution_count": 0,
      "outputs": []
    }
  ]
}