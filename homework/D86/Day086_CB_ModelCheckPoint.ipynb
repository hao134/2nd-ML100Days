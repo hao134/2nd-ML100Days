{
 "cells": [
  {
   "cell_type": "markdown",
   "metadata": {},
   "source": [
    "## 範例重點\n",
    "* 學習如何在 keras 中加入 model checkpoint\n",
    "* 知道如何設定監控目標\n",
    "* 比較使用最佳與非最佳參數時的 performance"
   ]
  },
  {
   "cell_type": "code",
   "execution_count": 1,
   "metadata": {},
   "outputs": [
    {
     "name": "stderr",
     "output_type": "stream",
     "text": [
      "Using TensorFlow backend.\n"
     ]
    }
   ],
   "source": [
    "import os\n",
    "import keras\n",
    "\n",
    "# 本範例不需使用 GPU, 將 GPU 設定為 \"無\"\n",
    "os.environ[\"CUDA_VISIBLE_DEVICES\"] = \"\""
   ]
  },
  {
   "cell_type": "code",
   "execution_count": 2,
   "metadata": {},
   "outputs": [],
   "source": [
    "train, test = keras.datasets.cifar10.load_data()"
   ]
  },
  {
   "cell_type": "code",
   "execution_count": 3,
   "metadata": {},
   "outputs": [],
   "source": [
    "## 資料前處理\n",
    "def preproc_x(x, flatten=True):\n",
    "    x = x / 255.\n",
    "    if flatten:\n",
    "        x = x.reshape((len(x), -1))\n",
    "    return x\n",
    "\n",
    "def preproc_y(y, num_classes=10):\n",
    "    if y.shape[-1] == 1:\n",
    "        y = keras.utils.to_categorical(y, num_classes)\n",
    "    return y    "
   ]
  },
  {
   "cell_type": "code",
   "execution_count": 4,
   "metadata": {},
   "outputs": [],
   "source": [
    "x_train, y_train = train\n",
    "x_test, y_test = test\n",
    "\n",
    "# 資料前處理 - X 標準化\n",
    "x_train = preproc_x(x_train)\n",
    "x_test = preproc_x(x_test)\n",
    "\n",
    "# 資料前處理 -Y 轉成 onehot\n",
    "y_train = preproc_y(y_train)\n",
    "y_test = preproc_y(y_test)"
   ]
  },
  {
   "cell_type": "code",
   "execution_count": 5,
   "metadata": {},
   "outputs": [],
   "source": [
    "from keras.layers import BatchNormalization\n",
    "\n",
    "\"\"\"\n",
    "建立神經網路，並加入 BN layer\n",
    "\"\"\"\n",
    "def build_mlp(input_shape, output_units=10, num_neurons=[512, 256, 128]):\n",
    "    input_layer = keras.layers.Input(input_shape)\n",
    "    \n",
    "    for i, n_units in enumerate(num_neurons):\n",
    "        if i == 0:\n",
    "            x = keras.layers.Dense(units=n_units, \n",
    "                                   activation=\"relu\", \n",
    "                                   name=\"hidden_layer\"+str(i+1))(input_layer)\n",
    "            x = BatchNormalization()(x)\n",
    "        else:\n",
    "            x = keras.layers.Dense(units=n_units, \n",
    "                                   activation=\"relu\", \n",
    "                                   name=\"hidden_layer\"+str(i+1))(x)\n",
    "            x = BatchNormalization()(x)\n",
    "    \n",
    "    out = keras.layers.Dense(units=output_units, activation=\"softmax\", name=\"output\")(x)\n",
    "    \n",
    "    model = keras.models.Model(inputs=[input_layer], outputs=[out])\n",
    "    return model"
   ]
  },
  {
   "cell_type": "code",
   "execution_count": 6,
   "metadata": {},
   "outputs": [],
   "source": [
    "## 超參數設定\n",
    "LEARNING_RATE = 1e-3\n",
    "EPOCHS = 50\n",
    "BATCH_SIZE = 1024\n",
    "MOMENTUM = 0.95"
   ]
  },
  {
   "cell_type": "code",
   "execution_count": 7,
   "metadata": {},
   "outputs": [],
   "source": [
    "\"\"\"\n",
    "# 載入 Callbacks, 並將監控目標設為 validation loss, 且只存最佳參數時的模型\n",
    "\"\"\"\n",
    "from keras.callbacks import ModelCheckpoint\n",
    "\n",
    "model_ckpt = ModelCheckpoint(filepath=\"./tmp.h5\", \n",
    "                             monitor=\"val_loss\", \n",
    "                             save_best_only=True)"
   ]
  },
  {
   "cell_type": "code",
   "execution_count": 8,
   "metadata": {
    "scrolled": true
   },
   "outputs": [
    {
     "name": "stdout",
     "output_type": "stream",
     "text": [
      "WARNING:tensorflow:From /Users/shihhaohuang/anaconda3/lib/python3.7/site-packages/tensorflow/python/framework/op_def_library.py:263: colocate_with (from tensorflow.python.framework.ops) is deprecated and will be removed in a future version.\n",
      "Instructions for updating:\n",
      "Colocations handled automatically by placer.\n",
      "_________________________________________________________________\n",
      "Layer (type)                 Output Shape              Param #   \n",
      "=================================================================\n",
      "input_1 (InputLayer)         (None, 3072)              0         \n",
      "_________________________________________________________________\n",
      "hidden_layer1 (Dense)        (None, 512)               1573376   \n",
      "_________________________________________________________________\n",
      "batch_normalization_1 (Batch (None, 512)               2048      \n",
      "_________________________________________________________________\n",
      "hidden_layer2 (Dense)        (None, 256)               131328    \n",
      "_________________________________________________________________\n",
      "batch_normalization_2 (Batch (None, 256)               1024      \n",
      "_________________________________________________________________\n",
      "hidden_layer3 (Dense)        (None, 128)               32896     \n",
      "_________________________________________________________________\n",
      "batch_normalization_3 (Batch (None, 128)               512       \n",
      "_________________________________________________________________\n",
      "output (Dense)               (None, 10)                1290      \n",
      "=================================================================\n",
      "Total params: 1,742,474\n",
      "Trainable params: 1,740,682\n",
      "Non-trainable params: 1,792\n",
      "_________________________________________________________________\n",
      "WARNING:tensorflow:From /Users/shihhaohuang/anaconda3/lib/python3.7/site-packages/tensorflow/python/ops/math_ops.py:3066: to_int32 (from tensorflow.python.ops.math_ops) is deprecated and will be removed in a future version.\n",
      "Instructions for updating:\n",
      "Use tf.cast instead.\n",
      "Train on 50000 samples, validate on 10000 samples\n",
      "Epoch 1/50\n",
      "50000/50000 [==============================] - 12s 237us/step - loss: 2.2004 - acc: 0.2765 - val_loss: 2.0521 - val_acc: 0.3257\n",
      "Epoch 2/50\n",
      "50000/50000 [==============================] - 10s 209us/step - loss: 1.7340 - acc: 0.3956 - val_loss: 1.7954 - val_acc: 0.3808\n",
      "Epoch 3/50\n",
      "50000/50000 [==============================] - 10s 198us/step - loss: 1.6121 - acc: 0.4345 - val_loss: 1.6702 - val_acc: 0.4149\n",
      "Epoch 4/50\n",
      "50000/50000 [==============================] - 9s 185us/step - loss: 1.5410 - acc: 0.4610 - val_loss: 1.6385 - val_acc: 0.4299\n",
      "Epoch 5/50\n",
      "50000/50000 [==============================] - 9s 188us/step - loss: 1.4877 - acc: 0.4786 - val_loss: 1.5927 - val_acc: 0.4424\n",
      "Epoch 6/50\n",
      "50000/50000 [==============================] - 11s 210us/step - loss: 1.4426 - acc: 0.4950 - val_loss: 1.5594 - val_acc: 0.4606\n",
      "Epoch 7/50\n",
      "50000/50000 [==============================] - 11s 219us/step - loss: 1.4053 - acc: 0.5088 - val_loss: 1.5362 - val_acc: 0.4576\n",
      "Epoch 8/50\n",
      "50000/50000 [==============================] - 13s 268us/step - loss: 1.3696 - acc: 0.5227 - val_loss: 1.5242 - val_acc: 0.4711\n",
      "Epoch 9/50\n",
      "50000/50000 [==============================] - 12s 237us/step - loss: 1.3372 - acc: 0.5345 - val_loss: 1.5144 - val_acc: 0.4714\n",
      "Epoch 10/50\n",
      "50000/50000 [==============================] - 14s 279us/step - loss: 1.3061 - acc: 0.5451 - val_loss: 1.5083 - val_acc: 0.4720\n",
      "Epoch 11/50\n",
      "50000/50000 [==============================] - 15s 295us/step - loss: 1.2792 - acc: 0.5573 - val_loss: 1.4871 - val_acc: 0.4767\n",
      "Epoch 12/50\n",
      "50000/50000 [==============================] - 16s 310us/step - loss: 1.2512 - acc: 0.5674 - val_loss: 1.4893 - val_acc: 0.4760\n",
      "Epoch 13/50\n",
      "50000/50000 [==============================] - 12s 234us/step - loss: 1.2240 - acc: 0.5762 - val_loss: 1.4769 - val_acc: 0.4787\n",
      "Epoch 14/50\n",
      "50000/50000 [==============================] - 11s 227us/step - loss: 1.2005 - acc: 0.5849 - val_loss: 1.4644 - val_acc: 0.4903\n",
      "Epoch 15/50\n",
      "50000/50000 [==============================] - 11s 223us/step - loss: 1.1772 - acc: 0.5953 - val_loss: 1.4696 - val_acc: 0.4866\n",
      "Epoch 16/50\n",
      "50000/50000 [==============================] - 10s 198us/step - loss: 1.1547 - acc: 0.6020 - val_loss: 1.4609 - val_acc: 0.4870\n",
      "Epoch 17/50\n",
      "50000/50000 [==============================] - 10s 208us/step - loss: 1.1321 - acc: 0.6113 - val_loss: 1.4773 - val_acc: 0.4819\n",
      "Epoch 18/50\n",
      "50000/50000 [==============================] - 10s 210us/step - loss: 1.1111 - acc: 0.6196 - val_loss: 1.4544 - val_acc: 0.4899\n",
      "Epoch 19/50\n",
      "50000/50000 [==============================] - 10s 205us/step - loss: 1.0870 - acc: 0.6279 - val_loss: 1.4581 - val_acc: 0.4946\n",
      "Epoch 20/50\n",
      "50000/50000 [==============================] - 10s 200us/step - loss: 1.0656 - acc: 0.6379 - val_loss: 1.4610 - val_acc: 0.4916\n",
      "Epoch 21/50\n",
      "50000/50000 [==============================] - 11s 216us/step - loss: 1.0441 - acc: 0.6454 - val_loss: 1.4528 - val_acc: 0.4952\n",
      "Epoch 22/50\n",
      "50000/50000 [==============================] - 10s 197us/step - loss: 1.0236 - acc: 0.6529 - val_loss: 1.4693 - val_acc: 0.4907\n",
      "Epoch 23/50\n",
      "50000/50000 [==============================] - 13s 261us/step - loss: 1.0032 - acc: 0.6614 - val_loss: 1.4636 - val_acc: 0.4923\n",
      "Epoch 24/50\n",
      "50000/50000 [==============================] - 15s 307us/step - loss: 0.9815 - acc: 0.6692 - val_loss: 1.4648 - val_acc: 0.4928\n",
      "Epoch 25/50\n",
      "50000/50000 [==============================] - 10s 199us/step - loss: 0.9612 - acc: 0.6766 - val_loss: 1.4619 - val_acc: 0.4940\n",
      "Epoch 26/50\n",
      "50000/50000 [==============================] - 10s 196us/step - loss: 0.9418 - acc: 0.6845 - val_loss: 1.4712 - val_acc: 0.4977\n",
      "Epoch 27/50\n",
      "50000/50000 [==============================] - 11s 210us/step - loss: 0.9205 - acc: 0.6929 - val_loss: 1.4716 - val_acc: 0.4961\n",
      "Epoch 28/50\n",
      "50000/50000 [==============================] - 10s 208us/step - loss: 0.9014 - acc: 0.7014 - val_loss: 1.4726 - val_acc: 0.5011\n",
      "Epoch 29/50\n",
      "50000/50000 [==============================] - 12s 249us/step - loss: 0.8806 - acc: 0.7078 - val_loss: 1.4746 - val_acc: 0.4922\n",
      "Epoch 30/50\n",
      "50000/50000 [==============================] - 10s 196us/step - loss: 0.8605 - acc: 0.7182 - val_loss: 1.4911 - val_acc: 0.4979\n",
      "Epoch 31/50\n",
      "50000/50000 [==============================] - 10s 198us/step - loss: 0.8435 - acc: 0.7244 - val_loss: 1.4940 - val_acc: 0.4944\n",
      "Epoch 32/50\n",
      "50000/50000 [==============================] - 11s 218us/step - loss: 0.8236 - acc: 0.7293 - val_loss: 1.5068 - val_acc: 0.4932\n",
      "Epoch 33/50\n",
      "50000/50000 [==============================] - 10s 197us/step - loss: 0.8022 - acc: 0.7384 - val_loss: 1.4980 - val_acc: 0.4987\n",
      "Epoch 34/50\n",
      "50000/50000 [==============================] - 10s 193us/step - loss: 0.7849 - acc: 0.7466 - val_loss: 1.4991 - val_acc: 0.4996\n",
      "Epoch 35/50\n",
      "50000/50000 [==============================] - 10s 198us/step - loss: 0.7645 - acc: 0.7523 - val_loss: 1.5229 - val_acc: 0.4933\n",
      "Epoch 36/50\n",
      "50000/50000 [==============================] - 10s 199us/step - loss: 0.7443 - acc: 0.7625 - val_loss: 1.5213 - val_acc: 0.5006\n",
      "Epoch 37/50\n",
      "50000/50000 [==============================] - 10s 208us/step - loss: 0.7237 - acc: 0.7729 - val_loss: 1.5430 - val_acc: 0.4966\n",
      "Epoch 38/50\n",
      "50000/50000 [==============================] - 10s 210us/step - loss: 0.7067 - acc: 0.7777 - val_loss: 1.5348 - val_acc: 0.4942\n",
      "Epoch 39/50\n",
      "50000/50000 [==============================] - 13s 259us/step - loss: 0.6895 - acc: 0.7842 - val_loss: 1.5701 - val_acc: 0.4887\n",
      "Epoch 40/50\n",
      "50000/50000 [==============================] - 10s 197us/step - loss: 0.6712 - acc: 0.7931 - val_loss: 1.5572 - val_acc: 0.5001\n",
      "Epoch 41/50\n",
      "50000/50000 [==============================] - 14s 285us/step - loss: 0.6546 - acc: 0.7988 - val_loss: 1.5611 - val_acc: 0.4942\n",
      "Epoch 42/50\n",
      "50000/50000 [==============================] - 17s 337us/step - loss: 0.6354 - acc: 0.8047 - val_loss: 1.5781 - val_acc: 0.4981\n",
      "Epoch 43/50\n",
      "50000/50000 [==============================] - 11s 227us/step - loss: 0.6176 - acc: 0.8143 - val_loss: 1.5923 - val_acc: 0.4966\n",
      "Epoch 44/50\n",
      "50000/50000 [==============================] - 11s 224us/step - loss: 0.5981 - acc: 0.8217 - val_loss: 1.5949 - val_acc: 0.4962\n",
      "Epoch 45/50\n",
      "50000/50000 [==============================] - 14s 283us/step - loss: 0.5815 - acc: 0.8281 - val_loss: 1.6124 - val_acc: 0.4925\n",
      "Epoch 46/50\n",
      "50000/50000 [==============================] - 10s 197us/step - loss: 0.5654 - acc: 0.8335 - val_loss: 1.6208 - val_acc: 0.4882\n",
      "Epoch 47/50\n",
      "50000/50000 [==============================] - 10s 193us/step - loss: 0.5493 - acc: 0.8382 - val_loss: 1.6343 - val_acc: 0.4903\n",
      "Epoch 48/50\n",
      "50000/50000 [==============================] - 9s 190us/step - loss: 0.5320 - acc: 0.8463 - val_loss: 1.6394 - val_acc: 0.4899\n",
      "Epoch 49/50\n",
      "50000/50000 [==============================] - 10s 192us/step - loss: 0.5149 - acc: 0.8535 - val_loss: 1.6648 - val_acc: 0.4875\n",
      "Epoch 50/50\n",
      "50000/50000 [==============================] - 10s 190us/step - loss: 0.4979 - acc: 0.8609 - val_loss: 1.6989 - val_acc: 0.4849\n",
      "10000/10000 [==============================] - 2s 155us/step\n"
     ]
    }
   ],
   "source": [
    "model = build_mlp(input_shape=x_train.shape[1:])\n",
    "model.summary()\n",
    "optimizer = keras.optimizers.SGD(lr=LEARNING_RATE, nesterov=True, momentum=MOMENTUM)\n",
    "model.compile(loss=\"categorical_crossentropy\", metrics=[\"accuracy\"], optimizer=optimizer)\n",
    "\n",
    "model.fit(x_train, y_train, \n",
    "          epochs=EPOCHS, \n",
    "          batch_size=BATCH_SIZE, \n",
    "          validation_data=(x_test, y_test), \n",
    "          shuffle=True,\n",
    "          callbacks=[model_ckpt]\n",
    "         )\n",
    "\n",
    "# Collect results\n",
    "train_loss = model.history.history[\"loss\"]\n",
    "valid_loss = model.history.history[\"val_loss\"]\n",
    "train_acc = model.history.history[\"acc\"]\n",
    "valid_acc = model.history.history[\"val_acc\"]\n",
    "\n",
    "# Load back\n",
    "model = keras.models.load_model(\"./tmp.h5\")\n",
    "loss_loadback, acc_loadback = model.evaluate(x_test, y_test)"
   ]
  },
  {
   "cell_type": "code",
   "execution_count": 9,
   "metadata": {},
   "outputs": [
    {
     "data": {
      "image/png": "[encoded data removed]",
      "text/plain": [
       "<Figure size 432x288 with 1 Axes>"
      ]
     },
     "metadata": {
      "needs_background": "light"
     },
     "output_type": "display_data"
    },
    {
     "data": {
      "image/png": "[encoded data removed]",
      "text/plain": [
       "<Figure size 432x288 with 1 Axes>"
      ]
     },
     "metadata": {
      "needs_background": "light"
     },
     "output_type": "display_data"
    }
   ],
   "source": [
    "import matplotlib.pyplot as plt\n",
    "%matplotlib inline\n",
    "\n",
    "plt.plot(range(len(train_loss)), train_loss, label=\"train loss\")\n",
    "plt.plot(range(len(valid_loss)), valid_loss, label=\"valid loss\")\n",
    "plt.hlines(y=loss_loadback, xmin=0, xmax=len(train_loss), colors='r', linestyles='--')\n",
    "plt.legend()\n",
    "plt.title(\"Loss\")\n",
    "plt.show()\n",
    "\n",
    "plt.plot(range(len(train_acc)), train_acc, label=\"train accuracy\")\n",
    "plt.plot(range(len(valid_acc)), valid_acc, label=\"valid accuracy\")\n",
    "plt.hlines(y=acc_loadback, xmin=0, xmax=len(train_loss), colors='r', linestyles='--')\n",
    "plt.legend()\n",
    "plt.title(\"Accuracy\")\n",
    "plt.show()"
   ]
  },
  {
   "cell_type": "markdown",
   "metadata": {},
   "source": [
    "## Work\n",
    "1. 試比較 save_best_only 與否的差異\n",
    "2. 請僅存入將 save_weights_only 設定為 True, 並嘗試 reset ipynb 並將模型與權重重新建回並預測 x_test"
   ]
  }
 ],
 "metadata": {
  "kernelspec": {
   "display_name": "Python 3",
   "language": "python",
   "name": "python3"
  },
  "language_info": {
   "codemirror_mode": {
    "name": "ipython",
    "version": 3
   },
   "file_extension": ".py",
   "mimetype": "text/x-python",
   "name": "python",
   "nbconvert_exporter": "python",
   "pygments_lexer": "ipython3",
   "version": "3.7.1"
  }
 },
 "nbformat": 4,
 "nbformat_minor": 2
}
