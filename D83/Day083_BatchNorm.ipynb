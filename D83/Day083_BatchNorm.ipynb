{
 "cells": [
  {
   "cell_type": "markdown",
   "metadata": {},
   "source": [
    "## 範例重點\n",
    "* 學習如何在 keras 中加入 BatchNorm\n",
    "* 知道有無 BN 對訓練的影響\n",
    "* 比較 BN 在不同 batch size 下的效果"
   ]
  },
  {
   "cell_type": "code",
   "execution_count": 1,
   "metadata": {},
   "outputs": [
    {
     "name": "stderr",
     "output_type": "stream",
     "text": [
      "Using TensorFlow backend.\n"
     ]
    }
   ],
   "source": [
    "import os\n",
    "import keras\n",
    "\n",
    "# 本範例不需使用 GPU, 將 GPU 設定為 \"無\"\n",
    "os.environ[\"CUDA_VISIBLE_DEVICES\"] = \"\""
   ]
  },
  {
   "cell_type": "code",
   "execution_count": 2,
   "metadata": {},
   "outputs": [],
   "source": [
    "train, test = keras.datasets.cifar10.load_data()"
   ]
  },
  {
   "cell_type": "code",
   "execution_count": 3,
   "metadata": {},
   "outputs": [],
   "source": [
    "## 資料前處理\n",
    "def preproc_x(x, flatten=True):\n",
    "    x = x / 255.\n",
    "    if flatten:\n",
    "        x = x.reshape((len(x), -1))\n",
    "    return x\n",
    "\n",
    "def preproc_y(y, num_classes=10):\n",
    "    if y.shape[-1] == 1:\n",
    "        y = keras.utils.to_categorical(y, num_classes)\n",
    "    return y    "
   ]
  },
  {
   "cell_type": "code",
   "execution_count": 4,
   "metadata": {},
   "outputs": [],
   "source": [
    "x_train, y_train = train\n",
    "x_test, y_test = test\n",
    "\n",
    "# 資料前處理 - X 標準化\n",
    "x_train = preproc_x(x_train)\n",
    "x_test = preproc_x(x_test)\n",
    "\n",
    "# 資料前處理 -Y 轉成 onehot\n",
    "y_train = preproc_y(y_train)\n",
    "y_test = preproc_y(y_test)"
   ]
  },
  {
   "cell_type": "code",
   "execution_count": 5,
   "metadata": {},
   "outputs": [],
   "source": [
    "from keras.layers import BatchNormalization\n",
    "\n",
    "\"\"\"\n",
    "建立神經網路，並加入 BN layer\n",
    "\"\"\"\n",
    "def build_mlp(input_shape, output_units=10, num_neurons=[512, 256, 128]):\n",
    "    input_layer = keras.layers.Input(input_shape)\n",
    "    \n",
    "    for i, n_units in enumerate(num_neurons):\n",
    "        if i == 0:\n",
    "            x = keras.layers.Dense(units=n_units, \n",
    "                                   activation=\"relu\", \n",
    "                                   name=\"hidden_layer\"+str(i+1))(input_layer)\n",
    "            x = BatchNormalization()(x)\n",
    "        else:\n",
    "            x = keras.layers.Dense(units=n_units, \n",
    "                                   activation=\"relu\", \n",
    "                                   name=\"hidden_layer\"+str(i+1))(x)\n",
    "            x = BatchNormalization()(x)\n",
    "    \n",
    "    out = keras.layers.Dense(units=output_units, activation=\"softmax\", name=\"output\")(x)\n",
    "    \n",
    "    model = keras.models.Model(inputs=[input_layer], outputs=[out])\n",
    "    return model"
   ]
  },
  {
   "cell_type": "code",
   "execution_count": 6,
   "metadata": {},
   "outputs": [],
   "source": [
    "## 超參數設定\n",
    "LEARNING_RATE = 1e-3\n",
    "EPOCHS = 50\n",
    "BATCH_SIZE = 1024\n",
    "MOMENTUM = 0.95"
   ]
  },
  {
   "cell_type": "code",
   "execution_count": 7,
   "metadata": {
    "scrolled": true
   },
   "outputs": [
    {
     "name": "stdout",
     "output_type": "stream",
     "text": [
      "WARNING:tensorflow:From /Users/shihhaohuang/anaconda3/lib/python3.7/site-packages/tensorflow/python/framework/op_def_library.py:263: colocate_with (from tensorflow.python.framework.ops) is deprecated and will be removed in a future version.\n",
      "Instructions for updating:\n",
      "Colocations handled automatically by placer.\n",
      "_________________________________________________________________\n",
      "Layer (type)                 Output Shape              Param #   \n",
      "=================================================================\n",
      "input_1 (InputLayer)         (None, 3072)              0         \n",
      "_________________________________________________________________\n",
      "hidden_layer1 (Dense)        (None, 512)               1573376   \n",
      "_________________________________________________________________\n",
      "batch_normalization_1 (Batch (None, 512)               2048      \n",
      "_________________________________________________________________\n",
      "hidden_layer2 (Dense)        (None, 256)               131328    \n",
      "_________________________________________________________________\n",
      "batch_normalization_2 (Batch (None, 256)               1024      \n",
      "_________________________________________________________________\n",
      "hidden_layer3 (Dense)        (None, 128)               32896     \n",
      "_________________________________________________________________\n",
      "batch_normalization_3 (Batch (None, 128)               512       \n",
      "_________________________________________________________________\n",
      "output (Dense)               (None, 10)                1290      \n",
      "=================================================================\n",
      "Total params: 1,742,474\n",
      "Trainable params: 1,740,682\n",
      "Non-trainable params: 1,792\n",
      "_________________________________________________________________\n",
      "WARNING:tensorflow:From /Users/shihhaohuang/anaconda3/lib/python3.7/site-packages/tensorflow/python/ops/math_ops.py:3066: to_int32 (from tensorflow.python.ops.math_ops) is deprecated and will be removed in a future version.\n",
      "Instructions for updating:\n",
      "Use tf.cast instead.\n",
      "Train on 50000 samples, validate on 10000 samples\n",
      "Epoch 1/50\n",
      "50000/50000 [==============================] - 11s 227us/step - loss: 2.2254 - acc: 0.2673 - val_loss: 2.0855 - val_acc: 0.3187\n",
      "Epoch 2/50\n",
      "50000/50000 [==============================] - 10s 204us/step - loss: 1.7550 - acc: 0.3870 - val_loss: 1.8183 - val_acc: 0.3842\n",
      "Epoch 3/50\n",
      "50000/50000 [==============================] - 10s 196us/step - loss: 1.6257 - acc: 0.4304 - val_loss: 1.6863 - val_acc: 0.4156\n",
      "Epoch 4/50\n",
      "50000/50000 [==============================] - 9s 187us/step - loss: 1.5495 - acc: 0.4572 - val_loss: 1.6204 - val_acc: 0.4349\n",
      "Epoch 5/50\n",
      "50000/50000 [==============================] - 10s 201us/step - loss: 1.4932 - acc: 0.4786 - val_loss: 1.6059 - val_acc: 0.4346\n",
      "Epoch 6/50\n",
      "50000/50000 [==============================] - 10s 191us/step - loss: 1.4466 - acc: 0.4938 - val_loss: 1.5593 - val_acc: 0.4517\n",
      "Epoch 7/50\n",
      "50000/50000 [==============================] - 11s 221us/step - loss: 1.4067 - acc: 0.5095 - val_loss: 1.5453 - val_acc: 0.4568\n",
      "Epoch 8/50\n",
      "50000/50000 [==============================] - 10s 208us/step - loss: 1.3703 - acc: 0.5233 - val_loss: 1.5280 - val_acc: 0.4622\n",
      "Epoch 9/50\n",
      "50000/50000 [==============================] - 10s 195us/step - loss: 1.3382 - acc: 0.5343 - val_loss: 1.5023 - val_acc: 0.4734\n",
      "Epoch 10/50\n",
      "50000/50000 [==============================] - 10s 203us/step - loss: 1.3084 - acc: 0.5459 - val_loss: 1.4979 - val_acc: 0.4715\n",
      "Epoch 11/50\n",
      "50000/50000 [==============================] - 10s 197us/step - loss: 1.2811 - acc: 0.5552 - val_loss: 1.4877 - val_acc: 0.4771\n",
      "Epoch 12/50\n",
      "50000/50000 [==============================] - 10s 191us/step - loss: 1.2523 - acc: 0.5654 - val_loss: 1.4753 - val_acc: 0.4818\n",
      "Epoch 13/50\n",
      "50000/50000 [==============================] - 10s 190us/step - loss: 1.2262 - acc: 0.5766 - val_loss: 1.4696 - val_acc: 0.4822\n",
      "Epoch 14/50\n",
      "50000/50000 [==============================] - 9s 188us/step - loss: 1.2006 - acc: 0.5850 - val_loss: 1.4680 - val_acc: 0.4840\n",
      "Epoch 15/50\n",
      "50000/50000 [==============================] - 9s 190us/step - loss: 1.1784 - acc: 0.5950 - val_loss: 1.4582 - val_acc: 0.4880\n",
      "Epoch 16/50\n",
      "50000/50000 [==============================] - 9s 187us/step - loss: 1.1525 - acc: 0.6047 - val_loss: 1.4662 - val_acc: 0.4834\n",
      "Epoch 17/50\n",
      "50000/50000 [==============================] - 11s 218us/step - loss: 1.1298 - acc: 0.6125 - val_loss: 1.4503 - val_acc: 0.4931\n",
      "Epoch 18/50\n",
      "50000/50000 [==============================] - 10s 197us/step - loss: 1.1073 - acc: 0.6223 - val_loss: 1.4574 - val_acc: 0.4877\n",
      "Epoch 19/50\n",
      "50000/50000 [==============================] - 9s 189us/step - loss: 1.0841 - acc: 0.6292 - val_loss: 1.4427 - val_acc: 0.4921\n",
      "Epoch 20/50\n",
      "50000/50000 [==============================] - 9s 188us/step - loss: 1.0639 - acc: 0.6372 - val_loss: 1.4371 - val_acc: 0.4981\n",
      "Epoch 21/50\n",
      "50000/50000 [==============================] - 10s 203us/step - loss: 1.0422 - acc: 0.6461 - val_loss: 1.4354 - val_acc: 0.4982\n",
      "Epoch 22/50\n",
      "50000/50000 [==============================] - 11s 219us/step - loss: 1.0214 - acc: 0.6550 - val_loss: 1.4392 - val_acc: 0.5006\n",
      "Epoch 23/50\n",
      "50000/50000 [==============================] - 10s 190us/step - loss: 1.0013 - acc: 0.6637 - val_loss: 1.4383 - val_acc: 0.5012\n",
      "Epoch 24/50\n",
      "50000/50000 [==============================] - 9s 190us/step - loss: 0.9789 - acc: 0.6712 - val_loss: 1.4422 - val_acc: 0.5002\n",
      "Epoch 25/50\n",
      "50000/50000 [==============================] - 9s 189us/step - loss: 0.9587 - acc: 0.6794 - val_loss: 1.4426 - val_acc: 0.5017\n",
      "Epoch 26/50\n",
      "50000/50000 [==============================] - 10s 204us/step - loss: 0.9376 - acc: 0.6863 - val_loss: 1.4509 - val_acc: 0.4967\n",
      "Epoch 27/50\n",
      "50000/50000 [==============================] - 11s 217us/step - loss: 0.9175 - acc: 0.6936 - val_loss: 1.4538 - val_acc: 0.5028\n",
      "Epoch 28/50\n",
      "50000/50000 [==============================] - 12s 237us/step - loss: 0.8969 - acc: 0.7047 - val_loss: 1.4530 - val_acc: 0.4994\n",
      "Epoch 29/50\n",
      "50000/50000 [==============================] - 13s 253us/step - loss: 0.8781 - acc: 0.7096 - val_loss: 1.4537 - val_acc: 0.5014\n",
      "Epoch 30/50\n",
      "50000/50000 [==============================] - 9s 187us/step - loss: 0.8588 - acc: 0.7191 - val_loss: 1.4585 - val_acc: 0.5022\n",
      "Epoch 31/50\n",
      "50000/50000 [==============================] - 9s 189us/step - loss: 0.8384 - acc: 0.7262 - val_loss: 1.4690 - val_acc: 0.4940\n",
      "Epoch 32/50\n",
      "50000/50000 [==============================] - 10s 198us/step - loss: 0.8200 - acc: 0.7342 - val_loss: 1.4761 - val_acc: 0.4990\n",
      "Epoch 33/50\n",
      "50000/50000 [==============================] - 10s 199us/step - loss: 0.8008 - acc: 0.7414 - val_loss: 1.4800 - val_acc: 0.4990\n",
      "Epoch 34/50\n",
      "50000/50000 [==============================] - 9s 188us/step - loss: 0.7829 - acc: 0.7472 - val_loss: 1.4721 - val_acc: 0.4955\n",
      "Epoch 35/50\n",
      "50000/50000 [==============================] - 9s 188us/step - loss: 0.7617 - acc: 0.7573 - val_loss: 1.4957 - val_acc: 0.5003\n",
      "Epoch 36/50\n",
      "50000/50000 [==============================] - 9s 189us/step - loss: 0.7438 - acc: 0.7619 - val_loss: 1.4999 - val_acc: 0.4990\n",
      "Epoch 37/50\n",
      "50000/50000 [==============================] - 10s 191us/step - loss: 0.7247 - acc: 0.7703 - val_loss: 1.5174 - val_acc: 0.4971\n",
      "Epoch 38/50\n",
      "50000/50000 [==============================] - 13s 264us/step - loss: 0.7068 - acc: 0.7795 - val_loss: 1.5100 - val_acc: 0.4961\n",
      "Epoch 39/50\n",
      "50000/50000 [==============================] - 12s 241us/step - loss: 0.6896 - acc: 0.7830 - val_loss: 1.5174 - val_acc: 0.5002\n",
      "Epoch 40/50\n",
      "50000/50000 [==============================] - 11s 220us/step - loss: 0.6689 - acc: 0.7918 - val_loss: 1.5384 - val_acc: 0.4985\n",
      "Epoch 41/50\n",
      "50000/50000 [==============================] - 13s 252us/step - loss: 0.6515 - acc: 0.7993 - val_loss: 1.5575 - val_acc: 0.4913\n",
      "Epoch 42/50\n",
      "50000/50000 [==============================] - 10s 203us/step - loss: 0.6343 - acc: 0.8058 - val_loss: 1.5571 - val_acc: 0.4930\n",
      "Epoch 43/50\n",
      "50000/50000 [==============================] - 10s 194us/step - loss: 0.6158 - acc: 0.8131 - val_loss: 1.5718 - val_acc: 0.4924\n",
      "Epoch 44/50\n",
      "50000/50000 [==============================] - 10s 202us/step - loss: 0.5992 - acc: 0.8199 - val_loss: 1.5875 - val_acc: 0.4911\n",
      "Epoch 45/50\n",
      "50000/50000 [==============================] - 10s 193us/step - loss: 0.5823 - acc: 0.8257 - val_loss: 1.6023 - val_acc: 0.4922\n",
      "Epoch 46/50\n",
      "50000/50000 [==============================] - 10s 192us/step - loss: 0.5631 - acc: 0.8344 - val_loss: 1.6306 - val_acc: 0.4852\n",
      "Epoch 47/50\n",
      "50000/50000 [==============================] - 10s 192us/step - loss: 0.5475 - acc: 0.8417 - val_loss: 1.6253 - val_acc: 0.4898\n",
      "Epoch 48/50\n",
      "50000/50000 [==============================] - 10s 190us/step - loss: 0.5291 - acc: 0.8474 - val_loss: 1.6395 - val_acc: 0.4984\n",
      "Epoch 49/50\n",
      "50000/50000 [==============================] - 10s 190us/step - loss: 0.5139 - acc: 0.8545 - val_loss: 1.6419 - val_acc: 0.4911\n",
      "Epoch 50/50\n",
      "50000/50000 [==============================] - 10s 190us/step - loss: 0.4986 - acc: 0.8584 - val_loss: 1.6559 - val_acc: 0.4851\n"
     ]
    }
   ],
   "source": [
    "model = build_mlp(input_shape=x_train.shape[1:])\n",
    "model.summary()\n",
    "optimizer = keras.optimizers.SGD(lr=LEARNING_RATE, nesterov=True, momentum=MOMENTUM)\n",
    "model.compile(loss=\"categorical_crossentropy\", metrics=[\"accuracy\"], optimizer=optimizer)\n",
    "\n",
    "model.fit(x_train, y_train, \n",
    "          epochs=EPOCHS, \n",
    "          batch_size=BATCH_SIZE, \n",
    "          validation_data=(x_test, y_test), \n",
    "          shuffle=True)\n",
    "\n",
    "# Collect results\n",
    "train_loss = model.history.history[\"loss\"]\n",
    "valid_loss = model.history.history[\"val_loss\"]\n",
    "train_acc = model.history.history[\"acc\"]\n",
    "valid_acc = model.history.history[\"val_acc\"]"
   ]
  },
  {
   "cell_type": "code",
   "execution_count": 8,
   "metadata": {},
   "outputs": [
    {
     "data": {
      "image/png": "[encoded data removed]",
      "text/plain": [
       "<Figure size 432x288 with 1 Axes>"
      ]
     },
     "metadata": {
      "needs_background": "light"
     },
     "output_type": "display_data"
    },
    {
     "data": {
      "image/png": "[encoded data removed]",
      "text/plain": [
       "<Figure size 432x288 with 1 Axes>"
      ]
     },
     "metadata": {
      "needs_background": "light"
     },
     "output_type": "display_data"
    }
   ],
   "source": [
    "import matplotlib.pyplot as plt\n",
    "%matplotlib inline\n",
    "\n",
    "plt.plot(range(len(train_loss)), train_loss, label=\"train loss\")\n",
    "plt.plot(range(len(valid_loss)), valid_loss, label=\"valid loss\")\n",
    "plt.legend()\n",
    "plt.title(\"Loss\")\n",
    "plt.show()\n",
    "\n",
    "plt.plot(range(len(train_acc)), train_acc, label=\"train accuracy\")\n",
    "plt.plot(range(len(valid_acc)), valid_acc, label=\"valid accuracy\")\n",
    "plt.legend()\n",
    "plt.title(\"Accuracy\")\n",
    "plt.show()"
   ]
  },
  {
   "cell_type": "markdown",
   "metadata": {},
   "source": [
    "## Work\n",
    "1. 試比較有 BN 在 Batch_size = 2, 16, 32, 128, 256 下的差異\n",
    "2. 請嘗試將 BN 放在 Activation 之前，並比較訓練結果\n",
    "3. 請於 BN 放在 Input Layer 後，並比較結果"
   ]
  }
 ],
 "metadata": {
  "kernelspec": {
   "display_name": "Python 3",
   "language": "python",
   "name": "python3"
  },
  "language_info": {
   "codemirror_mode": {
    "name": "ipython",
    "version": 3
   },
   "file_extension": ".py",
   "mimetype": "text/x-python",
   "name": "python",
   "nbconvert_exporter": "python",
   "pygments_lexer": "ipython3",
   "version": "3.7.1"
  }
 },
 "nbformat": 4,
 "nbformat_minor": 2
}
